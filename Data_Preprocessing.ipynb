{
 "cells": [
  {
   "cell_type": "code",
   "execution_count": 1,
   "metadata": {
    "ExecuteTime": {
     "end_time": "2021-02-25T21:13:10.263646Z",
     "start_time": "2021-02-25T21:13:08.775833Z"
    }
   },
   "outputs": [],
   "source": [
    "import pandas as pd\n",
    "import numpy as np\n",
    "from gensim.parsing.preprocessing import preprocess_string, remove_stopwords, strip_numeric, strip_punctuation, strip_short, stem_text"
   ]
  },
  {
   "cell_type": "markdown",
   "metadata": {},
   "source": [
    "# Preprocess 10-K filings"
   ]
  },
  {
   "cell_type": "code",
   "execution_count": 2,
   "metadata": {
    "ExecuteTime": {
     "end_time": "2021-02-25T21:15:28.428610Z",
     "start_time": "2021-02-25T21:13:28.344300Z"
    }
   },
   "outputs": [],
   "source": [
    "data_by_year = {}\n",
    "# Filing_Date is included because its (allegedly) useful for matching with the predictions. Also useful for \n",
    "# deciding what 1a/7 text is correct (by newness)\n",
    "relevant_cols = [\"cik\", \"ticker\", \"filing_date\", \"item1a_risk\", \"item7_mda\"]\n",
    "\n",
    "# Only load ^ columns. Drop if N/A in cik, item1a, or item7 or if duplicate. Append year\n",
    "for year in range(2009,2021):\n",
    "    data_by_year[year] = pd.read_csv(str(year) + \".csv\", usecols=relevant_cols)\n",
    "    data_by_year[year] = data_by_year[year].dropna(subset=['cik', 'item1a_risk', 'item7_mda']).drop_duplicates()\n",
    "    data_by_year[year][\"year\"] = year\n",
    "    data_by_year[year][\"filing_date\"] = pd.to_datetime(data_by_year[year][\"filing_date\"])"
   ]
  },
  {
   "cell_type": "code",
   "execution_count": 3,
   "metadata": {
    "ExecuteTime": {
     "end_time": "2021-02-25T21:15:43.706824Z",
     "start_time": "2021-02-25T21:15:28.432059Z"
    }
   },
   "outputs": [],
   "source": [
    "# Dirty logic for collapsing groups. Reformat as needed - currently pretty dumb\n",
    "def collapse_cik_groups(grp):\n",
    "    if len(grp) > 1:\n",
    "        \"\"\" If the 1a and 7 text is the same, take the most recent (regardless of ticker)\"\"\"\n",
    "        if (grp.iloc[0,3] == grp[\"item1a_risk\"]).all() and (grp.iloc[0,3] == grp[\"item7_mda\"]).all():\n",
    "            # Seems like its sorted by filing_date originally - just take the last\n",
    "            return grp.iloc[-1,:]\n",
    "        else:\n",
    "            \"\"\"For now, just return the most recent\"\"\"\n",
    "            return grp.iloc[-1,:]\n",
    "    else:\n",
    "        return grp.squeeze()\n",
    "\n",
    "for year in data_by_year.keys():\n",
    "    data_by_year[year] = data_by_year[year].groupby(\"cik\").apply(lambda grp: collapse_cik_groups(grp)).reset_index(drop=True)    "
   ]
  },
  {
   "cell_type": "code",
   "execution_count": 4,
   "metadata": {
    "ExecuteTime": {
     "end_time": "2021-02-25T21:15:43.811208Z",
     "start_time": "2021-02-25T21:15:43.711044Z"
    }
   },
   "outputs": [
    {
     "data": {
      "text/html": [
       "<div>\n",
       "<style scoped>\n",
       "    .dataframe tbody tr th:only-of-type {\n",
       "        vertical-align: middle;\n",
       "    }\n",
       "\n",
       "    .dataframe tbody tr th {\n",
       "        vertical-align: top;\n",
       "    }\n",
       "\n",
       "    .dataframe thead th {\n",
       "        text-align: right;\n",
       "    }\n",
       "</style>\n",
       "<table border=\"1\" class=\"dataframe\">\n",
       "  <thead>\n",
       "    <tr style=\"text-align: right;\">\n",
       "      <th></th>\n",
       "      <th>cik</th>\n",
       "      <th>ticker</th>\n",
       "      <th>filing_date</th>\n",
       "      <th>item1a_risk</th>\n",
       "      <th>item7_mda</th>\n",
       "      <th>year</th>\n",
       "    </tr>\n",
       "  </thead>\n",
       "  <tbody>\n",
       "    <tr>\n",
       "      <th>0</th>\n",
       "      <td>1750</td>\n",
       "      <td>AIR</td>\n",
       "      <td>2009-07-16</td>\n",
       "      <td>&gt; ITEM 1A. RISK FACTORS The following is a des...</td>\n",
       "      <td>&gt; ITEM 7. MANAGEMENT'S DISCUSSION AND ANALYSIS...</td>\n",
       "      <td>2009</td>\n",
       "    </tr>\n",
       "    <tr>\n",
       "      <th>1</th>\n",
       "      <td>2034</td>\n",
       "      <td>ACET</td>\n",
       "      <td>2009-09-11</td>\n",
       "      <td>&gt;Item 1A. Risk factors You should carefully co...</td>\n",
       "      <td>&gt;Item 7. Management s Discussion and Analysis ...</td>\n",
       "      <td>2009</td>\n",
       "    </tr>\n",
       "    <tr>\n",
       "      <th>2</th>\n",
       "      <td>2491</td>\n",
       "      <td>BYI</td>\n",
       "      <td>2009-08-20</td>\n",
       "      <td>&gt; ITEM 1A. RISK FACTORS Our business and inves...</td>\n",
       "      <td>&gt; ITEM 7. MANAGEMENT'S DISCUSSION AND ANALYSIS...</td>\n",
       "      <td>2009</td>\n",
       "    </tr>\n",
       "    <tr>\n",
       "      <th>3</th>\n",
       "      <td>2969</td>\n",
       "      <td>APD</td>\n",
       "      <td>2009-11-25</td>\n",
       "      <td>&gt;ITEM 1A. RISK FACTORS The Company operates in...</td>\n",
       "      <td>&gt;ITEM 7. MANAGEMENT S DISCUSSION AND ANALYSIS ...</td>\n",
       "      <td>2009</td>\n",
       "    </tr>\n",
       "    <tr>\n",
       "      <th>4</th>\n",
       "      <td>3545</td>\n",
       "      <td>ALCO</td>\n",
       "      <td>2009-12-14</td>\n",
       "      <td>&gt;Item 1A. Risk Factors. Alico s operations inv...</td>\n",
       "      <td>&gt;Item 7. Management s Discussion and Analysis ...</td>\n",
       "      <td>2009</td>\n",
       "    </tr>\n",
       "    <tr>\n",
       "      <th>...</th>\n",
       "      <td>...</td>\n",
       "      <td>...</td>\n",
       "      <td>...</td>\n",
       "      <td>...</td>\n",
       "      <td>...</td>\n",
       "      <td>...</td>\n",
       "    </tr>\n",
       "    <tr>\n",
       "      <th>36346</th>\n",
       "      <td>1796129</td>\n",
       "      <td>LSACU</td>\n",
       "      <td>2020-09-23</td>\n",
       "      <td>&gt;ITEM 1A. RISK FACTORS 13</td>\n",
       "      <td>&gt;ITEM 7. MANAGEMENT S DISCUSSION AND ANALYSIS ...</td>\n",
       "      <td>2020</td>\n",
       "    </tr>\n",
       "    <tr>\n",
       "      <th>36347</th>\n",
       "      <td>1796587</td>\n",
       "      <td>NO_TICKER</td>\n",
       "      <td>2020-05-21</td>\n",
       "      <td>&gt;Item 1A.Risk Factors.Item 2.Properties.</td>\n",
       "      <td>&gt;Item 7.Management's Discussion and Analysis o...</td>\n",
       "      <td>2020</td>\n",
       "    </tr>\n",
       "    <tr>\n",
       "      <th>36348</th>\n",
       "      <td>1797956</td>\n",
       "      <td>CPOW</td>\n",
       "      <td>2020-08-11</td>\n",
       "      <td>&gt;Item 1A. Risk Factors. We discuss our expecta...</td>\n",
       "      <td>&gt;Item 7. Management s Discussion and Analysis ...</td>\n",
       "      <td>2020</td>\n",
       "    </tr>\n",
       "    <tr>\n",
       "      <th>36349</th>\n",
       "      <td>1799186</td>\n",
       "      <td>NONE</td>\n",
       "      <td>2020-06-25</td>\n",
       "      <td>&gt;Item 1A, Risk Factors (c) Item 2, Properties ...</td>\n",
       "      <td>&gt;Item 7, Management s Discussion and Analysis ...</td>\n",
       "      <td>2020</td>\n",
       "    </tr>\n",
       "    <tr>\n",
       "      <th>36350</th>\n",
       "      <td>1808898</td>\n",
       "      <td>BNTC</td>\n",
       "      <td>2020-09-23</td>\n",
       "      <td>&gt;Item 1A. Risk Factors. Investing in our secur...</td>\n",
       "      <td>&gt;Item 7. Management s Discussion and Analysis ...</td>\n",
       "      <td>2020</td>\n",
       "    </tr>\n",
       "  </tbody>\n",
       "</table>\n",
       "<p>36351 rows × 6 columns</p>\n",
       "</div>"
      ],
      "text/plain": [
       "           cik     ticker filing_date  \\\n",
       "0         1750        AIR  2009-07-16   \n",
       "1         2034       ACET  2009-09-11   \n",
       "2         2491        BYI  2009-08-20   \n",
       "3         2969        APD  2009-11-25   \n",
       "4         3545       ALCO  2009-12-14   \n",
       "...        ...        ...         ...   \n",
       "36346  1796129      LSACU  2020-09-23   \n",
       "36347  1796587  NO_TICKER  2020-05-21   \n",
       "36348  1797956       CPOW  2020-08-11   \n",
       "36349  1799186       NONE  2020-06-25   \n",
       "36350  1808898       BNTC  2020-09-23   \n",
       "\n",
       "                                             item1a_risk  \\\n",
       "0      > ITEM 1A. RISK FACTORS The following is a des...   \n",
       "1      >Item 1A. Risk factors You should carefully co...   \n",
       "2      > ITEM 1A. RISK FACTORS Our business and inves...   \n",
       "3      >ITEM 1A. RISK FACTORS The Company operates in...   \n",
       "4      >Item 1A. Risk Factors. Alico s operations inv...   \n",
       "...                                                  ...   \n",
       "36346                         >ITEM 1A. RISK FACTORS 13    \n",
       "36347           >Item 1A.Risk Factors.Item 2.Properties.   \n",
       "36348  >Item 1A. Risk Factors. We discuss our expecta...   \n",
       "36349  >Item 1A, Risk Factors (c) Item 2, Properties ...   \n",
       "36350  >Item 1A. Risk Factors. Investing in our secur...   \n",
       "\n",
       "                                               item7_mda  year  \n",
       "0      > ITEM 7. MANAGEMENT'S DISCUSSION AND ANALYSIS...  2009  \n",
       "1      >Item 7. Management s Discussion and Analysis ...  2009  \n",
       "2      > ITEM 7. MANAGEMENT'S DISCUSSION AND ANALYSIS...  2009  \n",
       "3      >ITEM 7. MANAGEMENT S DISCUSSION AND ANALYSIS ...  2009  \n",
       "4      >Item 7. Management s Discussion and Analysis ...  2009  \n",
       "...                                                  ...   ...  \n",
       "36346  >ITEM 7. MANAGEMENT S DISCUSSION AND ANALYSIS ...  2020  \n",
       "36347  >Item 7.Management's Discussion and Analysis o...  2020  \n",
       "36348  >Item 7. Management s Discussion and Analysis ...  2020  \n",
       "36349  >Item 7, Management s Discussion and Analysis ...  2020  \n",
       "36350  >Item 7. Management s Discussion and Analysis ...  2020  \n",
       "\n",
       "[36351 rows x 6 columns]"
      ]
     },
     "execution_count": 4,
     "metadata": {},
     "output_type": "execute_result"
    }
   ],
   "source": [
    "# Concat all dataframes into a single one\n",
    "text_dfs = pd.concat(data_by_year.values(), ignore_index=True)\n",
    "del data_by_year\n",
    "text_dfs"
   ]
  },
  {
   "cell_type": "code",
   "execution_count": null,
   "metadata": {
    "ExecuteTime": {
     "start_time": "2021-02-25T21:13:39.268Z"
    }
   },
   "outputs": [],
   "source": [
    "# Text cleaning\n",
    "\n",
    "# strip_short/strip_numeric are questionable because there are lots of relevant financial terms that are short\n",
    "# Consider removing words that are rare across documents (appear < 4 times)\n",
    "# A single year takes about 7 minutes to process. In total = mins\n",
    "PREPROCESS_TEXT_FILTERS = [remove_stopwords, stem_text, lambda x: strip_short(x, minsize=3), strip_numeric, strip_punctuation]\n",
    "text_dfs[\"item1a_risk\"] = text_dfs[\"item1a_risk\"].apply(lambda txt: preprocess_string(txt, PREPROCESS_TEXT_FILTERS))\n",
    "text_dfs[\"item7_mda\"] = text_dfs[\"item7_mda\"].apply(lambda txt: preprocess_string(txt, PREPROCESS_TEXT_FILTERS))\n",
    "text_dfs"
   ]
  },
  {
   "cell_type": "markdown",
   "metadata": {},
   "source": [
    "# Load target data"
   ]
  },
  {
   "cell_type": "code",
   "execution_count": null,
   "metadata": {
    "ExecuteTime": {
     "end_time": "2021-02-25T20:12:15.629191Z",
     "start_time": "2021-02-25T20:11:59.027102Z"
    }
   },
   "outputs": [],
   "source": [
    "# Load predictions\n",
    "\n",
    "relevant_cols = [\"PERMID\", \"CIK\", \"Ticker\", \"year\", \"FilingDate\", \"company_name\", \"Dividend Payer\", \"DPS growth\", \"DPS cut\", \"zEnvironmental\", \"dEnvironmental\", \"sector\"]\n",
    "predictions = pd.read_excel(\"predictions.xlsx\", sheet_name=\"data\", skiprows=32, usecols=relevant_cols)\n",
    "predictions.columns = [\"perm_id\", \"cik\", \"ticker\", \"year\", \"filing_date\", \"company_name\", \"is_dividend_payer\", \"dps_change\", \"is_dps_cut\", \"z_environmental\", \"d_environmental\", \"sector\"]\n",
    "predictions['perm_id'] = predictions['perm_id'].str.replace(r\"[^0-9]\",'')\n",
    "predictions[\"filing_date\"] = pd.to_datetime(predictions[\"filing_date\"])\n",
    "\n",
    "\"\"\" Difference in filing_date and the year (ticker AA  has 2016 w/ 2017 filing)\"\"\"\n",
    "predictions"
   ]
  },
  {
   "cell_type": "markdown",
   "metadata": {},
   "source": [
    "# Merge Data, Write to disk"
   ]
  },
  {
   "cell_type": "code",
   "execution_count": null,
   "metadata": {
    "ExecuteTime": {
     "end_time": "2021-02-25T20:14:42.912597Z",
     "start_time": "2021-02-25T20:14:42.889410Z"
    }
   },
   "outputs": [],
   "source": [
    "result = pd.merge(text_dfs, predictions, on=[\"cik\", \"year\"])\n",
    "result.head()"
   ]
  },
  {
   "cell_type": "code",
   "execution_count": null,
   "metadata": {},
   "outputs": [],
   "source": [
    "# Just taking some metrics before freeing up data\n",
    "num_pred = float(len(predictions))\n",
    "num_text = float(len(text_dfs))\n",
    "\n",
    "del predictions\n",
    "del text_dfs"
   ]
  },
  {
   "cell_type": "code",
   "execution_count": null,
   "metadata": {
    "ExecuteTime": {
     "end_time": "2021-02-25T20:24:14.700339Z",
     "start_time": "2021-02-25T20:24:14.683655Z"
    }
   },
   "outputs": [],
   "source": [
    "\"\"\" Relevant statistics post merge \"\"\"\n",
    "num_result = float(len(result))\n",
    "num_text_lost = num_result - num_text\n",
    "num_pred_lost = num_result - num_pred\n",
    "\n",
    "ticker_mismatch = result[\"ticker_x\"] != result[\"ticker_y\"]\n",
    "filing_date_mismatch = result[\"filing_date_x\"] != result[\"filing_date_y\"]\n",
    "ticker_and_filing_mismatch = ticker_mismatch & filing_date_mismatch\n",
    "ticker_or_filing_mismatch = ticker_mismatch | filing_date_mismatch\n",
    "\n",
    "display(\"# and % of 10-K filings lost: ({:n},{:.0%})\".format(num_text_lost, num_text_lost/ num_text))\n",
    "display(\"# and % of stock events lost: ({:n},{:.0%})\".format(num_pred_lost, num_pred_lost / num_pred))\n",
    "display(\"# and % of ticker mismatches: ({:n},{:.0%})\".format(ticker_mismatch.sum(), float(ticker_mismatch.sum()) / num_result))\n",
    "display(\"# and % of filing date mismatches: ({:n},{:.0%})\".format(filing_date_mismatch.sum(), float(filing_date_mismatch.sum()) / num_result))\n",
    "display(\"# and % of ticker and filing date mismatches: ({:n},{:.0%})\".format(ticker_and_filing_mismatch.sum(), float(ticker_and_filing_mismatch.sum()) / num_result))\n",
    "display(\"# and % of ticker or filing date mismatches: ({:n},{:.0%})\".format(ticker_or_filing_mismatch.sum(), float(ticker_or_filing_mismatch.sum()) / num_result))"
   ]
  },
  {
   "cell_type": "code",
   "execution_count": null,
   "metadata": {},
   "outputs": [],
   "source": [
    "# We can conduct analysis by filtering by either cik (by company), or by year\n",
    "result.drop(columns=[\"ticker_x\", \"filing_date_x\", \"ticker_y\", \"filing_date_y\", \"cik\"], inplace=True)\n",
    "result.head(5)"
   ]
  },
  {
   "cell_type": "code",
   "execution_count": null,
   "metadata": {},
   "outputs": [],
   "source": [
    "result.write_csv(\"processed_data.csv\")"
   ]
  }
 ],
 "metadata": {
  "kernelspec": {
   "display_name": "Python 3",
   "language": "python",
   "name": "python3"
  },
  "language_info": {
   "codemirror_mode": {
    "name": "ipython",
    "version": 3
   },
   "file_extension": ".py",
   "mimetype": "text/x-python",
   "name": "python",
   "nbconvert_exporter": "python",
   "pygments_lexer": "ipython3",
   "version": "3.8.5"
  }
 },
 "nbformat": 4,
 "nbformat_minor": 4
}
