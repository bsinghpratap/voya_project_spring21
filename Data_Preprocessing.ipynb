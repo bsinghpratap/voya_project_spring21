{
 "cells": [
  {
   "cell_type": "code",
   "execution_count": 1,
   "metadata": {
    "ExecuteTime": {
     "end_time": "2021-03-08T04:43:57.467953Z",
     "start_time": "2021-03-08T04:43:55.721241Z"
    }
   },
   "outputs": [],
   "source": [
    "import pandas as pd\n",
    "import numpy as np\n",
    "from gensim.parsing.preprocessing import preprocess_string, remove_stopwords, strip_numeric, strip_punctuation, strip_short, stem_text\n",
    "import matplotlib.pyplot as plt\n",
    "import seaborn as sns"
   ]
  },
  {
   "cell_type": "markdown",
   "metadata": {},
   "source": [
    "# Preprocess 10-K filings"
   ]
  },
  {
   "cell_type": "code",
   "execution_count": 2,
   "metadata": {
    "ExecuteTime": {
     "end_time": "2021-03-08T04:45:57.459128Z",
     "start_time": "2021-03-08T04:43:57.719063Z"
    }
   },
   "outputs": [],
   "source": [
    "data_by_year = {}\n",
    "# Filing_Date is included because its (allegedly) useful for matching with the predictions. Also useful for \n",
    "# deciding what 1a/7 text is correct (by newness)\n",
    "relevant_cols = [\"cik\", \"ticker\", \"filing_date\", \"item1a_risk\", \"item7_mda\"]\n",
    "path = \"../Files/\"\n",
    "\n",
    "# Only load ^ columns. Drop if N/A in cik, item1a, or item7 or if duplicate. Append year\n",
    "for year in range(2009,2021):\n",
    "    data_by_year[year] = pd.read_csv(path + str(year) + \".csv\", usecols=relevant_cols)\n",
    "    data_by_year[year] = data_by_year[year].dropna(subset=['cik', 'item1a_risk', 'item7_mda']).drop_duplicates()\n",
    "    data_by_year[year][\"filing_date\"] = pd.to_datetime(data_by_year[year][\"filing_date\"])\n",
    "    data_by_year[year][\"year\"] = year\n",
    "    data_by_year[year][\"filing_year\"] =  pd.DatetimeIndex(data_by_year[year][\"filing_date\"]).year"
   ]
  },
  {
   "cell_type": "code",
   "execution_count": 3,
   "metadata": {
    "ExecuteTime": {
     "end_time": "2021-03-08T04:46:13.892174Z",
     "start_time": "2021-03-08T04:45:57.463308Z"
    }
   },
   "outputs": [],
   "source": [
    "# Dirty logic for collapsing groups. Reformat as needed - currently pretty dumb\n",
    "def collapse_cik_groups(grp):\n",
    "    if len(grp) > 1:\n",
    "        \"\"\" If the 1a and 7 text is the same, take the most recent (regardless of ticker)\"\"\"\n",
    "        if (grp.iloc[0,3] == grp[\"item1a_risk\"]).all() and (grp.iloc[0,3] == grp[\"item7_mda\"]).all():\n",
    "            # Seems like its sorted by filing_date originally - just take the last\n",
    "            return grp.iloc[-1,:]\n",
    "        else:\n",
    "            \"\"\"For now, just return the most recent\"\"\"\n",
    "            return grp.iloc[-1,:]\n",
    "    else:\n",
    "        return grp.squeeze()\n",
    "\n",
    "pre_grouping_sizes = []\n",
    "post_grouping_sizes = []\n",
    "\n",
    "for year in range(2009,2021):\n",
    "    pre_grouping_sizes.append(len(data_by_year[year]))\n",
    "    data_by_year[year] = data_by_year[year].groupby(\"cik\").apply(lambda grp: collapse_cik_groups(grp)).reset_index(drop=True)\n",
    "    post_grouping_sizes.append(len(data_by_year[year])) "
   ]
  },
  {
   "cell_type": "code",
   "execution_count": 4,
   "metadata": {
    "ExecuteTime": {
     "end_time": "2021-03-08T04:46:13.935424Z",
     "start_time": "2021-03-08T04:46:13.895695Z"
    }
   },
   "outputs": [
    {
     "data": {
      "text/plain": [
       "'2009 lost 2%, 14 rows total'"
      ]
     },
     "metadata": {},
     "output_type": "display_data"
    },
    {
     "data": {
      "text/plain": [
       "'2010 lost 2%, 51 rows total'"
      ]
     },
     "metadata": {},
     "output_type": "display_data"
    },
    {
     "data": {
      "text/plain": [
       "'2011 lost 2%, 58 rows total'"
      ]
     },
     "metadata": {},
     "output_type": "display_data"
    },
    {
     "data": {
      "text/plain": [
       "'2012 lost 2%, 56 rows total'"
      ]
     },
     "metadata": {},
     "output_type": "display_data"
    },
    {
     "data": {
      "text/plain": [
       "'2013 lost 2%, 60 rows total'"
      ]
     },
     "metadata": {},
     "output_type": "display_data"
    },
    {
     "data": {
      "text/plain": [
       "'2014 lost 2%, 68 rows total'"
      ]
     },
     "metadata": {},
     "output_type": "display_data"
    },
    {
     "data": {
      "text/plain": [
       "'2015 lost 2%, 76 rows total'"
      ]
     },
     "metadata": {},
     "output_type": "display_data"
    },
    {
     "data": {
      "text/plain": [
       "'2016 lost 2%, 73 rows total'"
      ]
     },
     "metadata": {},
     "output_type": "display_data"
    },
    {
     "data": {
      "text/plain": [
       "'2017 lost 2%, 83 rows total'"
      ]
     },
     "metadata": {},
     "output_type": "display_data"
    },
    {
     "data": {
      "text/plain": [
       "'2018 lost 2%, 86 rows total'"
      ]
     },
     "metadata": {},
     "output_type": "display_data"
    },
    {
     "data": {
      "text/plain": [
       "'2019 lost 3%, 87 rows total'"
      ]
     },
     "metadata": {},
     "output_type": "display_data"
    },
    {
     "data": {
      "text/plain": [
       "'2020 lost 3%, 62 rows total'"
      ]
     },
     "metadata": {},
     "output_type": "display_data"
    },
    {
     "data": {
      "text/plain": [
       "'In total lost 2%, 774 rows total'"
      ]
     },
     "metadata": {},
     "output_type": "display_data"
    }
   ],
   "source": [
    "for pre_size, post_size, year in zip(pre_grouping_sizes, post_grouping_sizes, list(range(2009,2021))):\n",
    "    num_lost = pre_size - post_size\n",
    "    percent_lost = float(num_lost) / float(pre_size)\n",
    "    display(\"{:n} lost {:.0%}, {} rows total\".format(year, percent_lost, num_lost))\n",
    "\n",
    "num_lost = sum(pre_grouping_sizes) - sum(post_grouping_sizes)\n",
    "percent_lost = float(num_lost) / float(sum(pre_grouping_sizes))\n",
    "display(\"In total lost {:.0%}, {} rows total\".format(percent_lost, num_lost))"
   ]
  },
  {
   "cell_type": "code",
   "execution_count": 5,
   "metadata": {
    "ExecuteTime": {
     "end_time": "2021-03-08T04:46:14.023482Z",
     "start_time": "2021-03-08T04:46:13.940327Z"
    }
   },
   "outputs": [
    {
     "data": {
      "text/html": [
       "<div>\n",
       "<style scoped>\n",
       "    .dataframe tbody tr th:only-of-type {\n",
       "        vertical-align: middle;\n",
       "    }\n",
       "\n",
       "    .dataframe tbody tr th {\n",
       "        vertical-align: top;\n",
       "    }\n",
       "\n",
       "    .dataframe thead th {\n",
       "        text-align: right;\n",
       "    }\n",
       "</style>\n",
       "<table border=\"1\" class=\"dataframe\">\n",
       "  <thead>\n",
       "    <tr style=\"text-align: right;\">\n",
       "      <th></th>\n",
       "      <th>cik</th>\n",
       "      <th>ticker</th>\n",
       "      <th>filing_date</th>\n",
       "      <th>item1a_risk</th>\n",
       "      <th>item7_mda</th>\n",
       "      <th>year</th>\n",
       "      <th>filing_year</th>\n",
       "    </tr>\n",
       "  </thead>\n",
       "  <tbody>\n",
       "    <tr>\n",
       "      <th>0</th>\n",
       "      <td>1750</td>\n",
       "      <td>AIR</td>\n",
       "      <td>2009-07-16</td>\n",
       "      <td>&gt; ITEM 1A. RISK FACTORS The following is a des...</td>\n",
       "      <td>&gt; ITEM 7. MANAGEMENT'S DISCUSSION AND ANALYSIS...</td>\n",
       "      <td>2009</td>\n",
       "      <td>2009</td>\n",
       "    </tr>\n",
       "    <tr>\n",
       "      <th>1</th>\n",
       "      <td>2034</td>\n",
       "      <td>ACET</td>\n",
       "      <td>2009-09-11</td>\n",
       "      <td>&gt;Item 1A. Risk factors You should carefully co...</td>\n",
       "      <td>&gt;Item 7. Management s Discussion and Analysis ...</td>\n",
       "      <td>2009</td>\n",
       "      <td>2009</td>\n",
       "    </tr>\n",
       "    <tr>\n",
       "      <th>2</th>\n",
       "      <td>2491</td>\n",
       "      <td>BYI</td>\n",
       "      <td>2009-08-20</td>\n",
       "      <td>&gt; ITEM 1A. RISK FACTORS Our business and inves...</td>\n",
       "      <td>&gt; ITEM 7. MANAGEMENT'S DISCUSSION AND ANALYSIS...</td>\n",
       "      <td>2009</td>\n",
       "      <td>2009</td>\n",
       "    </tr>\n",
       "    <tr>\n",
       "      <th>3</th>\n",
       "      <td>2969</td>\n",
       "      <td>APD</td>\n",
       "      <td>2009-11-25</td>\n",
       "      <td>&gt;ITEM 1A. RISK FACTORS The Company operates in...</td>\n",
       "      <td>&gt;ITEM 7. MANAGEMENT S DISCUSSION AND ANALYSIS ...</td>\n",
       "      <td>2009</td>\n",
       "      <td>2009</td>\n",
       "    </tr>\n",
       "    <tr>\n",
       "      <th>4</th>\n",
       "      <td>3545</td>\n",
       "      <td>ALCO</td>\n",
       "      <td>2009-12-14</td>\n",
       "      <td>&gt;Item 1A. Risk Factors. Alico s operations inv...</td>\n",
       "      <td>&gt;Item 7. Management s Discussion and Analysis ...</td>\n",
       "      <td>2009</td>\n",
       "      <td>2009</td>\n",
       "    </tr>\n",
       "    <tr>\n",
       "      <th>...</th>\n",
       "      <td>...</td>\n",
       "      <td>...</td>\n",
       "      <td>...</td>\n",
       "      <td>...</td>\n",
       "      <td>...</td>\n",
       "      <td>...</td>\n",
       "      <td>...</td>\n",
       "    </tr>\n",
       "    <tr>\n",
       "      <th>36346</th>\n",
       "      <td>1796129</td>\n",
       "      <td>LSACU</td>\n",
       "      <td>2020-09-23</td>\n",
       "      <td>&gt;ITEM 1A. RISK FACTORS 13</td>\n",
       "      <td>&gt;ITEM 7. MANAGEMENT S DISCUSSION AND ANALYSIS ...</td>\n",
       "      <td>2020</td>\n",
       "      <td>2020</td>\n",
       "    </tr>\n",
       "    <tr>\n",
       "      <th>36347</th>\n",
       "      <td>1796587</td>\n",
       "      <td>NO_TICKER</td>\n",
       "      <td>2020-05-21</td>\n",
       "      <td>&gt;Item 1A.Risk Factors.Item 2.Properties.</td>\n",
       "      <td>&gt;Item 7.Management's Discussion and Analysis o...</td>\n",
       "      <td>2020</td>\n",
       "      <td>2020</td>\n",
       "    </tr>\n",
       "    <tr>\n",
       "      <th>36348</th>\n",
       "      <td>1797956</td>\n",
       "      <td>CPOW</td>\n",
       "      <td>2020-08-11</td>\n",
       "      <td>&gt;Item 1A. Risk Factors. We discuss our expecta...</td>\n",
       "      <td>&gt;Item 7. Management s Discussion and Analysis ...</td>\n",
       "      <td>2020</td>\n",
       "      <td>2020</td>\n",
       "    </tr>\n",
       "    <tr>\n",
       "      <th>36349</th>\n",
       "      <td>1799186</td>\n",
       "      <td>NONE</td>\n",
       "      <td>2020-06-25</td>\n",
       "      <td>&gt;Item 1A, Risk Factors (c) Item 2, Properties ...</td>\n",
       "      <td>&gt;Item 7, Management s Discussion and Analysis ...</td>\n",
       "      <td>2020</td>\n",
       "      <td>2020</td>\n",
       "    </tr>\n",
       "    <tr>\n",
       "      <th>36350</th>\n",
       "      <td>1808898</td>\n",
       "      <td>BNTC</td>\n",
       "      <td>2020-09-23</td>\n",
       "      <td>&gt;Item 1A. Risk Factors. Investing in our secur...</td>\n",
       "      <td>&gt;Item 7. Management s Discussion and Analysis ...</td>\n",
       "      <td>2020</td>\n",
       "      <td>2020</td>\n",
       "    </tr>\n",
       "  </tbody>\n",
       "</table>\n",
       "<p>36351 rows × 7 columns</p>\n",
       "</div>"
      ],
      "text/plain": [
       "           cik     ticker filing_date  \\\n",
       "0         1750        AIR  2009-07-16   \n",
       "1         2034       ACET  2009-09-11   \n",
       "2         2491        BYI  2009-08-20   \n",
       "3         2969        APD  2009-11-25   \n",
       "4         3545       ALCO  2009-12-14   \n",
       "...        ...        ...         ...   \n",
       "36346  1796129      LSACU  2020-09-23   \n",
       "36347  1796587  NO_TICKER  2020-05-21   \n",
       "36348  1797956       CPOW  2020-08-11   \n",
       "36349  1799186       NONE  2020-06-25   \n",
       "36350  1808898       BNTC  2020-09-23   \n",
       "\n",
       "                                             item1a_risk  \\\n",
       "0      > ITEM 1A. RISK FACTORS The following is a des...   \n",
       "1      >Item 1A. Risk factors You should carefully co...   \n",
       "2      > ITEM 1A. RISK FACTORS Our business and inves...   \n",
       "3      >ITEM 1A. RISK FACTORS The Company operates in...   \n",
       "4      >Item 1A. Risk Factors. Alico s operations inv...   \n",
       "...                                                  ...   \n",
       "36346                         >ITEM 1A. RISK FACTORS 13    \n",
       "36347           >Item 1A.Risk Factors.Item 2.Properties.   \n",
       "36348  >Item 1A. Risk Factors. We discuss our expecta...   \n",
       "36349  >Item 1A, Risk Factors (c) Item 2, Properties ...   \n",
       "36350  >Item 1A. Risk Factors. Investing in our secur...   \n",
       "\n",
       "                                               item7_mda  year  filing_year  \n",
       "0      > ITEM 7. MANAGEMENT'S DISCUSSION AND ANALYSIS...  2009         2009  \n",
       "1      >Item 7. Management s Discussion and Analysis ...  2009         2009  \n",
       "2      > ITEM 7. MANAGEMENT'S DISCUSSION AND ANALYSIS...  2009         2009  \n",
       "3      >ITEM 7. MANAGEMENT S DISCUSSION AND ANALYSIS ...  2009         2009  \n",
       "4      >Item 7. Management s Discussion and Analysis ...  2009         2009  \n",
       "...                                                  ...   ...          ...  \n",
       "36346  >ITEM 7. MANAGEMENT S DISCUSSION AND ANALYSIS ...  2020         2020  \n",
       "36347  >Item 7.Management's Discussion and Analysis o...  2020         2020  \n",
       "36348  >Item 7. Management s Discussion and Analysis ...  2020         2020  \n",
       "36349  >Item 7, Management s Discussion and Analysis ...  2020         2020  \n",
       "36350  >Item 7. Management s Discussion and Analysis ...  2020         2020  \n",
       "\n",
       "[36351 rows x 7 columns]"
      ]
     },
     "execution_count": 5,
     "metadata": {},
     "output_type": "execute_result"
    }
   ],
   "source": [
    "# Concat all dataframes into a single one\n",
    "text_dfs = pd.concat(data_by_year.values(), ignore_index=True)\n",
    "text_dfs"
   ]
  },
  {
   "cell_type": "raw",
   "metadata": {
    "ExecuteTime": {
     "end_time": "2021-03-01T18:29:52.667694Z",
     "start_time": "2021-03-01T18:16:05.590756Z"
    }
   },
   "source": [
    "# Text cleaning\n",
    "\n",
    "# strip_short/strip_numeric are questionable because there are lots of relevant financial terms that are short\n",
    "# Consider removing words that are rare across documents (appear < 4 times)\n",
    "# A single year takes about 7 minutes to process. In total = mins\n",
    "#PREPROCESS_TEXT_FILTERS = [strip_punctuation, remove_stopwords, strip_numeric, stem_text, lambda x: strip_short(x, minsize=3)]\n",
    "PREPROCESS_TEXT_FILTERS = [remove_stopwords, stem_text]\n",
    "text_dfs[\"item1a_risk\"] = text_dfs[\"item1a_risk\"].apply(lambda txt: preprocess_string(txt, PREPROCESS_TEXT_FILTERS))\n",
    "text_dfs[\"item7_mda\"] = text_dfs[\"item7_mda\"].apply(lambda txt: preprocess_string(txt, PREPROCESS_TEXT_FILTERS))\n",
    "text_dfs"
   ]
  },
  {
   "cell_type": "markdown",
   "metadata": {},
   "source": [
    "# Load target data"
   ]
  },
  {
   "cell_type": "code",
   "execution_count": 6,
   "metadata": {
    "ExecuteTime": {
     "end_time": "2021-03-08T04:46:27.584080Z",
     "start_time": "2021-03-08T04:46:14.026747Z"
    }
   },
   "outputs": [
    {
     "data": {
      "text/html": [
       "<div>\n",
       "<style scoped>\n",
       "    .dataframe tbody tr th:only-of-type {\n",
       "        vertical-align: middle;\n",
       "    }\n",
       "\n",
       "    .dataframe tbody tr th {\n",
       "        vertical-align: top;\n",
       "    }\n",
       "\n",
       "    .dataframe thead th {\n",
       "        text-align: right;\n",
       "    }\n",
       "</style>\n",
       "<table border=\"1\" class=\"dataframe\">\n",
       "  <thead>\n",
       "    <tr style=\"text-align: right;\">\n",
       "      <th></th>\n",
       "      <th>perm_id</th>\n",
       "      <th>cik</th>\n",
       "      <th>ticker</th>\n",
       "      <th>year</th>\n",
       "      <th>filing_date</th>\n",
       "      <th>company_name</th>\n",
       "      <th>is_dividend_payer</th>\n",
       "      <th>dps_change</th>\n",
       "      <th>is_dps_cut</th>\n",
       "      <th>z_environmental</th>\n",
       "      <th>d_environmental</th>\n",
       "      <th>sector</th>\n",
       "      <th>filing_year</th>\n",
       "    </tr>\n",
       "  </thead>\n",
       "  <tbody>\n",
       "    <tr>\n",
       "      <th>0</th>\n",
       "      <td>229</td>\n",
       "      <td>1090872</td>\n",
       "      <td>A</td>\n",
       "      <td>2012</td>\n",
       "      <td>2012-12-20</td>\n",
       "      <td>AGILENT TECHNOLOGIES INC</td>\n",
       "      <td>1.0</td>\n",
       "      <td>0.421053</td>\n",
       "      <td>0.0</td>\n",
       "      <td>2.449925</td>\n",
       "      <td>-1.408006</td>\n",
       "      <td>Health Care</td>\n",
       "      <td>2012</td>\n",
       "    </tr>\n",
       "    <tr>\n",
       "      <th>1</th>\n",
       "      <td>229</td>\n",
       "      <td>1090872</td>\n",
       "      <td>A</td>\n",
       "      <td>2013</td>\n",
       "      <td>2013-12-19</td>\n",
       "      <td>AGILENT TECHNOLOGIES INC</td>\n",
       "      <td>1.0</td>\n",
       "      <td>0.137652</td>\n",
       "      <td>0.0</td>\n",
       "      <td>1.666993</td>\n",
       "      <td>1.117957</td>\n",
       "      <td>Health Care</td>\n",
       "      <td>2013</td>\n",
       "    </tr>\n",
       "    <tr>\n",
       "      <th>2</th>\n",
       "      <td>229</td>\n",
       "      <td>1090872</td>\n",
       "      <td>A</td>\n",
       "      <td>2014</td>\n",
       "      <td>2014-12-22</td>\n",
       "      <td>AGILENT TECHNOLOGIES INC</td>\n",
       "      <td>1.0</td>\n",
       "      <td>-0.275862</td>\n",
       "      <td>1.0</td>\n",
       "      <td>2.154238</td>\n",
       "      <td>-0.193752</td>\n",
       "      <td>Health Care</td>\n",
       "      <td>2014</td>\n",
       "    </tr>\n",
       "    <tr>\n",
       "      <th>3</th>\n",
       "      <td>229</td>\n",
       "      <td>1090872</td>\n",
       "      <td>A</td>\n",
       "      <td>2015</td>\n",
       "      <td>2015-12-21</td>\n",
       "      <td>AGILENT TECHNOLOGIES INC</td>\n",
       "      <td>1.0</td>\n",
       "      <td>0.139535</td>\n",
       "      <td>0.0</td>\n",
       "      <td>2.069083</td>\n",
       "      <td>0.039619</td>\n",
       "      <td>Health Care</td>\n",
       "      <td>2015</td>\n",
       "    </tr>\n",
       "    <tr>\n",
       "      <th>4</th>\n",
       "      <td>229</td>\n",
       "      <td>1090872</td>\n",
       "      <td>A</td>\n",
       "      <td>2016</td>\n",
       "      <td>2016-12-20</td>\n",
       "      <td>AGILENT TECHNOLOGIES INC</td>\n",
       "      <td>1.0</td>\n",
       "      <td>0.137652</td>\n",
       "      <td>0.0</td>\n",
       "      <td>2.087030</td>\n",
       "      <td>-0.112717</td>\n",
       "      <td>Health Care</td>\n",
       "      <td>2016</td>\n",
       "    </tr>\n",
       "    <tr>\n",
       "      <th>...</th>\n",
       "      <td>...</td>\n",
       "      <td>...</td>\n",
       "      <td>...</td>\n",
       "      <td>...</td>\n",
       "      <td>...</td>\n",
       "      <td>...</td>\n",
       "      <td>...</td>\n",
       "      <td>...</td>\n",
       "      <td>...</td>\n",
       "      <td>...</td>\n",
       "      <td>...</td>\n",
       "      <td>...</td>\n",
       "      <td>...</td>\n",
       "    </tr>\n",
       "    <tr>\n",
       "      <th>27030</th>\n",
       "      <td>3286</td>\n",
       "      <td>1011006</td>\n",
       "      <td>YHOO</td>\n",
       "      <td>2015</td>\n",
       "      <td>2016-02-29</td>\n",
       "      <td>ALTABA INC</td>\n",
       "      <td>0.0</td>\n",
       "      <td>NaN</td>\n",
       "      <td>NaN</td>\n",
       "      <td>-0.180481</td>\n",
       "      <td>-1.653875</td>\n",
       "      <td>Consumer</td>\n",
       "      <td>2016</td>\n",
       "    </tr>\n",
       "    <tr>\n",
       "      <th>27031</th>\n",
       "      <td>3286</td>\n",
       "      <td>1011006</td>\n",
       "      <td>YHOO</td>\n",
       "      <td>2016</td>\n",
       "      <td>2017-03-01</td>\n",
       "      <td>ALTABA INC</td>\n",
       "      <td>0.0</td>\n",
       "      <td>NaN</td>\n",
       "      <td>NaN</td>\n",
       "      <td>-0.836055</td>\n",
       "      <td>NaN</td>\n",
       "      <td>Consumer</td>\n",
       "      <td>2017</td>\n",
       "    </tr>\n",
       "    <tr>\n",
       "      <th>27032</th>\n",
       "      <td>2000</td>\n",
       "      <td>887568</td>\n",
       "      <td>ZOLL</td>\n",
       "      <td>2010</td>\n",
       "      <td>2010-12-17</td>\n",
       "      <td>ZOLL MEDICAL CORP</td>\n",
       "      <td>0.0</td>\n",
       "      <td>NaN</td>\n",
       "      <td>NaN</td>\n",
       "      <td>NaN</td>\n",
       "      <td>NaN</td>\n",
       "      <td>Health Care</td>\n",
       "      <td>2010</td>\n",
       "    </tr>\n",
       "    <tr>\n",
       "      <th>27033</th>\n",
       "      <td>2000</td>\n",
       "      <td>887568</td>\n",
       "      <td>ZOLL</td>\n",
       "      <td>2011</td>\n",
       "      <td>2011-11-23</td>\n",
       "      <td>ZOLL MEDICAL CORP</td>\n",
       "      <td>0.0</td>\n",
       "      <td>NaN</td>\n",
       "      <td>NaN</td>\n",
       "      <td>NaN</td>\n",
       "      <td>NaN</td>\n",
       "      <td>Health Care</td>\n",
       "      <td>2011</td>\n",
       "    </tr>\n",
       "    <tr>\n",
       "      <th>27034</th>\n",
       "      <td>1205</td>\n",
       "      <td>1003022</td>\n",
       "      <td>ZRAN</td>\n",
       "      <td>2010</td>\n",
       "      <td>2011-03-07</td>\n",
       "      <td>ZORAN CORP</td>\n",
       "      <td>0.0</td>\n",
       "      <td>NaN</td>\n",
       "      <td>NaN</td>\n",
       "      <td>NaN</td>\n",
       "      <td>NaN</td>\n",
       "      <td>Tech</td>\n",
       "      <td>2011</td>\n",
       "    </tr>\n",
       "  </tbody>\n",
       "</table>\n",
       "<p>27035 rows × 13 columns</p>\n",
       "</div>"
      ],
      "text/plain": [
       "      perm_id      cik ticker  year filing_date              company_name  \\\n",
       "0         229  1090872      A  2012  2012-12-20  AGILENT TECHNOLOGIES INC   \n",
       "1         229  1090872      A  2013  2013-12-19  AGILENT TECHNOLOGIES INC   \n",
       "2         229  1090872      A  2014  2014-12-22  AGILENT TECHNOLOGIES INC   \n",
       "3         229  1090872      A  2015  2015-12-21  AGILENT TECHNOLOGIES INC   \n",
       "4         229  1090872      A  2016  2016-12-20  AGILENT TECHNOLOGIES INC   \n",
       "...       ...      ...    ...   ...         ...                       ...   \n",
       "27030    3286  1011006   YHOO  2015  2016-02-29                ALTABA INC   \n",
       "27031    3286  1011006   YHOO  2016  2017-03-01                ALTABA INC   \n",
       "27032    2000   887568   ZOLL  2010  2010-12-17         ZOLL MEDICAL CORP   \n",
       "27033    2000   887568   ZOLL  2011  2011-11-23         ZOLL MEDICAL CORP   \n",
       "27034    1205  1003022   ZRAN  2010  2011-03-07                ZORAN CORP   \n",
       "\n",
       "       is_dividend_payer  dps_change  is_dps_cut  z_environmental  \\\n",
       "0                    1.0    0.421053         0.0         2.449925   \n",
       "1                    1.0    0.137652         0.0         1.666993   \n",
       "2                    1.0   -0.275862         1.0         2.154238   \n",
       "3                    1.0    0.139535         0.0         2.069083   \n",
       "4                    1.0    0.137652         0.0         2.087030   \n",
       "...                  ...         ...         ...              ...   \n",
       "27030                0.0         NaN         NaN        -0.180481   \n",
       "27031                0.0         NaN         NaN        -0.836055   \n",
       "27032                0.0         NaN         NaN              NaN   \n",
       "27033                0.0         NaN         NaN              NaN   \n",
       "27034                0.0         NaN         NaN              NaN   \n",
       "\n",
       "       d_environmental       sector  filing_year  \n",
       "0            -1.408006  Health Care         2012  \n",
       "1             1.117957  Health Care         2013  \n",
       "2            -0.193752  Health Care         2014  \n",
       "3             0.039619  Health Care         2015  \n",
       "4            -0.112717  Health Care         2016  \n",
       "...                ...          ...          ...  \n",
       "27030        -1.653875     Consumer         2016  \n",
       "27031              NaN     Consumer         2017  \n",
       "27032              NaN  Health Care         2010  \n",
       "27033              NaN  Health Care         2011  \n",
       "27034              NaN         Tech         2011  \n",
       "\n",
       "[27035 rows x 13 columns]"
      ]
     },
     "execution_count": 6,
     "metadata": {},
     "output_type": "execute_result"
    }
   ],
   "source": [
    "# Load predictions\n",
    "\n",
    "relevant_cols = [\"PERMID\", \"CIK\", \"Ticker\", \"year\", \"FilingDate\", \"company_name\", \"Dividend Payer\", \"DPS growth\", \"DPS cut\", \"zEnvironmental\", \"dEnvironmental\", \"sector\"]\n",
    "predictions = pd.read_excel(path + \"predictions.xlsx\", sheet_name=\"data\", skiprows=32, usecols=relevant_cols)\n",
    "predictions.columns = [\"perm_id\", \"cik\", \"ticker\", \"year\", \"filing_date\", \"company_name\", \"is_dividend_payer\", \"dps_change\", \"is_dps_cut\", \"z_environmental\", \"d_environmental\", \"sector\"]\n",
    "predictions['perm_id'] = predictions['perm_id'].str.replace(r\"[^0-9]\",'')\n",
    "predictions[\"filing_date\"] = pd.to_datetime(predictions[\"filing_date\"])\n",
    "predictions[\"filing_year\"] = pd.DatetimeIndex(predictions[\"filing_date\"]).year\n",
    "\n",
    "\"\"\" Difference in filing_date and the year (ticker AA  has 2016 w/ 2017 filing)\"\"\"\n",
    "predictions"
   ]
  },
  {
   "cell_type": "code",
   "execution_count": 7,
   "metadata": {
    "ExecuteTime": {
     "end_time": "2021-03-08T04:46:27.600169Z",
     "start_time": "2021-03-08T04:46:27.587124Z"
    }
   },
   "outputs": [],
   "source": [
    "pred_ciks = set(predictions.cik.unique())\n",
    "text_ciks = set(text_dfs.cik.unique())\n",
    "\n",
    "intersection = pred_ciks.intersection(text_ciks)\n",
    "text_only = text_ciks.difference(pred_ciks)\n",
    "pred_only = pred_ciks.difference(text_ciks)"
   ]
  },
  {
   "cell_type": "code",
   "execution_count": 8,
   "metadata": {
    "ExecuteTime": {
     "end_time": "2021-03-08T04:46:27.614801Z",
     "start_time": "2021-03-08T04:46:27.604075Z"
    }
   },
   "outputs": [
    {
     "data": {
      "text/plain": [
       "4645"
      ]
     },
     "metadata": {},
     "output_type": "display_data"
    },
    {
     "data": {
      "text/plain": [
       "595"
      ]
     },
     "metadata": {},
     "output_type": "display_data"
    },
    {
     "data": {
      "text/plain": [
       "22"
      ]
     },
     "metadata": {},
     "output_type": "display_data"
    }
   ],
   "source": [
    "display(len(intersection))\n",
    "display(len(text_only))\n",
    "display(len(pred_only))"
   ]
  },
  {
   "cell_type": "code",
   "execution_count": 9,
   "metadata": {
    "ExecuteTime": {
     "end_time": "2021-03-08T04:46:27.626643Z",
     "start_time": "2021-03-08T04:46:27.618933Z"
    }
   },
   "outputs": [],
   "source": [
    "common_ciks = sorted(list(intersection))"
   ]
  },
  {
   "cell_type": "code",
   "execution_count": 10,
   "metadata": {
    "ExecuteTime": {
     "end_time": "2021-03-08T04:46:27.690275Z",
     "start_time": "2021-03-08T04:46:27.631460Z"
    }
   },
   "outputs": [],
   "source": [
    "predictions = predictions[predictions.filing_year > 2011]\n",
    "text_dfs = text_dfs[text_dfs.year > 2011]"
   ]
  },
  {
   "cell_type": "markdown",
   "metadata": {},
   "source": [
    "# Merge Data, Write to disk"
   ]
  },
  {
   "cell_type": "code",
   "execution_count": 12,
   "metadata": {
    "ExecuteTime": {
     "end_time": "2021-03-02T21:23:57.621508Z",
     "start_time": "2021-03-02T21:23:57.609381Z"
    }
   },
   "outputs": [],
   "source": [
    "num_pred = float(len(predictions))\n",
    "num_text = float(len(text_dfs))"
   ]
  },
  {
   "cell_type": "code",
   "execution_count": 13,
   "metadata": {
    "ExecuteTime": {
     "end_time": "2021-03-02T21:23:58.406964Z",
     "start_time": "2021-03-02T21:23:58.243371Z"
    }
   },
   "outputs": [
    {
     "data": {
      "text/plain": [
       "'# and % of 10-K filings lost: (11316,31%)'"
      ]
     },
     "metadata": {},
     "output_type": "display_data"
    },
    {
     "data": {
      "text/plain": [
       "'# and % of stock events lost: (2000,7%)'"
      ]
     },
     "metadata": {},
     "output_type": "display_data"
    },
    {
     "data": {
      "text/plain": [
       "'# and % of ticker mismatches: (598,2%)'"
      ]
     },
     "metadata": {},
     "output_type": "display_data"
    }
   ],
   "source": [
    "result = pd.merge(text_dfs, predictions, on=[\"cik\", \"filing_date\"])\n",
    "\n",
    "num_result = float(len(result))\n",
    "num_text_lost = num_text - num_result\n",
    "num_pred_lost = num_pred - num_result\n",
    "\n",
    "ticker_mismatch = result[\"ticker_x\"] != result[\"ticker_y\"]\n",
    "display(\"# and % of 10-K filings lost: ({:n},{:.0%})\".format(num_text_lost, num_text_lost/ num_text))\n",
    "display(\"# and % of stock events lost: ({:n},{:.0%})\".format(num_pred_lost, num_pred_lost / num_pred))\n",
    "display(\"# and % of ticker mismatches: ({:n},{:.0%})\".format(ticker_mismatch.sum(), float(ticker_mismatch.sum()) / num_result))"
   ]
  },
  {
   "cell_type": "code",
   "execution_count": 14,
   "metadata": {
    "ExecuteTime": {
     "end_time": "2021-03-02T21:23:59.477449Z",
     "start_time": "2021-03-02T21:23:59.274510Z"
    }
   },
   "outputs": [
    {
     "data": {
      "text/plain": [
       "'# and % of 10-K filings lost: (11289,31%)'"
      ]
     },
     "metadata": {},
     "output_type": "display_data"
    },
    {
     "data": {
      "text/plain": [
       "'# and % of stock events lost: (1973,7%)'"
      ]
     },
     "metadata": {},
     "output_type": "display_data"
    },
    {
     "data": {
      "text/plain": [
       "'# and % of ticker mismatches: (599,2%)'"
      ]
     },
     "metadata": {},
     "output_type": "display_data"
    },
    {
     "data": {
      "text/plain": [
       "'# and % of filing date mismatches: (27,0%)'"
      ]
     },
     "metadata": {},
     "output_type": "display_data"
    },
    {
     "data": {
      "text/plain": [
       "'# and % of ticker and filing date mismatches: (1,0%)'"
      ]
     },
     "metadata": {},
     "output_type": "display_data"
    },
    {
     "data": {
      "text/plain": [
       "'# and % of ticker or filing date mismatches: (625,2%)'"
      ]
     },
     "metadata": {},
     "output_type": "display_data"
    }
   ],
   "source": [
    "result = pd.merge(text_dfs, predictions, on=[\"cik\", \"filing_year\"])\n",
    "\n",
    "num_result = float(len(result))\n",
    "num_text_lost = num_text - num_result\n",
    "num_pred_lost = num_pred - num_result\n",
    "\n",
    "ticker_mismatch = result[\"ticker_x\"] != result[\"ticker_y\"]\n",
    "filing_date_mismatch = result[\"filing_date_x\"] != result[\"filing_date_y\"]\n",
    "ticker_and_filing_mismatch = ticker_mismatch & filing_date_mismatch\n",
    "ticker_or_filing_mismatch = ticker_mismatch | filing_date_mismatch\n",
    "\n",
    "display(\"# and % of 10-K filings lost: ({:n},{:.0%})\".format(num_text_lost, num_text_lost/ num_text))\n",
    "display(\"# and % of stock events lost: ({:n},{:.0%})\".format(num_pred_lost, num_pred_lost / num_pred))\n",
    "display(\"# and % of ticker mismatches: ({:n},{:.0%})\".format(ticker_mismatch.sum(), float(ticker_mismatch.sum()) / num_result))\n",
    "display(\"# and % of filing date mismatches: ({:n},{:.0%})\".format(filing_date_mismatch.sum(), float(filing_date_mismatch.sum()) / num_result))\n",
    "display(\"# and % of ticker and filing date mismatches: ({:n},{:.0%})\".format(ticker_and_filing_mismatch.sum(), float(ticker_and_filing_mismatch.sum()) / num_result))\n",
    "display(\"# and % of ticker or filing date mismatches: ({:n},{:.0%})\".format(ticker_or_filing_mismatch.sum(), float(ticker_or_filing_mismatch.sum()) / num_result))"
   ]
  },
  {
   "cell_type": "code",
   "execution_count": 16,
   "metadata": {
    "ExecuteTime": {
     "end_time": "2021-03-02T21:24:34.583725Z",
     "start_time": "2021-03-02T21:24:34.333253Z"
    }
   },
   "outputs": [
    {
     "data": {
      "text/html": [
       "<div>\n",
       "<style scoped>\n",
       "    .dataframe tbody tr th:only-of-type {\n",
       "        vertical-align: middle;\n",
       "    }\n",
       "\n",
       "    .dataframe tbody tr th {\n",
       "        vertical-align: top;\n",
       "    }\n",
       "\n",
       "    .dataframe thead th {\n",
       "        text-align: right;\n",
       "    }\n",
       "</style>\n",
       "<table border=\"1\" class=\"dataframe\">\n",
       "  <thead>\n",
       "    <tr style=\"text-align: right;\">\n",
       "      <th></th>\n",
       "      <th>cik</th>\n",
       "      <th>ticker_x</th>\n",
       "      <th>filing_date_x</th>\n",
       "      <th>item1a_risk</th>\n",
       "      <th>item7_mda</th>\n",
       "      <th>year_x</th>\n",
       "      <th>filing_year</th>\n",
       "      <th>perm_id</th>\n",
       "      <th>ticker_y</th>\n",
       "      <th>year_y</th>\n",
       "      <th>filing_date_y</th>\n",
       "      <th>company_name</th>\n",
       "      <th>is_dividend_payer</th>\n",
       "      <th>dps_change</th>\n",
       "      <th>is_dps_cut</th>\n",
       "      <th>z_environmental</th>\n",
       "      <th>d_environmental</th>\n",
       "      <th>sector</th>\n",
       "    </tr>\n",
       "  </thead>\n",
       "  <tbody>\n",
       "    <tr>\n",
       "      <th>963</th>\n",
       "      <td>77597</td>\n",
       "      <td>SEH</td>\n",
       "      <td>2011-12-21</td>\n",
       "      <td>&gt;ITEM 1A. RISK FACTORSIN EVALUATING THE COMPAN...</td>\n",
       "      <td>&gt;Item 7 contains financial information prepare...</td>\n",
       "      <td>2011</td>\n",
       "      <td>2011</td>\n",
       "      <td>2569</td>\n",
       "      <td>SEH</td>\n",
       "      <td>2010</td>\n",
       "      <td>2011-01-13</td>\n",
       "      <td>SPARTECH CORP</td>\n",
       "      <td>0.0</td>\n",
       "      <td>NaN</td>\n",
       "      <td>NaN</td>\n",
       "      <td>NaN</td>\n",
       "      <td>NaN</td>\n",
       "      <td>Industrials</td>\n",
       "    </tr>\n",
       "    <tr>\n",
       "      <th>1089</th>\n",
       "      <td>109177</td>\n",
       "      <td>SPB</td>\n",
       "      <td>2011-12-14</td>\n",
       "      <td>&gt;Item 1A. Risk Factors Risks Related to HGI We...</td>\n",
       "      <td>&gt;Item 7. Management s Discussion and Analysis ...</td>\n",
       "      <td>2011</td>\n",
       "      <td>2011</td>\n",
       "      <td>3735</td>\n",
       "      <td>SPB</td>\n",
       "      <td>2010</td>\n",
       "      <td>2011-03-11</td>\n",
       "      <td>SPECTRUM BRANDS HOLDINGS INC</td>\n",
       "      <td>0.0</td>\n",
       "      <td>NaN</td>\n",
       "      <td>NaN</td>\n",
       "      <td>NaN</td>\n",
       "      <td>NaN</td>\n",
       "      <td>Industrials</td>\n",
       "    </tr>\n",
       "    <tr>\n",
       "      <th>1446</th>\n",
       "      <td>808326</td>\n",
       "      <td>EMKR</td>\n",
       "      <td>2011-01-10</td>\n",
       "      <td>&gt;ITEM 1A. Risk Factors We have a history of in...</td>\n",
       "      <td>&gt;ITEM 7. Management s Discussion and Analysis ...</td>\n",
       "      <td>2011</td>\n",
       "      <td>2011</td>\n",
       "      <td>1055</td>\n",
       "      <td>EMKR</td>\n",
       "      <td>2011</td>\n",
       "      <td>2011-12-29</td>\n",
       "      <td>EMCORE CORP</td>\n",
       "      <td>0.0</td>\n",
       "      <td>NaN</td>\n",
       "      <td>NaN</td>\n",
       "      <td>NaN</td>\n",
       "      <td>NaN</td>\n",
       "      <td>Tech</td>\n",
       "    </tr>\n",
       "    <tr>\n",
       "      <th>3735</th>\n",
       "      <td>718789</td>\n",
       "      <td>SHFL</td>\n",
       "      <td>2012-12-21</td>\n",
       "      <td>&gt;ITEM 1A. RISK FACTORS RISKS RELATED TO OUR BU...</td>\n",
       "      <td>&gt;ITEM 7. MANAGEMENT'S DISCUSSION AND ANALYSIS ...</td>\n",
       "      <td>2012</td>\n",
       "      <td>2012</td>\n",
       "      <td>40</td>\n",
       "      <td>SHFL</td>\n",
       "      <td>2011</td>\n",
       "      <td>2012-01-05</td>\n",
       "      <td>SHFL ENTERTAINMENT INC</td>\n",
       "      <td>0.0</td>\n",
       "      <td>NaN</td>\n",
       "      <td>NaN</td>\n",
       "      <td>NaN</td>\n",
       "      <td>NaN</td>\n",
       "      <td>Industrials</td>\n",
       "    </tr>\n",
       "    <tr>\n",
       "      <th>4929</th>\n",
       "      <td>1099941</td>\n",
       "      <td>MVC</td>\n",
       "      <td>2012-01-12</td>\n",
       "      <td>&gt;Item 1A. RISK FACTORS Investing in MVC Capita...</td>\n",
       "      <td>&gt;ITEM 7. MANAGEMENT S DISCUSSION AND ANALYSIS ...</td>\n",
       "      <td>2012</td>\n",
       "      <td>2012</td>\n",
       "      <td>4564</td>\n",
       "      <td>MVC</td>\n",
       "      <td>2012</td>\n",
       "      <td>2012-12-27</td>\n",
       "      <td>MVC CAPITAL INC</td>\n",
       "      <td>1.0</td>\n",
       "      <td>0.086957</td>\n",
       "      <td>0.0</td>\n",
       "      <td>0.580647</td>\n",
       "      <td>-0.279010</td>\n",
       "      <td>Financials</td>\n",
       "    </tr>\n",
       "    <tr>\n",
       "      <th>6933</th>\n",
       "      <td>914712</td>\n",
       "      <td>MLNK</td>\n",
       "      <td>2013-10-15</td>\n",
       "      <td>&gt;ITEM 1A.  RISK FACTORS We operate in a rapidl...</td>\n",
       "      <td>&gt;ITEM 7.  MANAGEMENT S DISCUSSION AND ANALYSIS...</td>\n",
       "      <td>2013</td>\n",
       "      <td>2013</td>\n",
       "      <td>619</td>\n",
       "      <td>MLNK</td>\n",
       "      <td>2012</td>\n",
       "      <td>2013-01-11</td>\n",
       "      <td>STEEL CONNECT INC</td>\n",
       "      <td>0.0</td>\n",
       "      <td>NaN</td>\n",
       "      <td>NaN</td>\n",
       "      <td>NaN</td>\n",
       "      <td>NaN</td>\n",
       "      <td>Tech</td>\n",
       "    </tr>\n",
       "    <tr>\n",
       "      <th>8118</th>\n",
       "      <td>1409493</td>\n",
       "      <td>CIM</td>\n",
       "      <td>2013-03-08</td>\n",
       "      <td>&gt;Item 1A. Risk Factors If any of the following...</td>\n",
       "      <td>&gt;Item 7. Management's Discussion and Analysis ...</td>\n",
       "      <td>2013</td>\n",
       "      <td>2013</td>\n",
       "      <td>3610</td>\n",
       "      <td>CIM</td>\n",
       "      <td>2012</td>\n",
       "      <td>2013-12-31</td>\n",
       "      <td>CHIMERA INVESTMENT CORP</td>\n",
       "      <td>1.0</td>\n",
       "      <td>0.000000</td>\n",
       "      <td>0.0</td>\n",
       "      <td>-0.597933</td>\n",
       "      <td>-0.279010</td>\n",
       "      <td>Financials</td>\n",
       "    </tr>\n",
       "    <tr>\n",
       "      <th>8193</th>\n",
       "      <td>1457543</td>\n",
       "      <td>CFN</td>\n",
       "      <td>2013-01-31</td>\n",
       "      <td>&gt;ITEM 1A. RISK FACTORS We urge you to carefull...</td>\n",
       "      <td>&gt;ITEM 7. MANAGEMENT S DISCUSSION AND ANALYSIS ...</td>\n",
       "      <td>2013</td>\n",
       "      <td>2013</td>\n",
       "      <td>3682</td>\n",
       "      <td>CFN</td>\n",
       "      <td>2013</td>\n",
       "      <td>2013-08-09</td>\n",
       "      <td>CAREFUSION CORP</td>\n",
       "      <td>0.0</td>\n",
       "      <td>NaN</td>\n",
       "      <td>NaN</td>\n",
       "      <td>0.346984</td>\n",
       "      <td>-0.011039</td>\n",
       "      <td>Health Care</td>\n",
       "    </tr>\n",
       "    <tr>\n",
       "      <th>8300</th>\n",
       "      <td>1504747</td>\n",
       "      <td>SWSH</td>\n",
       "      <td>2013-02-26</td>\n",
       "      <td>&gt;ITEM 1A. RISK FACTORS. Our business, financia...</td>\n",
       "      <td>&gt;ITEM 7. MANAGEMENT S DISCUSSION AND ANALYSIS ...</td>\n",
       "      <td>2013</td>\n",
       "      <td>2013</td>\n",
       "      <td>1417</td>\n",
       "      <td>SWSH</td>\n",
       "      <td>2012</td>\n",
       "      <td>2013-05-01</td>\n",
       "      <td>SWISHER HYGIENE INC</td>\n",
       "      <td>0.0</td>\n",
       "      <td>NaN</td>\n",
       "      <td>NaN</td>\n",
       "      <td>0.947447</td>\n",
       "      <td>NaN</td>\n",
       "      <td>Consumer</td>\n",
       "    </tr>\n",
       "    <tr>\n",
       "      <th>9102</th>\n",
       "      <td>790703</td>\n",
       "      <td>TECD</td>\n",
       "      <td>2014-02-05</td>\n",
       "      <td>&gt;ITEM 1A. Risk Factors. The following are cert...</td>\n",
       "      <td>&gt;ITEM 7.Management s Discussion and Analysis o...</td>\n",
       "      <td>2014</td>\n",
       "      <td>2014</td>\n",
       "      <td>157</td>\n",
       "      <td>TECD</td>\n",
       "      <td>2014</td>\n",
       "      <td>2014-04-09</td>\n",
       "      <td>TECH DATA CORP</td>\n",
       "      <td>0.0</td>\n",
       "      <td>NaN</td>\n",
       "      <td>NaN</td>\n",
       "      <td>-0.391493</td>\n",
       "      <td>-0.476001</td>\n",
       "      <td>Tech</td>\n",
       "    </tr>\n",
       "    <tr>\n",
       "      <th>9538</th>\n",
       "      <td>913760</td>\n",
       "      <td>INTL</td>\n",
       "      <td>2014-01-15</td>\n",
       "      <td>&gt;Item 1A. Risk FactorsWe face a variety of ris...</td>\n",
       "      <td>&gt;Item 7. Management s Discussion and Analysis ...</td>\n",
       "      <td>2014</td>\n",
       "      <td>2014</td>\n",
       "      <td>3729</td>\n",
       "      <td>INTL</td>\n",
       "      <td>2014</td>\n",
       "      <td>2014-12-10</td>\n",
       "      <td>STONEX GROUP INC</td>\n",
       "      <td>0.0</td>\n",
       "      <td>NaN</td>\n",
       "      <td>NaN</td>\n",
       "      <td>-0.622346</td>\n",
       "      <td>3.287319</td>\n",
       "      <td>Financials</td>\n",
       "    </tr>\n",
       "    <tr>\n",
       "      <th>10170</th>\n",
       "      <td>1129633</td>\n",
       "      <td>PNX</td>\n",
       "      <td>2014-08-06</td>\n",
       "      <td>&gt;Item 1A. Risk FactorsRisks Related to the Res...</td>\n",
       "      <td>&gt;Item 7. Management s Discussion and Analysis ...</td>\n",
       "      <td>2014</td>\n",
       "      <td>2014</td>\n",
       "      <td>3618</td>\n",
       "      <td>PNX</td>\n",
       "      <td>2012</td>\n",
       "      <td>2014-04-01</td>\n",
       "      <td>PHOENIX COMPANIES INC</td>\n",
       "      <td>0.0</td>\n",
       "      <td>NaN</td>\n",
       "      <td>NaN</td>\n",
       "      <td>NaN</td>\n",
       "      <td>NaN</td>\n",
       "      <td>Financials</td>\n",
       "    </tr>\n",
       "    <tr>\n",
       "      <th>11255</th>\n",
       "      <td>43920</td>\n",
       "      <td>GEF</td>\n",
       "      <td>2015-12-21</td>\n",
       "      <td>&gt;ITEM 1A. RISK FACTORS Statements contained in...</td>\n",
       "      <td>&gt;ITEM 7. MANAGEMENT S DISCUSSION AND ANALYSIS ...</td>\n",
       "      <td>2015</td>\n",
       "      <td>2015</td>\n",
       "      <td>1113</td>\n",
       "      <td>GEF</td>\n",
       "      <td>2014</td>\n",
       "      <td>2015-01-21</td>\n",
       "      <td>GREIF INC  -CL A</td>\n",
       "      <td>1.0</td>\n",
       "      <td>0.000000</td>\n",
       "      <td>0.0</td>\n",
       "      <td>2.496798</td>\n",
       "      <td>0.088497</td>\n",
       "      <td>Commodities</td>\n",
       "    </tr>\n",
       "    <tr>\n",
       "      <th>11748</th>\n",
       "      <td>783412</td>\n",
       "      <td>DJCO</td>\n",
       "      <td>2015-12-14</td>\n",
       "      <td>&gt;Item 1A. Risk Factors The foregoing business ...</td>\n",
       "      <td>&gt;Item 7. Management's Discussion and Analysis ...</td>\n",
       "      <td>2015</td>\n",
       "      <td>2015</td>\n",
       "      <td>3595</td>\n",
       "      <td>DJCO</td>\n",
       "      <td>2014</td>\n",
       "      <td>2015-01-28</td>\n",
       "      <td>DAILY JOURNAL CORP</td>\n",
       "      <td>0.0</td>\n",
       "      <td>NaN</td>\n",
       "      <td>NaN</td>\n",
       "      <td>NaN</td>\n",
       "      <td>NaN</td>\n",
       "      <td>Tech</td>\n",
       "    </tr>\n",
       "    <tr>\n",
       "      <th>11876</th>\n",
       "      <td>825410</td>\n",
       "      <td>LDR</td>\n",
       "      <td>2015-02-03</td>\n",
       "      <td>&gt;Item 1A.Risk Factors In addition to factors d...</td>\n",
       "      <td>&gt;Item 7. Management s Discussion and Analysis ...</td>\n",
       "      <td>2015</td>\n",
       "      <td>2015</td>\n",
       "      <td>3157</td>\n",
       "      <td>LDR</td>\n",
       "      <td>2015</td>\n",
       "      <td>2015-12-14</td>\n",
       "      <td>LANDAUER INC</td>\n",
       "      <td>1.0</td>\n",
       "      <td>-0.222222</td>\n",
       "      <td>1.0</td>\n",
       "      <td>0.474189</td>\n",
       "      <td>0.980449</td>\n",
       "      <td>Tech</td>\n",
       "    </tr>\n",
       "    <tr>\n",
       "      <th>12775</th>\n",
       "      <td>1133470</td>\n",
       "      <td>CVGW</td>\n",
       "      <td>2015-12-30</td>\n",
       "      <td>&gt;Item 1A. Risk Factors Risks Related to Our Bu...</td>\n",
       "      <td>&gt;Item 7. Management's Discussion and Analysis ...</td>\n",
       "      <td>2015</td>\n",
       "      <td>2015</td>\n",
       "      <td>3373</td>\n",
       "      <td>CVGW</td>\n",
       "      <td>2014</td>\n",
       "      <td>2015-01-30</td>\n",
       "      <td>CALAVO GROWERS INC</td>\n",
       "      <td>1.0</td>\n",
       "      <td>0.064516</td>\n",
       "      <td>0.0</td>\n",
       "      <td>-0.788862</td>\n",
       "      <td>-0.193752</td>\n",
       "      <td>Consumer</td>\n",
       "    </tr>\n",
       "    <tr>\n",
       "      <th>16299</th>\n",
       "      <td>1604028</td>\n",
       "      <td>WMS</td>\n",
       "      <td>2016-09-15</td>\n",
       "      <td>&gt;ITEM 1A. RISK FACTORS You should carefully co...</td>\n",
       "      <td>&gt;ITEM 7. MANAGEMENT S DISCUSSION AND ANALYSIS ...</td>\n",
       "      <td>2016</td>\n",
       "      <td>2016</td>\n",
       "      <td>1741</td>\n",
       "      <td>WMS</td>\n",
       "      <td>2015</td>\n",
       "      <td>2016-03-29</td>\n",
       "      <td>ADVANCED DRAINAGE SYSTEMS</td>\n",
       "      <td>1.0</td>\n",
       "      <td>0.181818</td>\n",
       "      <td>0.0</td>\n",
       "      <td>0.831695</td>\n",
       "      <td>0.039619</td>\n",
       "      <td>Industrials</td>\n",
       "    </tr>\n",
       "    <tr>\n",
       "      <th>16676</th>\n",
       "      <td>68709</td>\n",
       "      <td>MTSC</td>\n",
       "      <td>2017-11-27</td>\n",
       "      <td>&gt;ITEM 1A. RISK FACTORS Our business involves r...</td>\n",
       "      <td>&gt;ITEM 7.MANAGEMENT'S DISCUSSION AND ANALYSIS O...</td>\n",
       "      <td>2017</td>\n",
       "      <td>2017</td>\n",
       "      <td>3864</td>\n",
       "      <td>MTSC</td>\n",
       "      <td>2016</td>\n",
       "      <td>2017-04-10</td>\n",
       "      <td>MTS SYSTEMS CORP</td>\n",
       "      <td>1.0</td>\n",
       "      <td>0.000000</td>\n",
       "      <td>0.0</td>\n",
       "      <td>0.926405</td>\n",
       "      <td>-1.335796</td>\n",
       "      <td>Tech</td>\n",
       "    </tr>\n",
       "    <tr>\n",
       "      <th>17138</th>\n",
       "      <td>810136</td>\n",
       "      <td>PLAB</td>\n",
       "      <td>2017-12-20</td>\n",
       "      <td>&gt;ITEM 1A. RISK FACTORS Technology failures or ...</td>\n",
       "      <td>&gt;ITEM 7. MANAGEMENT S DISCUSSION AND ANALYSIS ...</td>\n",
       "      <td>2017</td>\n",
       "      <td>2017</td>\n",
       "      <td>2578</td>\n",
       "      <td>PLAB</td>\n",
       "      <td>2016</td>\n",
       "      <td>2017-01-06</td>\n",
       "      <td>PHOTRONICS INC</td>\n",
       "      <td>0.0</td>\n",
       "      <td>NaN</td>\n",
       "      <td>NaN</td>\n",
       "      <td>-0.063601</td>\n",
       "      <td>-0.112717</td>\n",
       "      <td>Tech</td>\n",
       "    </tr>\n",
       "    <tr>\n",
       "      <th>17326</th>\n",
       "      <td>883902</td>\n",
       "      <td>CNR</td>\n",
       "      <td>2017-01-10</td>\n",
       "      <td>&gt;Item 1A. Risk Factors.Our industry is cyclica...</td>\n",
       "      <td>&gt;Item 7. Management s Discussion and Analysis ...</td>\n",
       "      <td>2017</td>\n",
       "      <td>2017</td>\n",
       "      <td>4083</td>\n",
       "      <td>NCS</td>\n",
       "      <td>2017</td>\n",
       "      <td>2017-12-18</td>\n",
       "      <td>CORNERSTNE BULDNG BRNDS INC</td>\n",
       "      <td>0.0</td>\n",
       "      <td>NaN</td>\n",
       "      <td>NaN</td>\n",
       "      <td>0.590984</td>\n",
       "      <td>-0.005981</td>\n",
       "      <td>Industrials</td>\n",
       "    </tr>\n",
       "    <tr>\n",
       "      <th>17434</th>\n",
       "      <td>910406</td>\n",
       "      <td>HAIN</td>\n",
       "      <td>2017-06-22</td>\n",
       "      <td>&gt;Item 1A. Risk FactorsOur business, operations...</td>\n",
       "      <td>&gt;Item 7. Management s Discussion and Analysis ...</td>\n",
       "      <td>2017</td>\n",
       "      <td>2017</td>\n",
       "      <td>4192</td>\n",
       "      <td>HAIN</td>\n",
       "      <td>2017</td>\n",
       "      <td>2017-09-13</td>\n",
       "      <td>HAIN CELESTIAL GROUP INC</td>\n",
       "      <td>0.0</td>\n",
       "      <td>NaN</td>\n",
       "      <td>NaN</td>\n",
       "      <td>0.126297</td>\n",
       "      <td>0.464434</td>\n",
       "      <td>Consumer</td>\n",
       "    </tr>\n",
       "    <tr>\n",
       "      <th>17903</th>\n",
       "      <td>1100397</td>\n",
       "      <td>ADXS</td>\n",
       "      <td>2017-12-21</td>\n",
       "      <td>&gt;Item 1A: Risk Factors. You should carefully c...</td>\n",
       "      <td>&gt;ITEM 7. Management s Discussion and Analysis ...</td>\n",
       "      <td>2017</td>\n",
       "      <td>2017</td>\n",
       "      <td>2113</td>\n",
       "      <td>ADXS</td>\n",
       "      <td>2016</td>\n",
       "      <td>2017-01-09</td>\n",
       "      <td>ADVAXIS INC</td>\n",
       "      <td>0.0</td>\n",
       "      <td>NaN</td>\n",
       "      <td>NaN</td>\n",
       "      <td>-0.505844</td>\n",
       "      <td>NaN</td>\n",
       "      <td>Health Care</td>\n",
       "    </tr>\n",
       "    <tr>\n",
       "      <th>20064</th>\n",
       "      <td>904979</td>\n",
       "      <td>SHLO</td>\n",
       "      <td>2018-12-20</td>\n",
       "      <td>&gt;Item 1A. Risk FactorsYou should carefully con...</td>\n",
       "      <td>&gt;Item 7. Management s Discussion and Analysis ...</td>\n",
       "      <td>2018</td>\n",
       "      <td>2018</td>\n",
       "      <td>3858</td>\n",
       "      <td>SHLO</td>\n",
       "      <td>2017</td>\n",
       "      <td>2018-01-05</td>\n",
       "      <td>SHILOH INDUSTRIES INC</td>\n",
       "      <td>0.0</td>\n",
       "      <td>NaN</td>\n",
       "      <td>NaN</td>\n",
       "      <td>NaN</td>\n",
       "      <td>NaN</td>\n",
       "      <td>Consumer</td>\n",
       "    </tr>\n",
       "    <tr>\n",
       "      <th>20188</th>\n",
       "      <td>935419</td>\n",
       "      <td>RICK</td>\n",
       "      <td>2018-12-31</td>\n",
       "      <td>&gt;Item 1A. Risk Factors. An investment in our c...</td>\n",
       "      <td>&gt;Item 7. Management s Discussion and Analysis ...</td>\n",
       "      <td>2018</td>\n",
       "      <td>2018</td>\n",
       "      <td>1738</td>\n",
       "      <td>RICK</td>\n",
       "      <td>2017</td>\n",
       "      <td>2018-02-14</td>\n",
       "      <td>RCI HOSPITALITY HLDGS INC</td>\n",
       "      <td>1.0</td>\n",
       "      <td>0.000000</td>\n",
       "      <td>0.0</td>\n",
       "      <td>NaN</td>\n",
       "      <td>NaN</td>\n",
       "      <td>Consumer</td>\n",
       "    </tr>\n",
       "    <tr>\n",
       "      <th>21130</th>\n",
       "      <td>1440024</td>\n",
       "      <td>RRTS</td>\n",
       "      <td>2018-06-20</td>\n",
       "      <td>&gt;ITEM 1A.RISK FACTORSYou should carefully cons...</td>\n",
       "      <td>&gt;ITEM 7.MANAGEMENT S DISCUSSION AND ANALYSIS O...</td>\n",
       "      <td>2018</td>\n",
       "      <td>2018</td>\n",
       "      <td>3992</td>\n",
       "      <td>RRTS</td>\n",
       "      <td>2016</td>\n",
       "      <td>2018-01-31</td>\n",
       "      <td>ROADRUNNER TRANS SYSTEMS INC</td>\n",
       "      <td>0.0</td>\n",
       "      <td>NaN</td>\n",
       "      <td>NaN</td>\n",
       "      <td>0.234566</td>\n",
       "      <td>NaN</td>\n",
       "      <td>Industrials</td>\n",
       "    </tr>\n",
       "    <tr>\n",
       "      <th>23301</th>\n",
       "      <td>1158863</td>\n",
       "      <td>WAGE</td>\n",
       "      <td>2019-05-30</td>\n",
       "      <td>&gt;Item 1A. Risk FactorsRISK FACTORSYou should c...</td>\n",
       "      <td>&gt;Item 7. Management s Discussion and Analysis ...</td>\n",
       "      <td>2019</td>\n",
       "      <td>2019</td>\n",
       "      <td>4303</td>\n",
       "      <td>WAGE</td>\n",
       "      <td>2017</td>\n",
       "      <td>2019-03-18</td>\n",
       "      <td>WAGEWORKS INC</td>\n",
       "      <td>0.0</td>\n",
       "      <td>NaN</td>\n",
       "      <td>NaN</td>\n",
       "      <td>0.123162</td>\n",
       "      <td>NaN</td>\n",
       "      <td>Industrials</td>\n",
       "    </tr>\n",
       "    <tr>\n",
       "      <th>24744</th>\n",
       "      <td>1136174</td>\n",
       "      <td>CATS</td>\n",
       "      <td>2020-08-06</td>\n",
       "      <td>&gt;ITEM 1A. RISK FACTORSIn evaluating us and our...</td>\n",
       "      <td>&gt;ITEM 7. MANAGEMENT S DISCUSSION AND ANALYSIS ...</td>\n",
       "      <td>2020</td>\n",
       "      <td>2020</td>\n",
       "      <td>2563</td>\n",
       "      <td>CATS</td>\n",
       "      <td>2019</td>\n",
       "      <td>2020-03-16</td>\n",
       "      <td>ONTRAK INC</td>\n",
       "      <td>0.0</td>\n",
       "      <td>NaN</td>\n",
       "      <td>NaN</td>\n",
       "      <td>NaN</td>\n",
       "      <td>NaN</td>\n",
       "      <td>Health Care</td>\n",
       "    </tr>\n",
       "  </tbody>\n",
       "</table>\n",
       "</div>"
      ],
      "text/plain": [
       "           cik ticker_x filing_date_x  \\\n",
       "963      77597      SEH    2011-12-21   \n",
       "1089    109177      SPB    2011-12-14   \n",
       "1446    808326     EMKR    2011-01-10   \n",
       "3735    718789     SHFL    2012-12-21   \n",
       "4929   1099941      MVC    2012-01-12   \n",
       "6933    914712     MLNK    2013-10-15   \n",
       "8118   1409493      CIM    2013-03-08   \n",
       "8193   1457543      CFN    2013-01-31   \n",
       "8300   1504747     SWSH    2013-02-26   \n",
       "9102    790703     TECD    2014-02-05   \n",
       "9538    913760     INTL    2014-01-15   \n",
       "10170  1129633      PNX    2014-08-06   \n",
       "11255    43920      GEF    2015-12-21   \n",
       "11748   783412     DJCO    2015-12-14   \n",
       "11876   825410      LDR    2015-02-03   \n",
       "12775  1133470     CVGW    2015-12-30   \n",
       "16299  1604028      WMS    2016-09-15   \n",
       "16676    68709     MTSC    2017-11-27   \n",
       "17138   810136     PLAB    2017-12-20   \n",
       "17326   883902      CNR    2017-01-10   \n",
       "17434   910406     HAIN    2017-06-22   \n",
       "17903  1100397     ADXS    2017-12-21   \n",
       "20064   904979     SHLO    2018-12-20   \n",
       "20188   935419     RICK    2018-12-31   \n",
       "21130  1440024     RRTS    2018-06-20   \n",
       "23301  1158863     WAGE    2019-05-30   \n",
       "24744  1136174     CATS    2020-08-06   \n",
       "\n",
       "                                             item1a_risk  \\\n",
       "963    >ITEM 1A. RISK FACTORSIN EVALUATING THE COMPAN...   \n",
       "1089   >Item 1A. Risk Factors Risks Related to HGI We...   \n",
       "1446   >ITEM 1A. Risk Factors We have a history of in...   \n",
       "3735   >ITEM 1A. RISK FACTORS RISKS RELATED TO OUR BU...   \n",
       "4929   >Item 1A. RISK FACTORS Investing in MVC Capita...   \n",
       "6933   >ITEM 1A.  RISK FACTORS We operate in a rapidl...   \n",
       "8118   >Item 1A. Risk Factors If any of the following...   \n",
       "8193   >ITEM 1A. RISK FACTORS We urge you to carefull...   \n",
       "8300   >ITEM 1A. RISK FACTORS. Our business, financia...   \n",
       "9102   >ITEM 1A. Risk Factors. The following are cert...   \n",
       "9538   >Item 1A. Risk FactorsWe face a variety of ris...   \n",
       "10170  >Item 1A. Risk FactorsRisks Related to the Res...   \n",
       "11255  >ITEM 1A. RISK FACTORS Statements contained in...   \n",
       "11748  >Item 1A. Risk Factors The foregoing business ...   \n",
       "11876  >Item 1A.Risk Factors In addition to factors d...   \n",
       "12775  >Item 1A. Risk Factors Risks Related to Our Bu...   \n",
       "16299  >ITEM 1A. RISK FACTORS You should carefully co...   \n",
       "16676  >ITEM 1A. RISK FACTORS Our business involves r...   \n",
       "17138  >ITEM 1A. RISK FACTORS Technology failures or ...   \n",
       "17326  >Item 1A. Risk Factors.Our industry is cyclica...   \n",
       "17434  >Item 1A. Risk FactorsOur business, operations...   \n",
       "17903  >Item 1A: Risk Factors. You should carefully c...   \n",
       "20064  >Item 1A. Risk FactorsYou should carefully con...   \n",
       "20188  >Item 1A. Risk Factors. An investment in our c...   \n",
       "21130  >ITEM 1A.RISK FACTORSYou should carefully cons...   \n",
       "23301  >Item 1A. Risk FactorsRISK FACTORSYou should c...   \n",
       "24744  >ITEM 1A. RISK FACTORSIn evaluating us and our...   \n",
       "\n",
       "                                               item7_mda  year_x  filing_year  \\\n",
       "963    >Item 7 contains financial information prepare...    2011         2011   \n",
       "1089   >Item 7. Management s Discussion and Analysis ...    2011         2011   \n",
       "1446   >ITEM 7. Management s Discussion and Analysis ...    2011         2011   \n",
       "3735   >ITEM 7. MANAGEMENT'S DISCUSSION AND ANALYSIS ...    2012         2012   \n",
       "4929   >ITEM 7. MANAGEMENT S DISCUSSION AND ANALYSIS ...    2012         2012   \n",
       "6933   >ITEM 7.  MANAGEMENT S DISCUSSION AND ANALYSIS...    2013         2013   \n",
       "8118   >Item 7. Management's Discussion and Analysis ...    2013         2013   \n",
       "8193   >ITEM 7. MANAGEMENT S DISCUSSION AND ANALYSIS ...    2013         2013   \n",
       "8300   >ITEM 7. MANAGEMENT S DISCUSSION AND ANALYSIS ...    2013         2013   \n",
       "9102   >ITEM 7.Management s Discussion and Analysis o...    2014         2014   \n",
       "9538   >Item 7. Management s Discussion and Analysis ...    2014         2014   \n",
       "10170  >Item 7. Management s Discussion and Analysis ...    2014         2014   \n",
       "11255  >ITEM 7. MANAGEMENT S DISCUSSION AND ANALYSIS ...    2015         2015   \n",
       "11748  >Item 7. Management's Discussion and Analysis ...    2015         2015   \n",
       "11876  >Item 7. Management s Discussion and Analysis ...    2015         2015   \n",
       "12775  >Item 7. Management's Discussion and Analysis ...    2015         2015   \n",
       "16299  >ITEM 7. MANAGEMENT S DISCUSSION AND ANALYSIS ...    2016         2016   \n",
       "16676  >ITEM 7.MANAGEMENT'S DISCUSSION AND ANALYSIS O...    2017         2017   \n",
       "17138  >ITEM 7. MANAGEMENT S DISCUSSION AND ANALYSIS ...    2017         2017   \n",
       "17326  >Item 7. Management s Discussion and Analysis ...    2017         2017   \n",
       "17434  >Item 7. Management s Discussion and Analysis ...    2017         2017   \n",
       "17903  >ITEM 7. Management s Discussion and Analysis ...    2017         2017   \n",
       "20064  >Item 7. Management s Discussion and Analysis ...    2018         2018   \n",
       "20188  >Item 7. Management s Discussion and Analysis ...    2018         2018   \n",
       "21130  >ITEM 7.MANAGEMENT S DISCUSSION AND ANALYSIS O...    2018         2018   \n",
       "23301  >Item 7. Management s Discussion and Analysis ...    2019         2019   \n",
       "24744  >ITEM 7. MANAGEMENT S DISCUSSION AND ANALYSIS ...    2020         2020   \n",
       "\n",
       "      perm_id ticker_y  year_y filing_date_y                  company_name  \\\n",
       "963      2569      SEH    2010    2011-01-13                 SPARTECH CORP   \n",
       "1089     3735      SPB    2010    2011-03-11  SPECTRUM BRANDS HOLDINGS INC   \n",
       "1446     1055     EMKR    2011    2011-12-29                   EMCORE CORP   \n",
       "3735       40     SHFL    2011    2012-01-05        SHFL ENTERTAINMENT INC   \n",
       "4929     4564      MVC    2012    2012-12-27               MVC CAPITAL INC   \n",
       "6933      619     MLNK    2012    2013-01-11             STEEL CONNECT INC   \n",
       "8118     3610      CIM    2012    2013-12-31       CHIMERA INVESTMENT CORP   \n",
       "8193     3682      CFN    2013    2013-08-09               CAREFUSION CORP   \n",
       "8300     1417     SWSH    2012    2013-05-01           SWISHER HYGIENE INC   \n",
       "9102      157     TECD    2014    2014-04-09                TECH DATA CORP   \n",
       "9538     3729     INTL    2014    2014-12-10              STONEX GROUP INC   \n",
       "10170    3618      PNX    2012    2014-04-01         PHOENIX COMPANIES INC   \n",
       "11255    1113      GEF    2014    2015-01-21              GREIF INC  -CL A   \n",
       "11748    3595     DJCO    2014    2015-01-28            DAILY JOURNAL CORP   \n",
       "11876    3157      LDR    2015    2015-12-14                  LANDAUER INC   \n",
       "12775    3373     CVGW    2014    2015-01-30            CALAVO GROWERS INC   \n",
       "16299    1741      WMS    2015    2016-03-29     ADVANCED DRAINAGE SYSTEMS   \n",
       "16676    3864     MTSC    2016    2017-04-10              MTS SYSTEMS CORP   \n",
       "17138    2578     PLAB    2016    2017-01-06                PHOTRONICS INC   \n",
       "17326    4083      NCS    2017    2017-12-18   CORNERSTNE BULDNG BRNDS INC   \n",
       "17434    4192     HAIN    2017    2017-09-13      HAIN CELESTIAL GROUP INC   \n",
       "17903    2113     ADXS    2016    2017-01-09                   ADVAXIS INC   \n",
       "20064    3858     SHLO    2017    2018-01-05         SHILOH INDUSTRIES INC   \n",
       "20188    1738     RICK    2017    2018-02-14     RCI HOSPITALITY HLDGS INC   \n",
       "21130    3992     RRTS    2016    2018-01-31  ROADRUNNER TRANS SYSTEMS INC   \n",
       "23301    4303     WAGE    2017    2019-03-18                 WAGEWORKS INC   \n",
       "24744    2563     CATS    2019    2020-03-16                    ONTRAK INC   \n",
       "\n",
       "       is_dividend_payer  dps_change  is_dps_cut  z_environmental  \\\n",
       "963                  0.0         NaN         NaN              NaN   \n",
       "1089                 0.0         NaN         NaN              NaN   \n",
       "1446                 0.0         NaN         NaN              NaN   \n",
       "3735                 0.0         NaN         NaN              NaN   \n",
       "4929                 1.0    0.086957         0.0         0.580647   \n",
       "6933                 0.0         NaN         NaN              NaN   \n",
       "8118                 1.0    0.000000         0.0        -0.597933   \n",
       "8193                 0.0         NaN         NaN         0.346984   \n",
       "8300                 0.0         NaN         NaN         0.947447   \n",
       "9102                 0.0         NaN         NaN        -0.391493   \n",
       "9538                 0.0         NaN         NaN        -0.622346   \n",
       "10170                0.0         NaN         NaN              NaN   \n",
       "11255                1.0    0.000000         0.0         2.496798   \n",
       "11748                0.0         NaN         NaN              NaN   \n",
       "11876                1.0   -0.222222         1.0         0.474189   \n",
       "12775                1.0    0.064516         0.0        -0.788862   \n",
       "16299                1.0    0.181818         0.0         0.831695   \n",
       "16676                1.0    0.000000         0.0         0.926405   \n",
       "17138                0.0         NaN         NaN        -0.063601   \n",
       "17326                0.0         NaN         NaN         0.590984   \n",
       "17434                0.0         NaN         NaN         0.126297   \n",
       "17903                0.0         NaN         NaN        -0.505844   \n",
       "20064                0.0         NaN         NaN              NaN   \n",
       "20188                1.0    0.000000         0.0              NaN   \n",
       "21130                0.0         NaN         NaN         0.234566   \n",
       "23301                0.0         NaN         NaN         0.123162   \n",
       "24744                0.0         NaN         NaN              NaN   \n",
       "\n",
       "       d_environmental       sector  \n",
       "963                NaN  Industrials  \n",
       "1089               NaN  Industrials  \n",
       "1446               NaN         Tech  \n",
       "3735               NaN  Industrials  \n",
       "4929         -0.279010   Financials  \n",
       "6933               NaN         Tech  \n",
       "8118         -0.279010   Financials  \n",
       "8193         -0.011039  Health Care  \n",
       "8300               NaN     Consumer  \n",
       "9102         -0.476001         Tech  \n",
       "9538          3.287319   Financials  \n",
       "10170              NaN   Financials  \n",
       "11255         0.088497  Commodities  \n",
       "11748              NaN         Tech  \n",
       "11876         0.980449         Tech  \n",
       "12775        -0.193752     Consumer  \n",
       "16299         0.039619  Industrials  \n",
       "16676        -1.335796         Tech  \n",
       "17138        -0.112717         Tech  \n",
       "17326        -0.005981  Industrials  \n",
       "17434         0.464434     Consumer  \n",
       "17903              NaN  Health Care  \n",
       "20064              NaN     Consumer  \n",
       "20188              NaN     Consumer  \n",
       "21130              NaN  Industrials  \n",
       "23301              NaN  Industrials  \n",
       "24744              NaN  Health Care  "
      ]
     },
     "execution_count": 16,
     "metadata": {},
     "output_type": "execute_result"
    }
   ],
   "source": [
    "result[filing_date_mismatch]"
   ]
  },
  {
   "cell_type": "code",
   "execution_count": 11,
   "metadata": {
    "ExecuteTime": {
     "end_time": "2021-03-01T21:49:14.927550Z",
     "start_time": "2021-03-01T21:49:14.859951Z"
    }
   },
   "outputs": [
    {
     "data": {
      "text/plain": [
       "'# and % of 10-K filings lost: (11289,31%)'"
      ]
     },
     "metadata": {},
     "output_type": "display_data"
    },
    {
     "data": {
      "text/plain": [
       "'# and % of stock events lost: (1973,7%)'"
      ]
     },
     "metadata": {},
     "output_type": "display_data"
    },
    {
     "data": {
      "text/plain": [
       "'# and % of ticker mismatches: (599,2%)'"
      ]
     },
     "metadata": {},
     "output_type": "display_data"
    },
    {
     "data": {
      "text/plain": [
       "'# and % of filing date mismatches: (27,0%)'"
      ]
     },
     "metadata": {},
     "output_type": "display_data"
    },
    {
     "data": {
      "text/plain": [
       "'# and % of ticker and filing date mismatches: (1,0%)'"
      ]
     },
     "metadata": {},
     "output_type": "display_data"
    },
    {
     "data": {
      "text/plain": [
       "'# and % of ticker or filing date mismatches: (625,2%)'"
      ]
     },
     "metadata": {},
     "output_type": "display_data"
    }
   ],
   "source": [
    "result = pd.merge(text_dfs, predictions, left_on=[\"cik\", \"year\"], right_on=[\"cik\", \"filing_year\"])\n",
    "\n",
    "num_result = float(len(result))\n",
    "num_text_lost = num_text - num_result\n",
    "num_pred_lost = num_pred - num_result\n",
    "\n",
    "ticker_mismatch = result[\"ticker_x\"] != result[\"ticker_y\"]\n",
    "filing_date_mismatch = result[\"filing_date_x\"] != result[\"filing_date_y\"]\n",
    "ticker_and_filing_mismatch = ticker_mismatch & filing_date_mismatch\n",
    "ticker_or_filing_mismatch = ticker_mismatch | filing_date_mismatch\n",
    "\n",
    "display(\"# and % of 10-K filings lost: ({:n},{:.0%})\".format(num_text_lost, num_text_lost/ num_text))\n",
    "display(\"# and % of stock events lost: ({:n},{:.0%})\".format(num_pred_lost, num_pred_lost / num_pred))\n",
    "display(\"# and % of ticker mismatches: ({:n},{:.0%})\".format(ticker_mismatch.sum(), float(ticker_mismatch.sum()) / num_result))\n",
    "display(\"# and % of filing date mismatches: ({:n},{:.0%})\".format(filing_date_mismatch.sum(), float(filing_date_mismatch.sum()) / num_result))\n",
    "display(\"# and % of ticker and filing date mismatches: ({:n},{:.0%})\".format(ticker_and_filing_mismatch.sum(), float(ticker_and_filing_mismatch.sum()) / num_result))\n",
    "display(\"# and % of ticker or filing date mismatches: ({:n},{:.0%})\".format(ticker_or_filing_mismatch.sum(), float(ticker_or_filing_mismatch.sum()) / num_result))"
   ]
  },
  {
   "cell_type": "code",
   "execution_count": 12,
   "metadata": {
    "ExecuteTime": {
     "end_time": "2021-03-01T21:49:31.583548Z",
     "start_time": "2021-03-01T21:49:31.514453Z"
    }
   },
   "outputs": [
    {
     "data": {
      "text/plain": [
       "'# and % of 10-K filings lost: (10847,30%)'"
      ]
     },
     "metadata": {},
     "output_type": "display_data"
    },
    {
     "data": {
      "text/plain": [
       "'# and % of stock events lost: (1531,6%)'"
      ]
     },
     "metadata": {},
     "output_type": "display_data"
    },
    {
     "data": {
      "text/plain": [
       "'# and % of ticker mismatches: (550,2%)'"
      ]
     },
     "metadata": {},
     "output_type": "display_data"
    },
    {
     "data": {
      "text/plain": [
       "'# and % of filing date mismatches: (19766,78%)'"
      ]
     },
     "metadata": {},
     "output_type": "display_data"
    },
    {
     "data": {
      "text/plain": [
       "'# and % of ticker and filing date mismatches: (412,2%)'"
      ]
     },
     "metadata": {},
     "output_type": "display_data"
    },
    {
     "data": {
      "text/plain": [
       "'# and % of ticker or filing date mismatches: (19904,78%)'"
      ]
     },
     "metadata": {},
     "output_type": "display_data"
    }
   ],
   "source": [
    "result = pd.merge(text_dfs, predictions, left_on=[\"cik\", \"filing_year\"], right_on=[\"cik\", \"year\"])\n",
    "\n",
    "num_result = float(len(result))\n",
    "num_text_lost = num_text - num_result\n",
    "num_pred_lost = num_pred - num_result\n",
    "\n",
    "ticker_mismatch = result[\"ticker_x\"] != result[\"ticker_y\"]\n",
    "filing_date_mismatch = result[\"filing_date_x\"] != result[\"filing_date_y\"]\n",
    "ticker_and_filing_mismatch = ticker_mismatch & filing_date_mismatch\n",
    "ticker_or_filing_mismatch = ticker_mismatch | filing_date_mismatch\n",
    "\n",
    "display(\"# and % of 10-K filings lost: ({:n},{:.0%})\".format(num_text_lost, num_text_lost/ num_text))\n",
    "display(\"# and % of stock events lost: ({:n},{:.0%})\".format(num_pred_lost, num_pred_lost / num_pred))\n",
    "display(\"# and % of ticker mismatches: ({:n},{:.0%})\".format(ticker_mismatch.sum(), float(ticker_mismatch.sum()) / num_result))\n",
    "display(\"# and % of filing date mismatches: ({:n},{:.0%})\".format(filing_date_mismatch.sum(), float(filing_date_mismatch.sum()) / num_result))\n",
    "display(\"# and % of ticker and filing date mismatches: ({:n},{:.0%})\".format(ticker_and_filing_mismatch.sum(), float(ticker_and_filing_mismatch.sum()) / num_result))\n",
    "display(\"# and % of ticker or filing date mismatches: ({:n},{:.0%})\".format(ticker_or_filing_mismatch.sum(), float(ticker_or_filing_mismatch.sum()) / num_result))"
   ]
  },
  {
   "cell_type": "code",
   "execution_count": 13,
   "metadata": {
    "ExecuteTime": {
     "end_time": "2021-03-01T21:49:51.079461Z",
     "start_time": "2021-03-01T21:49:51.011539Z"
    }
   },
   "outputs": [
    {
     "data": {
      "text/plain": [
       "'# and % of 10-K filings lost: (10847,30%)'"
      ]
     },
     "metadata": {},
     "output_type": "display_data"
    },
    {
     "data": {
      "text/plain": [
       "'# and % of stock events lost: (1531,6%)'"
      ]
     },
     "metadata": {},
     "output_type": "display_data"
    },
    {
     "data": {
      "text/plain": [
       "'# and % of ticker mismatches: (550,2%)'"
      ]
     },
     "metadata": {},
     "output_type": "display_data"
    },
    {
     "data": {
      "text/plain": [
       "'# and % of filing date mismatches: (19766,78%)'"
      ]
     },
     "metadata": {},
     "output_type": "display_data"
    },
    {
     "data": {
      "text/plain": [
       "'# and % of ticker and filing date mismatches: (412,2%)'"
      ]
     },
     "metadata": {},
     "output_type": "display_data"
    },
    {
     "data": {
      "text/plain": [
       "'# and % of ticker or filing date mismatches: (19904,78%)'"
      ]
     },
     "metadata": {},
     "output_type": "display_data"
    }
   ],
   "source": [
    "\"\"\" Relevant statistics post merge \"\"\"\n",
    "result = pd.merge(text_dfs, predictions, on=[\"cik\", \"year\"])\n",
    "num_result = float(len(result))\n",
    "num_text_lost = num_text - num_result\n",
    "num_pred_lost = num_pred - num_result\n",
    "\n",
    "ticker_mismatch = result[\"ticker_x\"] != result[\"ticker_y\"]\n",
    "filing_date_mismatch = result[\"filing_date_x\"] != result[\"filing_date_y\"]\n",
    "ticker_and_filing_mismatch = ticker_mismatch & filing_date_mismatch\n",
    "ticker_or_filing_mismatch = ticker_mismatch | filing_date_mismatch\n",
    "\n",
    "display(\"# and % of 10-K filings lost: ({:n},{:.0%})\".format(num_text_lost, num_text_lost/ num_text))\n",
    "display(\"# and % of stock events lost: ({:n},{:.0%})\".format(num_pred_lost, num_pred_lost / num_pred))\n",
    "display(\"# and % of ticker mismatches: ({:n},{:.0%})\".format(ticker_mismatch.sum(), float(ticker_mismatch.sum()) / num_result))\n",
    "display(\"# and % of filing date mismatches: ({:n},{:.0%})\".format(filing_date_mismatch.sum(), float(filing_date_mismatch.sum()) / num_result))\n",
    "display(\"# and % of ticker and filing date mismatches: ({:n},{:.0%})\".format(ticker_and_filing_mismatch.sum(), float(ticker_and_filing_mismatch.sum()) / num_result))\n",
    "display(\"# and % of ticker or filing date mismatches: ({:n},{:.0%})\".format(ticker_or_filing_mismatch.sum(), float(ticker_or_filing_mismatch.sum()) / num_result))"
   ]
  },
  {
   "cell_type": "code",
   "execution_count": null,
   "metadata": {},
   "outputs": [],
   "source": [
    "# We can conduct analysis by filtering by either cik (by company), or by year\n",
    "result.drop(columns=[\"ticker_x\", \"filing_date_x\", \"ticker_y\", \"filing_date_y\", \"cik\"], inplace=True)\n",
    "result.head(5)"
   ]
  },
  {
   "cell_type": "code",
   "execution_count": null,
   "metadata": {},
   "outputs": [],
   "source": [
    "result.write_csv(\"processed_data.csv\")"
   ]
  }
 ],
 "metadata": {
  "kernelspec": {
   "display_name": "Python 3",
   "language": "python",
   "name": "python3"
  },
  "language_info": {
   "codemirror_mode": {
    "name": "ipython",
    "version": 3
   },
   "file_extension": ".py",
   "mimetype": "text/x-python",
   "name": "python",
   "nbconvert_exporter": "python",
   "pygments_lexer": "ipython3",
   "version": "3.8.5"
  }
 },
 "nbformat": 4,
 "nbformat_minor": 4
}
