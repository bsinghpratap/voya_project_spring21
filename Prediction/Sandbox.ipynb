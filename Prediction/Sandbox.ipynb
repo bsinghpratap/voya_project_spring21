{
 "cells": [
  {
   "cell_type": "code",
   "execution_count": 1,
   "metadata": {},
   "outputs": [],
   "source": [
    "import pandas as pd\n",
    "from gensim.corpora import Dictionary\n",
    "from gensim.models.ldamodel import LdaModel\n",
    "from sklearn.ensemble import RandomForestClassifier"
   ]
  },
  {
   "cell_type": "code",
   "execution_count": 12,
   "metadata": {},
   "outputs": [],
   "source": [
    "job_type = \"sentence_lda\"\n",
    "base = \"/mnt/nfs/scratch1/hshukla/sentence_results/\"\n",
    "model_base = \"sen_lda_{}_{}.model\"\n",
    "if job_type == \"sentence_lda\":\n",
    "    window_size = 7\n",
    "else:\n",
    "    window_size = None\n",
    "\n",
    "# Settings\n",
    "lda_risk_path = base + model_base.format(\"item1a_risk\", window_size)\n",
    "lda_mda_path = base +  model_base.format(\"item7_mda\", window_size)\n",
    "data_path = base + \"df_sen_7_3.pkl\"\n",
    "output_folder_path = base + \"predictions/\"\n",
    "is_pkl = True\n",
    "is_corp_filter = True\n",
    "is_vanilla = job_type == \"vanilla_lda\"\n",
    "start_year = 2012\n",
    "end_year = 2015\n",
    "predict_year = 2016\n",
    "train_range = list(range(start_year,end_year+1))"
   ]
  },
  {
   "cell_type": "code",
   "execution_count": 3,
   "metadata": {},
   "outputs": [],
   "source": [
    "# Load data\n",
    "if is_pkl:\n",
    "    data = pd.read_pickle(data_path)\n",
    "else:\n",
    "    data = pd.read_csv(data_path)\n",
    "lda_risk = LdaModel.load(lda_risk_path)\n",
    "lda_mda = LdaModel.load(lda_mda_path)"
   ]
  },
  {
   "cell_type": "code",
   "execution_count": 7,
   "metadata": {
    "scrolled": true
   },
   "outputs": [
    {
     "name": "stdout",
     "output_type": "stream",
     "text": [
      "Using sentence_lda model for [2012,2015] inclusive predicting for 2016\n",
      "# train rows: 5155\n",
      "# test rows: 1307\n"
     ]
    },
    {
     "name": "stderr",
     "output_type": "stream",
     "text": [
      "<ipython-input-7-6087fe41bd48>:5: SettingWithCopyWarning: \n",
      "A value is trying to be set on a copy of a slice from a DataFrame.\n",
      "Try using .loc[row_indexer,col_indexer] = value instead\n",
      "\n",
      "See the caveats in the documentation: https://pandas.pydata.org/pandas-docs/stable/user_guide/indexing.html#returning-a-view-versus-a-copy\n",
      "  data_valid[\"is_dps_cut\"] = data_valid[\"is_dps_cut\"].astype(int)\n"
     ]
    }
   ],
   "source": [
    "# Find subset of valid data\n",
    "print(\"Using {} model for [{},{}] inclusive predicting for {}\".format(job_type, start_year, end_year, predict_year))\n",
    "data[\"is_dividend_payer\"] = data[\"is_dividend_payer\"].astype(bool)\n",
    "data_valid = data[data[\"is_dividend_payer\"] & data[\"is_dps_cut\"].notnull()]\n",
    "data_valid[\"is_dps_cut\"] = data_valid[\"is_dps_cut\"].astype(int)\n",
    "\n",
    "# train/test\n",
    "data_train = data_valid[(data_valid.year_x >= start_year) & (data_valid.year_x <= end_year)]\n",
    "data_test = data_valid[data_valid.year_x == predict_year]\n",
    "print(\"# train rows: {}\".format(len(data_train)))\n",
    "print(\"# test rows: {}\".format(len(data_test)))"
   ]
  },
  {
   "cell_type": "code",
   "execution_count": 9,
   "metadata": {},
   "outputs": [],
   "source": [
    "if is_vanilla:\n",
    "    risk_docs = []\n",
    "    mda_docs = []\n",
    "else:\n",
    "    risk_docs = [sentence_grp for doc in data_train[\"item1a_risk\"].to_list() for sentence_grp in doc]\n",
    "    mda_docs = [sentence_grp for doc in data_train[\"item7_mda\"].to_list() for sentence_grp in doc]"
   ]
  },
  {
   "cell_type": "code",
   "execution_count": 13,
   "metadata": {},
   "outputs": [],
   "source": [
    "risk_dict = Dictionary(risk_docs)\n",
    "mda_dict = Dictionary(risk_docs)\n",
    "if is_corp_filter: # Used filtering in sent-lda to speed things up\n",
    "    risk_dict.filter_extremes(no_below=10)\n",
    "    mda_dict.filter_extremes(no_below=10)\n",
    "del risk_docs\n",
    "del mda_docs"
   ]
  },
  {
   "cell_type": "code",
   "execution_count": 15,
   "metadata": {},
   "outputs": [],
   "source": [
    "rf = RandomForestClassifier(random_state=5)"
   ]
  },
  {
   "cell_type": "code",
   "execution_count": 18,
   "metadata": {},
   "outputs": [
    {
     "name": "stdout",
     "output_type": "stream",
     "text": [
      "For year 2012 we have 1199 documents\n"
     ]
    }
   ],
   "source": [
    "year = 2012\n",
    "data_slice = data_train[data_train.year_x == year]\n",
    "print(\"For year {} we have {} documents\".format(year, len(data_slice)))\n",
    "\n",
    "risk_docs = [sentence_grp for doc in data_slice[\"item1a_risk\"].to_list() for sentence_grp in doc]\n",
    "risk_corpus = [risk_dict.doc2bow(doc) for doc in risk_docs]\n",
    "mda_docs = [sentence_grp for doc in data_slice[\"item7_mda\"].to_list() for sentence_grp in doc]\n",
    "mda_corpus = [mda_dict.doc2bow(doc) for doc in risk_docs]\n",
    "del risk_docs\n",
    "del mda_docs\n",
    "\n",
    "risk_results = lda_risk[risk_corpus]\n",
    "mda_results = lda_mda[mda_corpus]"
   ]
  },
  {
   "cell_type": "code",
   "execution_count": null,
   "metadata": {},
   "outputs": [],
   "source": [
    "risk_idx = 0\n",
    "mda_idx = 0\n",
    "weights = []\n",
    "\n",
    "row = data_slice[0]"
   ]
  },
  {
   "cell_type": "code",
   "execution_count": 23,
   "metadata": {},
   "outputs": [
    {
     "data": {
      "text/plain": [
       "'Num items: 20'"
      ]
     },
     "metadata": {},
     "output_type": "display_data"
    },
    {
     "data": {
      "text/plain": [
       "'risk items in row: 42'"
      ]
     },
     "metadata": {},
     "output_type": "display_data"
    },
    {
     "data": {
      "text/plain": [
       "'mda items in row: 76'"
      ]
     },
     "metadata": {},
     "output_type": "display_data"
    }
   ],
   "source": [
    "row = data_slice.iloc[0]\n",
    "num\n",
    "display(\"Num items: {}\".format(len(row)))\n",
    "display(\"risk items in row: {}\".format(len(row[\"item1a_risk\"])))\n",
    "display(\"mda items in row: {}\".format(len(row[\"item7_mda\"])))"
   ]
  },
  {
   "cell_type": "code",
   "execution_count": 21,
   "metadata": {},
   "outputs": [
    {
     "data": {
      "text/plain": [
       "Unnamed: 0                                                        3144\n",
       "Unnamed: 0.1                                                      3144\n",
       "cik                                                               1750\n",
       "ticker_x                                                           AIR\n",
       "filing_date                                                 2012-07-19\n",
       "item1a_risk          [[item, risk, factors, the, following, descrip...\n",
       "item7_mda            [[item, managements, discussion, and, analysis...\n",
       "year_x                                                            2012\n",
       "filing_year_x                                                     2012\n",
       "perm_id                                                           4332\n",
       "ticker_y                                                           AIR\n",
       "year_y                                                            2012\n",
       "company_name                                                  AAR CORP\n",
       "is_dividend_payer                                                 True\n",
       "dps_change                                                           0\n",
       "is_dps_cut                                                           0\n",
       "z_environmental                                                    NaN\n",
       "d_environmental                                                    NaN\n",
       "sector                                                     Industrials\n",
       "filing_year_y                                                     2012\n",
       "Name: 3144, dtype: object"
      ]
     },
     "execution_count": 21,
     "metadata": {},
     "output_type": "execute_result"
    }
   ],
   "source": [
    "\"\"\"\n",
    "window = 1: Only one \n",
    "window = 5: Two topics\n",
    "window = 7: Three topics\n",
    "\"\"\"\n"
   ]
  },
  {
   "cell_type": "code",
   "execution_count": null,
   "metadata": {},
   "outputs": [],
   "source": []
  }
 ],
 "metadata": {
  "kernelspec": {
   "display_name": "Python 3",
   "language": "python",
   "name": "python3"
  },
  "language_info": {
   "codemirror_mode": {
    "name": "ipython",
    "version": 3
   },
   "file_extension": ".py",
   "mimetype": "text/x-python",
   "name": "python",
   "nbconvert_exporter": "python",
   "pygments_lexer": "ipython3",
   "version": "3.8.5"
  }
 },
 "nbformat": 4,
 "nbformat_minor": 4
}
