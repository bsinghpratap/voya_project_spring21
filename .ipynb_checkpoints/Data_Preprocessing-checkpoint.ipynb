{
 "cells": [
  {
   "cell_type": "code",
   "execution_count": 1,
   "metadata": {
    "ExecuteTime": {
     "end_time": "2021-03-01T21:37:45.995196Z",
     "start_time": "2021-03-01T21:37:43.387910Z"
    }
   },
   "outputs": [],
   "source": [
    "import pandas as pd\n",
    "import numpy as np\n",
    "from gensim.parsing.preprocessing import preprocess_string, remove_stopwords, strip_numeric, strip_punctuation, strip_short, stem_text"
   ]
  },
  {
   "cell_type": "markdown",
   "metadata": {},
   "source": [
    "# Preprocess 10-K filings"
   ]
  },
  {
   "cell_type": "code",
   "execution_count": 2,
   "metadata": {
    "ExecuteTime": {
     "end_time": "2021-03-01T21:40:23.801263Z",
     "start_time": "2021-03-01T21:37:47.786362Z"
    }
   },
   "outputs": [],
   "source": [
    "data_by_year = {}\n",
    "# Filing_Date is included because its (allegedly) useful for matching with the predictions. Also useful for \n",
    "# deciding what 1a/7 text is correct (by newness)\n",
    "relevant_cols = [\"cik\", \"ticker\", \"filing_date\", \"item1a_risk\", \"item7_mda\"]\n",
    "path = \"../Files/\"\n",
    "\n",
    "# Only load ^ columns. Drop if N/A in cik, item1a, or item7 or if duplicate. Append year\n",
    "for year in range(2009,2021):\n",
    "    data_by_year[year] = pd.read_csv(path + str(year) + \".csv\", usecols=relevant_cols)\n",
    "    data_by_year[year] = data_by_year[year].dropna(subset=['cik', 'item1a_risk', 'item7_mda']).drop_duplicates()\n",
    "    data_by_year[year][\"filing_date\"] = pd.to_datetime(data_by_year[year][\"filing_date\"])\n",
    "    data_by_year[year][\"year\"] = year\n",
    "    data_by_year[year][\"filing_year\"] =  pd.DatetimeIndex(data_by_year[year][\"filing_date\"]).year"
   ]
  },
  {
   "cell_type": "code",
   "execution_count": 3,
   "metadata": {
    "ExecuteTime": {
     "end_time": "2021-03-01T21:40:43.369983Z",
     "start_time": "2021-03-01T21:40:23.809077Z"
    }
   },
   "outputs": [],
   "source": [
    "# Dirty logic for collapsing groups. Reformat as needed - currently pretty dumb\n",
    "def collapse_cik_groups(grp):\n",
    "    if len(grp) > 1:\n",
    "        \"\"\" If the 1a and 7 text is the same, take the most recent (regardless of ticker)\"\"\"\n",
    "        if (grp.iloc[0,3] == grp[\"item1a_risk\"]).all() and (grp.iloc[0,3] == grp[\"item7_mda\"]).all():\n",
    "            # Seems like its sorted by filing_date originally - just take the last\n",
    "            return grp.iloc[-1,:]\n",
    "        else:\n",
    "            \"\"\"For now, just return the most recent\"\"\"\n",
    "            return grp.iloc[-1,:]\n",
    "    else:\n",
    "        return grp.squeeze()\n",
    "\n",
    "pre_grouping_sizes = []\n",
    "post_grouping_sizes = []\n",
    "\n",
    "for year in range(2009,2021):\n",
    "    pre_grouping_sizes.append(len(data_by_year[year]))\n",
    "    data_by_year[year] = data_by_year[year].groupby(\"cik\").apply(lambda grp: collapse_cik_groups(grp)).reset_index(drop=True)\n",
    "    post_grouping_sizes.append(len(data_by_year[year])) "
   ]
  },
  {
   "cell_type": "code",
   "execution_count": 4,
   "metadata": {
    "ExecuteTime": {
     "end_time": "2021-03-01T21:43:43.467266Z",
     "start_time": "2021-03-01T21:43:43.423960Z"
    }
   },
   "outputs": [
    {
     "data": {
      "text/plain": [
       "'2009 lost 2%, 14 rows total'"
      ]
     },
     "metadata": {},
     "output_type": "display_data"
    },
    {
     "data": {
      "text/plain": [
       "'2010 lost 2%, 51 rows total'"
      ]
     },
     "metadata": {},
     "output_type": "display_data"
    },
    {
     "data": {
      "text/plain": [
       "'2011 lost 2%, 58 rows total'"
      ]
     },
     "metadata": {},
     "output_type": "display_data"
    },
    {
     "data": {
      "text/plain": [
       "'2012 lost 2%, 56 rows total'"
      ]
     },
     "metadata": {},
     "output_type": "display_data"
    },
    {
     "data": {
      "text/plain": [
       "'2013 lost 2%, 60 rows total'"
      ]
     },
     "metadata": {},
     "output_type": "display_data"
    },
    {
     "data": {
      "text/plain": [
       "'2014 lost 2%, 68 rows total'"
      ]
     },
     "metadata": {},
     "output_type": "display_data"
    },
    {
     "data": {
      "text/plain": [
       "'2015 lost 2%, 76 rows total'"
      ]
     },
     "metadata": {},
     "output_type": "display_data"
    },
    {
     "data": {
      "text/plain": [
       "'2016 lost 2%, 73 rows total'"
      ]
     },
     "metadata": {},
     "output_type": "display_data"
    },
    {
     "data": {
      "text/plain": [
       "'2017 lost 2%, 83 rows total'"
      ]
     },
     "metadata": {},
     "output_type": "display_data"
    },
    {
     "data": {
      "text/plain": [
       "'2018 lost 2%, 86 rows total'"
      ]
     },
     "metadata": {},
     "output_type": "display_data"
    },
    {
     "data": {
      "text/plain": [
       "'2019 lost 3%, 87 rows total'"
      ]
     },
     "metadata": {},
     "output_type": "display_data"
    },
    {
     "data": {
      "text/plain": [
       "'2020 lost 3%, 62 rows total'"
      ]
     },
     "metadata": {},
     "output_type": "display_data"
    },
    {
     "data": {
      "text/plain": [
       "'In total lost 2%, 774 rows total'"
      ]
     },
     "metadata": {},
     "output_type": "display_data"
    }
   ],
   "source": [
    "for pre_size, post_size, year in zip(pre_grouping_sizes, post_grouping_sizes, list(range(2009,2021))):\n",
    "    num_lost = pre_size - post_size\n",
    "    percent_lost = float(num_lost) / float(pre_size)\n",
    "    display(\"{:n} lost {:.0%}, {} rows total\".format(year, percent_lost, num_lost))\n",
    "\n",
    "num_lost = sum(pre_grouping_sizes) - sum(post_grouping_sizes)\n",
    "percent_lost = float(num_lost) / float(sum(pre_grouping_sizes))\n",
    "display(\"In total lost {:.0%}, {} rows total\".format(percent_lost, num_lost))"
   ]
  },
  {
   "cell_type": "code",
   "execution_count": 5,
   "metadata": {
    "ExecuteTime": {
     "end_time": "2021-03-01T21:43:46.191482Z",
     "start_time": "2021-03-01T21:43:46.099846Z"
    }
   },
   "outputs": [
    {
     "data": {
      "text/html": [
       "<div>\n",
       "<style scoped>\n",
       "    .dataframe tbody tr th:only-of-type {\n",
       "        vertical-align: middle;\n",
       "    }\n",
       "\n",
       "    .dataframe tbody tr th {\n",
       "        vertical-align: top;\n",
       "    }\n",
       "\n",
       "    .dataframe thead th {\n",
       "        text-align: right;\n",
       "    }\n",
       "</style>\n",
       "<table border=\"1\" class=\"dataframe\">\n",
       "  <thead>\n",
       "    <tr style=\"text-align: right;\">\n",
       "      <th></th>\n",
       "      <th>cik</th>\n",
       "      <th>ticker</th>\n",
       "      <th>filing_date</th>\n",
       "      <th>item1a_risk</th>\n",
       "      <th>item7_mda</th>\n",
       "      <th>year</th>\n",
       "      <th>filing_year</th>\n",
       "    </tr>\n",
       "  </thead>\n",
       "  <tbody>\n",
       "    <tr>\n",
       "      <th>0</th>\n",
       "      <td>1750</td>\n",
       "      <td>AIR</td>\n",
       "      <td>2009-07-16</td>\n",
       "      <td>&gt; ITEM 1A. RISK FACTORS The following is a des...</td>\n",
       "      <td>&gt; ITEM 7. MANAGEMENT'S DISCUSSION AND ANALYSIS...</td>\n",
       "      <td>2009</td>\n",
       "      <td>2009</td>\n",
       "    </tr>\n",
       "    <tr>\n",
       "      <th>1</th>\n",
       "      <td>2034</td>\n",
       "      <td>ACET</td>\n",
       "      <td>2009-09-11</td>\n",
       "      <td>&gt;Item 1A. Risk factors You should carefully co...</td>\n",
       "      <td>&gt;Item 7. Management s Discussion and Analysis ...</td>\n",
       "      <td>2009</td>\n",
       "      <td>2009</td>\n",
       "    </tr>\n",
       "    <tr>\n",
       "      <th>2</th>\n",
       "      <td>2491</td>\n",
       "      <td>BYI</td>\n",
       "      <td>2009-08-20</td>\n",
       "      <td>&gt; ITEM 1A. RISK FACTORS Our business and inves...</td>\n",
       "      <td>&gt; ITEM 7. MANAGEMENT'S DISCUSSION AND ANALYSIS...</td>\n",
       "      <td>2009</td>\n",
       "      <td>2009</td>\n",
       "    </tr>\n",
       "    <tr>\n",
       "      <th>3</th>\n",
       "      <td>2969</td>\n",
       "      <td>APD</td>\n",
       "      <td>2009-11-25</td>\n",
       "      <td>&gt;ITEM 1A. RISK FACTORS The Company operates in...</td>\n",
       "      <td>&gt;ITEM 7. MANAGEMENT S DISCUSSION AND ANALYSIS ...</td>\n",
       "      <td>2009</td>\n",
       "      <td>2009</td>\n",
       "    </tr>\n",
       "    <tr>\n",
       "      <th>4</th>\n",
       "      <td>3545</td>\n",
       "      <td>ALCO</td>\n",
       "      <td>2009-12-14</td>\n",
       "      <td>&gt;Item 1A. Risk Factors. Alico s operations inv...</td>\n",
       "      <td>&gt;Item 7. Management s Discussion and Analysis ...</td>\n",
       "      <td>2009</td>\n",
       "      <td>2009</td>\n",
       "    </tr>\n",
       "    <tr>\n",
       "      <th>...</th>\n",
       "      <td>...</td>\n",
       "      <td>...</td>\n",
       "      <td>...</td>\n",
       "      <td>...</td>\n",
       "      <td>...</td>\n",
       "      <td>...</td>\n",
       "      <td>...</td>\n",
       "    </tr>\n",
       "    <tr>\n",
       "      <th>36346</th>\n",
       "      <td>1796129</td>\n",
       "      <td>LSACU</td>\n",
       "      <td>2020-09-23</td>\n",
       "      <td>&gt;ITEM 1A. RISK FACTORS 13</td>\n",
       "      <td>&gt;ITEM 7. MANAGEMENT S DISCUSSION AND ANALYSIS ...</td>\n",
       "      <td>2020</td>\n",
       "      <td>2020</td>\n",
       "    </tr>\n",
       "    <tr>\n",
       "      <th>36347</th>\n",
       "      <td>1796587</td>\n",
       "      <td>NO_TICKER</td>\n",
       "      <td>2020-05-21</td>\n",
       "      <td>&gt;Item 1A.Risk Factors.Item 2.Properties.</td>\n",
       "      <td>&gt;Item 7.Management's Discussion and Analysis o...</td>\n",
       "      <td>2020</td>\n",
       "      <td>2020</td>\n",
       "    </tr>\n",
       "    <tr>\n",
       "      <th>36348</th>\n",
       "      <td>1797956</td>\n",
       "      <td>CPOW</td>\n",
       "      <td>2020-08-11</td>\n",
       "      <td>&gt;Item 1A. Risk Factors. We discuss our expecta...</td>\n",
       "      <td>&gt;Item 7. Management s Discussion and Analysis ...</td>\n",
       "      <td>2020</td>\n",
       "      <td>2020</td>\n",
       "    </tr>\n",
       "    <tr>\n",
       "      <th>36349</th>\n",
       "      <td>1799186</td>\n",
       "      <td>NONE</td>\n",
       "      <td>2020-06-25</td>\n",
       "      <td>&gt;Item 1A, Risk Factors (c) Item 2, Properties ...</td>\n",
       "      <td>&gt;Item 7, Management s Discussion and Analysis ...</td>\n",
       "      <td>2020</td>\n",
       "      <td>2020</td>\n",
       "    </tr>\n",
       "    <tr>\n",
       "      <th>36350</th>\n",
       "      <td>1808898</td>\n",
       "      <td>BNTC</td>\n",
       "      <td>2020-09-23</td>\n",
       "      <td>&gt;Item 1A. Risk Factors. Investing in our secur...</td>\n",
       "      <td>&gt;Item 7. Management s Discussion and Analysis ...</td>\n",
       "      <td>2020</td>\n",
       "      <td>2020</td>\n",
       "    </tr>\n",
       "  </tbody>\n",
       "</table>\n",
       "<p>36351 rows × 7 columns</p>\n",
       "</div>"
      ],
      "text/plain": [
       "           cik     ticker filing_date  \\\n",
       "0         1750        AIR  2009-07-16   \n",
       "1         2034       ACET  2009-09-11   \n",
       "2         2491        BYI  2009-08-20   \n",
       "3         2969        APD  2009-11-25   \n",
       "4         3545       ALCO  2009-12-14   \n",
       "...        ...        ...         ...   \n",
       "36346  1796129      LSACU  2020-09-23   \n",
       "36347  1796587  NO_TICKER  2020-05-21   \n",
       "36348  1797956       CPOW  2020-08-11   \n",
       "36349  1799186       NONE  2020-06-25   \n",
       "36350  1808898       BNTC  2020-09-23   \n",
       "\n",
       "                                             item1a_risk  \\\n",
       "0      > ITEM 1A. RISK FACTORS The following is a des...   \n",
       "1      >Item 1A. Risk factors You should carefully co...   \n",
       "2      > ITEM 1A. RISK FACTORS Our business and inves...   \n",
       "3      >ITEM 1A. RISK FACTORS The Company operates in...   \n",
       "4      >Item 1A. Risk Factors. Alico s operations inv...   \n",
       "...                                                  ...   \n",
       "36346                         >ITEM 1A. RISK FACTORS 13    \n",
       "36347           >Item 1A.Risk Factors.Item 2.Properties.   \n",
       "36348  >Item 1A. Risk Factors. We discuss our expecta...   \n",
       "36349  >Item 1A, Risk Factors (c) Item 2, Properties ...   \n",
       "36350  >Item 1A. Risk Factors. Investing in our secur...   \n",
       "\n",
       "                                               item7_mda  year  filing_year  \n",
       "0      > ITEM 7. MANAGEMENT'S DISCUSSION AND ANALYSIS...  2009         2009  \n",
       "1      >Item 7. Management s Discussion and Analysis ...  2009         2009  \n",
       "2      > ITEM 7. MANAGEMENT'S DISCUSSION AND ANALYSIS...  2009         2009  \n",
       "3      >ITEM 7. MANAGEMENT S DISCUSSION AND ANALYSIS ...  2009         2009  \n",
       "4      >Item 7. Management s Discussion and Analysis ...  2009         2009  \n",
       "...                                                  ...   ...          ...  \n",
       "36346  >ITEM 7. MANAGEMENT S DISCUSSION AND ANALYSIS ...  2020         2020  \n",
       "36347  >Item 7.Management's Discussion and Analysis o...  2020         2020  \n",
       "36348  >Item 7. Management s Discussion and Analysis ...  2020         2020  \n",
       "36349  >Item 7, Management s Discussion and Analysis ...  2020         2020  \n",
       "36350  >Item 7. Management s Discussion and Analysis ...  2020         2020  \n",
       "\n",
       "[36351 rows x 7 columns]"
      ]
     },
     "execution_count": 5,
     "metadata": {},
     "output_type": "execute_result"
    }
   ],
   "source": [
    "# Concat all dataframes into a single one\n",
    "text_dfs = pd.concat(data_by_year.values(), ignore_index=True)\n",
    "text_dfs"
   ]
  },
  {
   "cell_type": "raw",
   "metadata": {
    "ExecuteTime": {
     "end_time": "2021-03-01T18:29:52.667694Z",
     "start_time": "2021-03-01T18:16:05.590756Z"
    }
   },
   "source": [
    "# Text cleaning\n",
    "\n",
    "# strip_short/strip_numeric are questionable because there are lots of relevant financial terms that are short\n",
    "# Consider removing words that are rare across documents (appear < 4 times)\n",
    "# A single year takes about 7 minutes to process. In total = mins\n",
    "#PREPROCESS_TEXT_FILTERS = [strip_punctuation, remove_stopwords, strip_numeric, stem_text, lambda x: strip_short(x, minsize=3)]\n",
    "PREPROCESS_TEXT_FILTERS = [remove_stopwords, stem_text]\n",
    "text_dfs[\"item1a_risk\"] = text_dfs[\"item1a_risk\"].apply(lambda txt: preprocess_string(txt, PREPROCESS_TEXT_FILTERS))\n",
    "text_dfs[\"item7_mda\"] = text_dfs[\"item7_mda\"].apply(lambda txt: preprocess_string(txt, PREPROCESS_TEXT_FILTERS))\n",
    "text_dfs"
   ]
  },
  {
   "cell_type": "markdown",
   "metadata": {},
   "source": [
    "# Load target data"
   ]
  },
  {
   "cell_type": "code",
   "execution_count": 6,
   "metadata": {
    "ExecuteTime": {
     "end_time": "2021-03-01T21:44:05.959838Z",
     "start_time": "2021-03-01T21:43:50.829642Z"
    }
   },
   "outputs": [
    {
     "data": {
      "text/html": [
       "<div>\n",
       "<style scoped>\n",
       "    .dataframe tbody tr th:only-of-type {\n",
       "        vertical-align: middle;\n",
       "    }\n",
       "\n",
       "    .dataframe tbody tr th {\n",
       "        vertical-align: top;\n",
       "    }\n",
       "\n",
       "    .dataframe thead th {\n",
       "        text-align: right;\n",
       "    }\n",
       "</style>\n",
       "<table border=\"1\" class=\"dataframe\">\n",
       "  <thead>\n",
       "    <tr style=\"text-align: right;\">\n",
       "      <th></th>\n",
       "      <th>perm_id</th>\n",
       "      <th>cik</th>\n",
       "      <th>ticker</th>\n",
       "      <th>year</th>\n",
       "      <th>filing_date</th>\n",
       "      <th>company_name</th>\n",
       "      <th>is_dividend_payer</th>\n",
       "      <th>dps_change</th>\n",
       "      <th>is_dps_cut</th>\n",
       "      <th>z_environmental</th>\n",
       "      <th>d_environmental</th>\n",
       "      <th>sector</th>\n",
       "      <th>filing_year</th>\n",
       "    </tr>\n",
       "  </thead>\n",
       "  <tbody>\n",
       "    <tr>\n",
       "      <th>0</th>\n",
       "      <td>229</td>\n",
       "      <td>1090872</td>\n",
       "      <td>A</td>\n",
       "      <td>2012</td>\n",
       "      <td>2012-12-20</td>\n",
       "      <td>AGILENT TECHNOLOGIES INC</td>\n",
       "      <td>1.0</td>\n",
       "      <td>0.421053</td>\n",
       "      <td>0.0</td>\n",
       "      <td>2.449925</td>\n",
       "      <td>-1.408006</td>\n",
       "      <td>Health Care</td>\n",
       "      <td>2012</td>\n",
       "    </tr>\n",
       "    <tr>\n",
       "      <th>1</th>\n",
       "      <td>229</td>\n",
       "      <td>1090872</td>\n",
       "      <td>A</td>\n",
       "      <td>2013</td>\n",
       "      <td>2013-12-19</td>\n",
       "      <td>AGILENT TECHNOLOGIES INC</td>\n",
       "      <td>1.0</td>\n",
       "      <td>0.137652</td>\n",
       "      <td>0.0</td>\n",
       "      <td>1.666993</td>\n",
       "      <td>1.117957</td>\n",
       "      <td>Health Care</td>\n",
       "      <td>2013</td>\n",
       "    </tr>\n",
       "    <tr>\n",
       "      <th>2</th>\n",
       "      <td>229</td>\n",
       "      <td>1090872</td>\n",
       "      <td>A</td>\n",
       "      <td>2014</td>\n",
       "      <td>2014-12-22</td>\n",
       "      <td>AGILENT TECHNOLOGIES INC</td>\n",
       "      <td>1.0</td>\n",
       "      <td>-0.275862</td>\n",
       "      <td>1.0</td>\n",
       "      <td>2.154238</td>\n",
       "      <td>-0.193752</td>\n",
       "      <td>Health Care</td>\n",
       "      <td>2014</td>\n",
       "    </tr>\n",
       "    <tr>\n",
       "      <th>3</th>\n",
       "      <td>229</td>\n",
       "      <td>1090872</td>\n",
       "      <td>A</td>\n",
       "      <td>2015</td>\n",
       "      <td>2015-12-21</td>\n",
       "      <td>AGILENT TECHNOLOGIES INC</td>\n",
       "      <td>1.0</td>\n",
       "      <td>0.139535</td>\n",
       "      <td>0.0</td>\n",
       "      <td>2.069083</td>\n",
       "      <td>0.039619</td>\n",
       "      <td>Health Care</td>\n",
       "      <td>2015</td>\n",
       "    </tr>\n",
       "    <tr>\n",
       "      <th>4</th>\n",
       "      <td>229</td>\n",
       "      <td>1090872</td>\n",
       "      <td>A</td>\n",
       "      <td>2016</td>\n",
       "      <td>2016-12-20</td>\n",
       "      <td>AGILENT TECHNOLOGIES INC</td>\n",
       "      <td>1.0</td>\n",
       "      <td>0.137652</td>\n",
       "      <td>0.0</td>\n",
       "      <td>2.087030</td>\n",
       "      <td>-0.112717</td>\n",
       "      <td>Health Care</td>\n",
       "      <td>2016</td>\n",
       "    </tr>\n",
       "    <tr>\n",
       "      <th>...</th>\n",
       "      <td>...</td>\n",
       "      <td>...</td>\n",
       "      <td>...</td>\n",
       "      <td>...</td>\n",
       "      <td>...</td>\n",
       "      <td>...</td>\n",
       "      <td>...</td>\n",
       "      <td>...</td>\n",
       "      <td>...</td>\n",
       "      <td>...</td>\n",
       "      <td>...</td>\n",
       "      <td>...</td>\n",
       "      <td>...</td>\n",
       "    </tr>\n",
       "    <tr>\n",
       "      <th>27030</th>\n",
       "      <td>3286</td>\n",
       "      <td>1011006</td>\n",
       "      <td>YHOO</td>\n",
       "      <td>2015</td>\n",
       "      <td>2016-02-29</td>\n",
       "      <td>ALTABA INC</td>\n",
       "      <td>0.0</td>\n",
       "      <td>NaN</td>\n",
       "      <td>NaN</td>\n",
       "      <td>-0.180481</td>\n",
       "      <td>-1.653875</td>\n",
       "      <td>Consumer</td>\n",
       "      <td>2016</td>\n",
       "    </tr>\n",
       "    <tr>\n",
       "      <th>27031</th>\n",
       "      <td>3286</td>\n",
       "      <td>1011006</td>\n",
       "      <td>YHOO</td>\n",
       "      <td>2016</td>\n",
       "      <td>2017-03-01</td>\n",
       "      <td>ALTABA INC</td>\n",
       "      <td>0.0</td>\n",
       "      <td>NaN</td>\n",
       "      <td>NaN</td>\n",
       "      <td>-0.836055</td>\n",
       "      <td>NaN</td>\n",
       "      <td>Consumer</td>\n",
       "      <td>2017</td>\n",
       "    </tr>\n",
       "    <tr>\n",
       "      <th>27032</th>\n",
       "      <td>2000</td>\n",
       "      <td>887568</td>\n",
       "      <td>ZOLL</td>\n",
       "      <td>2010</td>\n",
       "      <td>2010-12-17</td>\n",
       "      <td>ZOLL MEDICAL CORP</td>\n",
       "      <td>0.0</td>\n",
       "      <td>NaN</td>\n",
       "      <td>NaN</td>\n",
       "      <td>NaN</td>\n",
       "      <td>NaN</td>\n",
       "      <td>Health Care</td>\n",
       "      <td>2010</td>\n",
       "    </tr>\n",
       "    <tr>\n",
       "      <th>27033</th>\n",
       "      <td>2000</td>\n",
       "      <td>887568</td>\n",
       "      <td>ZOLL</td>\n",
       "      <td>2011</td>\n",
       "      <td>2011-11-23</td>\n",
       "      <td>ZOLL MEDICAL CORP</td>\n",
       "      <td>0.0</td>\n",
       "      <td>NaN</td>\n",
       "      <td>NaN</td>\n",
       "      <td>NaN</td>\n",
       "      <td>NaN</td>\n",
       "      <td>Health Care</td>\n",
       "      <td>2011</td>\n",
       "    </tr>\n",
       "    <tr>\n",
       "      <th>27034</th>\n",
       "      <td>1205</td>\n",
       "      <td>1003022</td>\n",
       "      <td>ZRAN</td>\n",
       "      <td>2010</td>\n",
       "      <td>2011-03-07</td>\n",
       "      <td>ZORAN CORP</td>\n",
       "      <td>0.0</td>\n",
       "      <td>NaN</td>\n",
       "      <td>NaN</td>\n",
       "      <td>NaN</td>\n",
       "      <td>NaN</td>\n",
       "      <td>Tech</td>\n",
       "      <td>2011</td>\n",
       "    </tr>\n",
       "  </tbody>\n",
       "</table>\n",
       "<p>27035 rows × 13 columns</p>\n",
       "</div>"
      ],
      "text/plain": [
       "      perm_id      cik ticker  year filing_date              company_name  \\\n",
       "0         229  1090872      A  2012  2012-12-20  AGILENT TECHNOLOGIES INC   \n",
       "1         229  1090872      A  2013  2013-12-19  AGILENT TECHNOLOGIES INC   \n",
       "2         229  1090872      A  2014  2014-12-22  AGILENT TECHNOLOGIES INC   \n",
       "3         229  1090872      A  2015  2015-12-21  AGILENT TECHNOLOGIES INC   \n",
       "4         229  1090872      A  2016  2016-12-20  AGILENT TECHNOLOGIES INC   \n",
       "...       ...      ...    ...   ...         ...                       ...   \n",
       "27030    3286  1011006   YHOO  2015  2016-02-29                ALTABA INC   \n",
       "27031    3286  1011006   YHOO  2016  2017-03-01                ALTABA INC   \n",
       "27032    2000   887568   ZOLL  2010  2010-12-17         ZOLL MEDICAL CORP   \n",
       "27033    2000   887568   ZOLL  2011  2011-11-23         ZOLL MEDICAL CORP   \n",
       "27034    1205  1003022   ZRAN  2010  2011-03-07                ZORAN CORP   \n",
       "\n",
       "       is_dividend_payer  dps_change  is_dps_cut  z_environmental  \\\n",
       "0                    1.0    0.421053         0.0         2.449925   \n",
       "1                    1.0    0.137652         0.0         1.666993   \n",
       "2                    1.0   -0.275862         1.0         2.154238   \n",
       "3                    1.0    0.139535         0.0         2.069083   \n",
       "4                    1.0    0.137652         0.0         2.087030   \n",
       "...                  ...         ...         ...              ...   \n",
       "27030                0.0         NaN         NaN        -0.180481   \n",
       "27031                0.0         NaN         NaN        -0.836055   \n",
       "27032                0.0         NaN         NaN              NaN   \n",
       "27033                0.0         NaN         NaN              NaN   \n",
       "27034                0.0         NaN         NaN              NaN   \n",
       "\n",
       "       d_environmental       sector  filing_year  \n",
       "0            -1.408006  Health Care         2012  \n",
       "1             1.117957  Health Care         2013  \n",
       "2            -0.193752  Health Care         2014  \n",
       "3             0.039619  Health Care         2015  \n",
       "4            -0.112717  Health Care         2016  \n",
       "...                ...          ...          ...  \n",
       "27030        -1.653875     Consumer         2016  \n",
       "27031              NaN     Consumer         2017  \n",
       "27032              NaN  Health Care         2010  \n",
       "27033              NaN  Health Care         2011  \n",
       "27034              NaN         Tech         2011  \n",
       "\n",
       "[27035 rows x 13 columns]"
      ]
     },
     "execution_count": 6,
     "metadata": {},
     "output_type": "execute_result"
    }
   ],
   "source": [
    "# Load predictions\n",
    "\n",
    "relevant_cols = [\"PERMID\", \"CIK\", \"Ticker\", \"year\", \"FilingDate\", \"company_name\", \"Dividend Payer\", \"DPS growth\", \"DPS cut\", \"zEnvironmental\", \"dEnvironmental\", \"sector\"]\n",
    "predictions = pd.read_excel(path + \"predictions.xlsx\", sheet_name=\"data\", skiprows=32, usecols=relevant_cols)\n",
    "predictions.columns = [\"perm_id\", \"cik\", \"ticker\", \"year\", \"filing_date\", \"company_name\", \"is_dividend_payer\", \"dps_change\", \"is_dps_cut\", \"z_environmental\", \"d_environmental\", \"sector\"]\n",
    "predictions['perm_id'] = predictions['perm_id'].str.replace(r\"[^0-9]\",'')\n",
    "predictions[\"filing_date\"] = pd.to_datetime(predictions[\"filing_date\"])\n",
    "predictions[\"filing_year\"] = pd.DatetimeIndex(predictions[\"filing_date\"]).year\n",
    "\n",
    "\"\"\" Difference in filing_date and the year (ticker AA  has 2016 w/ 2017 filing)\"\"\"\n",
    "predictions"
   ]
  },
  {
   "cell_type": "markdown",
   "metadata": {},
   "source": [
    "# Merge Data, Write to disk"
   ]
  },
  {
   "cell_type": "code",
   "execution_count": null,
   "metadata": {},
   "outputs": [],
   "source": [
    "num_pred = float(len(predictions))\n",
    "num_text = float(len(text_dfs))"
   ]
  },
  {
   "cell_type": "code",
   "execution_count": 9,
   "metadata": {
    "ExecuteTime": {
     "end_time": "2021-03-01T21:48:24.147958Z",
     "start_time": "2021-03-01T21:48:24.084111Z"
    }
   },
   "outputs": [
    {
     "data": {
      "text/plain": [
       "'# and % of 10-K filings lost: (11316,31%)'"
      ]
     },
     "metadata": {},
     "output_type": "display_data"
    },
    {
     "data": {
      "text/plain": [
       "'# and % of stock events lost: (2000,7%)'"
      ]
     },
     "metadata": {},
     "output_type": "display_data"
    },
    {
     "data": {
      "text/plain": [
       "'# and % of ticker mismatches: (598,2%)'"
      ]
     },
     "metadata": {},
     "output_type": "display_data"
    }
   ],
   "source": [
    "result = pd.merge(text_dfs, predictions, on=[\"cik\", \"filing_date\"])\n",
    "\n",
    "num_result = float(len(result))\n",
    "num_text_lost = num_text - num_result\n",
    "num_pred_lost = num_pred - num_result\n",
    "\n",
    "ticker_mismatch = result[\"ticker_x\"] != result[\"ticker_y\"]\n",
    "display(\"# and % of 10-K filings lost: ({:n},{:.0%})\".format(num_text_lost, num_text_lost/ num_text))\n",
    "display(\"# and % of stock events lost: ({:n},{:.0%})\".format(num_pred_lost, num_pred_lost / num_pred))\n",
    "display(\"# and % of ticker mismatches: ({:n},{:.0%})\".format(ticker_mismatch.sum(), float(ticker_mismatch.sum()) / num_result))"
   ]
  },
  {
   "cell_type": "code",
   "execution_count": 10,
   "metadata": {
    "ExecuteTime": {
     "end_time": "2021-03-01T21:48:55.998125Z",
     "start_time": "2021-03-01T21:48:55.926833Z"
    }
   },
   "outputs": [
    {
     "data": {
      "text/plain": [
       "'# and % of 10-K filings lost: (11289,31%)'"
      ]
     },
     "metadata": {},
     "output_type": "display_data"
    },
    {
     "data": {
      "text/plain": [
       "'# and % of stock events lost: (1973,7%)'"
      ]
     },
     "metadata": {},
     "output_type": "display_data"
    },
    {
     "data": {
      "text/plain": [
       "'# and % of ticker mismatches: (599,2%)'"
      ]
     },
     "metadata": {},
     "output_type": "display_data"
    },
    {
     "data": {
      "text/plain": [
       "'# and % of filing date mismatches: (27,0%)'"
      ]
     },
     "metadata": {},
     "output_type": "display_data"
    },
    {
     "data": {
      "text/plain": [
       "'# and % of ticker and filing date mismatches: (1,0%)'"
      ]
     },
     "metadata": {},
     "output_type": "display_data"
    },
    {
     "data": {
      "text/plain": [
       "'# and % of ticker or filing date mismatches: (625,2%)'"
      ]
     },
     "metadata": {},
     "output_type": "display_data"
    }
   ],
   "source": [
    "result = pd.merge(text_dfs, predictions, on=[\"cik\", \"filing_year\"])\n",
    "\n",
    "num_result = float(len(result))\n",
    "num_text_lost = num_text - num_result\n",
    "num_pred_lost = num_pred - num_result\n",
    "\n",
    "ticker_mismatch = result[\"ticker_x\"] != result[\"ticker_y\"]\n",
    "filing_date_mismatch = result[\"filing_date_x\"] != result[\"filing_date_y\"]\n",
    "ticker_and_filing_mismatch = ticker_mismatch & filing_date_mismatch\n",
    "ticker_or_filing_mismatch = ticker_mismatch | filing_date_mismatch\n",
    "\n",
    "display(\"# and % of 10-K filings lost: ({:n},{:.0%})\".format(num_text_lost, num_text_lost/ num_text))\n",
    "display(\"# and % of stock events lost: ({:n},{:.0%})\".format(num_pred_lost, num_pred_lost / num_pred))\n",
    "display(\"# and % of ticker mismatches: ({:n},{:.0%})\".format(ticker_mismatch.sum(), float(ticker_mismatch.sum()) / num_result))\n",
    "display(\"# and % of filing date mismatches: ({:n},{:.0%})\".format(filing_date_mismatch.sum(), float(filing_date_mismatch.sum()) / num_result))\n",
    "display(\"# and % of ticker and filing date mismatches: ({:n},{:.0%})\".format(ticker_and_filing_mismatch.sum(), float(ticker_and_filing_mismatch.sum()) / num_result))\n",
    "display(\"# and % of ticker or filing date mismatches: ({:n},{:.0%})\".format(ticker_or_filing_mismatch.sum(), float(ticker_or_filing_mismatch.sum()) / num_result))"
   ]
  },
  {
   "cell_type": "code",
   "execution_count": 11,
   "metadata": {
    "ExecuteTime": {
     "end_time": "2021-03-01T21:49:14.927550Z",
     "start_time": "2021-03-01T21:49:14.859951Z"
    }
   },
   "outputs": [
    {
     "data": {
      "text/plain": [
       "'# and % of 10-K filings lost: (11289,31%)'"
      ]
     },
     "metadata": {},
     "output_type": "display_data"
    },
    {
     "data": {
      "text/plain": [
       "'# and % of stock events lost: (1973,7%)'"
      ]
     },
     "metadata": {},
     "output_type": "display_data"
    },
    {
     "data": {
      "text/plain": [
       "'# and % of ticker mismatches: (599,2%)'"
      ]
     },
     "metadata": {},
     "output_type": "display_data"
    },
    {
     "data": {
      "text/plain": [
       "'# and % of filing date mismatches: (27,0%)'"
      ]
     },
     "metadata": {},
     "output_type": "display_data"
    },
    {
     "data": {
      "text/plain": [
       "'# and % of ticker and filing date mismatches: (1,0%)'"
      ]
     },
     "metadata": {},
     "output_type": "display_data"
    },
    {
     "data": {
      "text/plain": [
       "'# and % of ticker or filing date mismatches: (625,2%)'"
      ]
     },
     "metadata": {},
     "output_type": "display_data"
    }
   ],
   "source": [
    "result = pd.merge(text_dfs, predictions, left_on=[\"cik\", \"year\"], right_on=[\"cik\", \"filing_year\"])\n",
    "\n",
    "num_result = float(len(result))\n",
    "num_text_lost = num_text - num_result\n",
    "num_pred_lost = num_pred - num_result\n",
    "\n",
    "ticker_mismatch = result[\"ticker_x\"] != result[\"ticker_y\"]\n",
    "filing_date_mismatch = result[\"filing_date_x\"] != result[\"filing_date_y\"]\n",
    "ticker_and_filing_mismatch = ticker_mismatch & filing_date_mismatch\n",
    "ticker_or_filing_mismatch = ticker_mismatch | filing_date_mismatch\n",
    "\n",
    "display(\"# and % of 10-K filings lost: ({:n},{:.0%})\".format(num_text_lost, num_text_lost/ num_text))\n",
    "display(\"# and % of stock events lost: ({:n},{:.0%})\".format(num_pred_lost, num_pred_lost / num_pred))\n",
    "display(\"# and % of ticker mismatches: ({:n},{:.0%})\".format(ticker_mismatch.sum(), float(ticker_mismatch.sum()) / num_result))\n",
    "display(\"# and % of filing date mismatches: ({:n},{:.0%})\".format(filing_date_mismatch.sum(), float(filing_date_mismatch.sum()) / num_result))\n",
    "display(\"# and % of ticker and filing date mismatches: ({:n},{:.0%})\".format(ticker_and_filing_mismatch.sum(), float(ticker_and_filing_mismatch.sum()) / num_result))\n",
    "display(\"# and % of ticker or filing date mismatches: ({:n},{:.0%})\".format(ticker_or_filing_mismatch.sum(), float(ticker_or_filing_mismatch.sum()) / num_result))"
   ]
  },
  {
   "cell_type": "code",
   "execution_count": 12,
   "metadata": {
    "ExecuteTime": {
     "end_time": "2021-03-01T21:49:31.583548Z",
     "start_time": "2021-03-01T21:49:31.514453Z"
    }
   },
   "outputs": [
    {
     "data": {
      "text/plain": [
       "'# and % of 10-K filings lost: (10847,30%)'"
      ]
     },
     "metadata": {},
     "output_type": "display_data"
    },
    {
     "data": {
      "text/plain": [
       "'# and % of stock events lost: (1531,6%)'"
      ]
     },
     "metadata": {},
     "output_type": "display_data"
    },
    {
     "data": {
      "text/plain": [
       "'# and % of ticker mismatches: (550,2%)'"
      ]
     },
     "metadata": {},
     "output_type": "display_data"
    },
    {
     "data": {
      "text/plain": [
       "'# and % of filing date mismatches: (19766,78%)'"
      ]
     },
     "metadata": {},
     "output_type": "display_data"
    },
    {
     "data": {
      "text/plain": [
       "'# and % of ticker and filing date mismatches: (412,2%)'"
      ]
     },
     "metadata": {},
     "output_type": "display_data"
    },
    {
     "data": {
      "text/plain": [
       "'# and % of ticker or filing date mismatches: (19904,78%)'"
      ]
     },
     "metadata": {},
     "output_type": "display_data"
    }
   ],
   "source": [
    "result = pd.merge(text_dfs, predictions, left_on=[\"cik\", \"filing_year\"], right_on=[\"cik\", \"year\"])\n",
    "\n",
    "num_result = float(len(result))\n",
    "num_text_lost = num_text - num_result\n",
    "num_pred_lost = num_pred - num_result\n",
    "\n",
    "ticker_mismatch = result[\"ticker_x\"] != result[\"ticker_y\"]\n",
    "filing_date_mismatch = result[\"filing_date_x\"] != result[\"filing_date_y\"]\n",
    "ticker_and_filing_mismatch = ticker_mismatch & filing_date_mismatch\n",
    "ticker_or_filing_mismatch = ticker_mismatch | filing_date_mismatch\n",
    "\n",
    "display(\"# and % of 10-K filings lost: ({:n},{:.0%})\".format(num_text_lost, num_text_lost/ num_text))\n",
    "display(\"# and % of stock events lost: ({:n},{:.0%})\".format(num_pred_lost, num_pred_lost / num_pred))\n",
    "display(\"# and % of ticker mismatches: ({:n},{:.0%})\".format(ticker_mismatch.sum(), float(ticker_mismatch.sum()) / num_result))\n",
    "display(\"# and % of filing date mismatches: ({:n},{:.0%})\".format(filing_date_mismatch.sum(), float(filing_date_mismatch.sum()) / num_result))\n",
    "display(\"# and % of ticker and filing date mismatches: ({:n},{:.0%})\".format(ticker_and_filing_mismatch.sum(), float(ticker_and_filing_mismatch.sum()) / num_result))\n",
    "display(\"# and % of ticker or filing date mismatches: ({:n},{:.0%})\".format(ticker_or_filing_mismatch.sum(), float(ticker_or_filing_mismatch.sum()) / num_result))"
   ]
  },
  {
   "cell_type": "code",
   "execution_count": 13,
   "metadata": {
    "ExecuteTime": {
     "end_time": "2021-03-01T21:49:51.079461Z",
     "start_time": "2021-03-01T21:49:51.011539Z"
    }
   },
   "outputs": [
    {
     "data": {
      "text/plain": [
       "'# and % of 10-K filings lost: (10847,30%)'"
      ]
     },
     "metadata": {},
     "output_type": "display_data"
    },
    {
     "data": {
      "text/plain": [
       "'# and % of stock events lost: (1531,6%)'"
      ]
     },
     "metadata": {},
     "output_type": "display_data"
    },
    {
     "data": {
      "text/plain": [
       "'# and % of ticker mismatches: (550,2%)'"
      ]
     },
     "metadata": {},
     "output_type": "display_data"
    },
    {
     "data": {
      "text/plain": [
       "'# and % of filing date mismatches: (19766,78%)'"
      ]
     },
     "metadata": {},
     "output_type": "display_data"
    },
    {
     "data": {
      "text/plain": [
       "'# and % of ticker and filing date mismatches: (412,2%)'"
      ]
     },
     "metadata": {},
     "output_type": "display_data"
    },
    {
     "data": {
      "text/plain": [
       "'# and % of ticker or filing date mismatches: (19904,78%)'"
      ]
     },
     "metadata": {},
     "output_type": "display_data"
    }
   ],
   "source": [
    "\"\"\" Relevant statistics post merge \"\"\"\n",
    "result = pd.merge(text_dfs, predictions, on=[\"cik\", \"year\"])\n",
    "num_result = float(len(result))\n",
    "num_text_lost = num_text - num_result\n",
    "num_pred_lost = num_pred - num_result\n",
    "\n",
    "ticker_mismatch = result[\"ticker_x\"] != result[\"ticker_y\"]\n",
    "filing_date_mismatch = result[\"filing_date_x\"] != result[\"filing_date_y\"]\n",
    "ticker_and_filing_mismatch = ticker_mismatch & filing_date_mismatch\n",
    "ticker_or_filing_mismatch = ticker_mismatch | filing_date_mismatch\n",
    "\n",
    "display(\"# and % of 10-K filings lost: ({:n},{:.0%})\".format(num_text_lost, num_text_lost/ num_text))\n",
    "display(\"# and % of stock events lost: ({:n},{:.0%})\".format(num_pred_lost, num_pred_lost / num_pred))\n",
    "display(\"# and % of ticker mismatches: ({:n},{:.0%})\".format(ticker_mismatch.sum(), float(ticker_mismatch.sum()) / num_result))\n",
    "display(\"# and % of filing date mismatches: ({:n},{:.0%})\".format(filing_date_mismatch.sum(), float(filing_date_mismatch.sum()) / num_result))\n",
    "display(\"# and % of ticker and filing date mismatches: ({:n},{:.0%})\".format(ticker_and_filing_mismatch.sum(), float(ticker_and_filing_mismatch.sum()) / num_result))\n",
    "display(\"# and % of ticker or filing date mismatches: ({:n},{:.0%})\".format(ticker_or_filing_mismatch.sum(), float(ticker_or_filing_mismatch.sum()) / num_result))"
   ]
  },
  {
   "cell_type": "code",
   "execution_count": null,
   "metadata": {},
   "outputs": [],
   "source": [
    "# We can conduct analysis by filtering by either cik (by company), or by year\n",
    "result.drop(columns=[\"ticker_x\", \"filing_date_x\", \"ticker_y\", \"filing_date_y\", \"cik\"], inplace=True)\n",
    "result.head(5)"
   ]
  },
  {
   "cell_type": "code",
   "execution_count": null,
   "metadata": {},
   "outputs": [],
   "source": [
    "result.write_csv(\"processed_data.csv\")"
   ]
  },
  {
   "cell_type": "code",
   "execution_count": null,
   "metadata": {},
   "outputs": [],
   "source": [
    "Add 2009-2012 10-"
   ]
  }
 ],
 "metadata": {
  "kernelspec": {
   "display_name": "Python 3",
   "language": "python",
   "name": "python3"
  },
  "language_info": {
   "codemirror_mode": {
    "name": "ipython",
    "version": 3
   },
   "file_extension": ".py",
   "mimetype": "text/x-python",
   "name": "python",
   "nbconvert_exporter": "python",
   "pygments_lexer": "ipython3",
   "version": "3.8.5"
  }
 },
 "nbformat": 4,
 "nbformat_minor": 4
}
