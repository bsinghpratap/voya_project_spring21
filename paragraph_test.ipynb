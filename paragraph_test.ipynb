{
 "cells": [
  {
   "cell_type": "code",
   "execution_count": null,
   "metadata": {
    "ExecuteTime": {
     "end_time": "2021-03-18T18:55:01.436730Z",
     "start_time": "2021-03-18T18:55:00.774297Z"
    }
   },
   "outputs": [],
   "source": [
    "import pandas as pd\n",
    "import os"
   ]
  },
  {
   "cell_type": "code",
   "execution_count": null,
   "metadata": {
    "ExecuteTime": {
     "end_time": "2021-03-18T18:55:56.225642Z",
     "start_time": "2021-03-18T18:55:01.440558Z"
    }
   },
   "outputs": [],
   "source": [
    "path = '/mnt/c/Users/Harshul/Desktop/Files'\n",
    "file = \"joined_data.csv\"\n",
    "data = pd.read_csv(os.path.join(path,file))"
   ]
  },
  {
   "cell_type": "code",
   "execution_count": 3,
   "metadata": {
    "ExecuteTime": {
     "end_time": "2021-03-18T18:55:56.301166Z",
     "start_time": "2021-03-18T18:55:56.238448Z"
    }
   },
   "outputs": [
    {
     "data": {
      "text/html": [
       "<div>\n",
       "<style scoped>\n",
       "    .dataframe tbody tr th:only-of-type {\n",
       "        vertical-align: middle;\n",
       "    }\n",
       "\n",
       "    .dataframe tbody tr th {\n",
       "        vertical-align: top;\n",
       "    }\n",
       "\n",
       "    .dataframe thead th {\n",
       "        text-align: right;\n",
       "    }\n",
       "</style>\n",
       "<table border=\"1\" class=\"dataframe\">\n",
       "  <thead>\n",
       "    <tr style=\"text-align: right;\">\n",
       "      <th></th>\n",
       "      <th>Unnamed: 0</th>\n",
       "      <th>cik</th>\n",
       "      <th>ticker_x</th>\n",
       "      <th>filing_date</th>\n",
       "      <th>item1a_risk</th>\n",
       "      <th>item7_mda</th>\n",
       "      <th>year_x</th>\n",
       "      <th>filing_year_x</th>\n",
       "      <th>perm_id</th>\n",
       "      <th>ticker_y</th>\n",
       "      <th>year_y</th>\n",
       "      <th>company_name</th>\n",
       "      <th>is_dividend_payer</th>\n",
       "      <th>dps_change</th>\n",
       "      <th>is_dps_cut</th>\n",
       "      <th>z_environmental</th>\n",
       "      <th>d_environmental</th>\n",
       "      <th>sector</th>\n",
       "      <th>filing_year_y</th>\n",
       "    </tr>\n",
       "  </thead>\n",
       "  <tbody>\n",
       "    <tr>\n",
       "      <th>0</th>\n",
       "      <td>0</td>\n",
       "      <td>1750</td>\n",
       "      <td>AIR</td>\n",
       "      <td>2010-07-16</td>\n",
       "      <td>&gt; ITEM 1A. RISK FACTORS The following is a des...</td>\n",
       "      <td>&gt; ITEM 7. MANAGEMENT'S DISCUSSION AND ANALYSIS...</td>\n",
       "      <td>2010</td>\n",
       "      <td>2010</td>\n",
       "      <td>4332</td>\n",
       "      <td>AIR</td>\n",
       "      <td>2010</td>\n",
       "      <td>AAR CORP</td>\n",
       "      <td>0.0</td>\n",
       "      <td>2.000000</td>\n",
       "      <td>NaN</td>\n",
       "      <td>NaN</td>\n",
       "      <td>NaN</td>\n",
       "      <td>Industrials</td>\n",
       "      <td>2010</td>\n",
       "    </tr>\n",
       "    <tr>\n",
       "      <th>1</th>\n",
       "      <td>1</td>\n",
       "      <td>2034</td>\n",
       "      <td>ACET</td>\n",
       "      <td>2010-09-10</td>\n",
       "      <td>&gt;Item 1A. Risk factors You should carefully co...</td>\n",
       "      <td>&gt;Item 7. Management s Discussion and Analysis ...</td>\n",
       "      <td>2010</td>\n",
       "      <td>2010</td>\n",
       "      <td>2883</td>\n",
       "      <td>ACET</td>\n",
       "      <td>2010</td>\n",
       "      <td>ACETO CORP</td>\n",
       "      <td>1.0</td>\n",
       "      <td>0.000000</td>\n",
       "      <td>0.0</td>\n",
       "      <td>NaN</td>\n",
       "      <td>NaN</td>\n",
       "      <td>Industrials</td>\n",
       "      <td>2010</td>\n",
       "    </tr>\n",
       "    <tr>\n",
       "      <th>2</th>\n",
       "      <td>2</td>\n",
       "      <td>2491</td>\n",
       "      <td>BYI</td>\n",
       "      <td>2010-08-26</td>\n",
       "      <td>&gt; ITEM 1A. RISK FACTORS Our business and inves...</td>\n",
       "      <td>&gt; ITEM 7. MANAGEMENT'S DISCUSSION AND ANALYSIS...</td>\n",
       "      <td>2010</td>\n",
       "      <td>2010</td>\n",
       "      <td>2791</td>\n",
       "      <td>BYI</td>\n",
       "      <td>2010</td>\n",
       "      <td>BALLY TECHNOLOGIES INC</td>\n",
       "      <td>0.0</td>\n",
       "      <td>NaN</td>\n",
       "      <td>NaN</td>\n",
       "      <td>NaN</td>\n",
       "      <td>NaN</td>\n",
       "      <td>Tech</td>\n",
       "      <td>2010</td>\n",
       "    </tr>\n",
       "    <tr>\n",
       "      <th>3</th>\n",
       "      <td>3</td>\n",
       "      <td>2969</td>\n",
       "      <td>APD</td>\n",
       "      <td>2010-11-23</td>\n",
       "      <td>&gt;ITEM 1A. RISK FACTORS You should read the fol...</td>\n",
       "      <td>&gt;ITEM 7. MANAGEMENT S DISCUSSION AND ANALYSIS ...</td>\n",
       "      <td>2010</td>\n",
       "      <td>2010</td>\n",
       "      <td>2799</td>\n",
       "      <td>APD</td>\n",
       "      <td>2010</td>\n",
       "      <td>AIR PRODUCTS &amp; CHEMICALS INC</td>\n",
       "      <td>1.0</td>\n",
       "      <td>0.149398</td>\n",
       "      <td>0.0</td>\n",
       "      <td>0.620576</td>\n",
       "      <td>-1.857054</td>\n",
       "      <td>Commodities</td>\n",
       "      <td>2010</td>\n",
       "    </tr>\n",
       "    <tr>\n",
       "      <th>4</th>\n",
       "      <td>4</td>\n",
       "      <td>3545</td>\n",
       "      <td>ALCO</td>\n",
       "      <td>2010-12-14</td>\n",
       "      <td>&gt;Item 1A. Risk Factors. Alico s operations inv...</td>\n",
       "      <td>&gt;Item 7. Management s Discussion and Analysis ...</td>\n",
       "      <td>2010</td>\n",
       "      <td>2010</td>\n",
       "      <td>1824</td>\n",
       "      <td>ALCO</td>\n",
       "      <td>2010</td>\n",
       "      <td>ALICO INC</td>\n",
       "      <td>1.0</td>\n",
       "      <td>0.181818</td>\n",
       "      <td>0.0</td>\n",
       "      <td>NaN</td>\n",
       "      <td>NaN</td>\n",
       "      <td>Consumer</td>\n",
       "      <td>2010</td>\n",
       "    </tr>\n",
       "  </tbody>\n",
       "</table>\n",
       "</div>"
      ],
      "text/plain": [
       "   Unnamed: 0   cik ticker_x filing_date  \\\n",
       "0           0  1750      AIR  2010-07-16   \n",
       "1           1  2034     ACET  2010-09-10   \n",
       "2           2  2491      BYI  2010-08-26   \n",
       "3           3  2969      APD  2010-11-23   \n",
       "4           4  3545     ALCO  2010-12-14   \n",
       "\n",
       "                                         item1a_risk  \\\n",
       "0  > ITEM 1A. RISK FACTORS The following is a des...   \n",
       "1  >Item 1A. Risk factors You should carefully co...   \n",
       "2  > ITEM 1A. RISK FACTORS Our business and inves...   \n",
       "3  >ITEM 1A. RISK FACTORS You should read the fol...   \n",
       "4  >Item 1A. Risk Factors. Alico s operations inv...   \n",
       "\n",
       "                                           item7_mda  year_x  filing_year_x  \\\n",
       "0  > ITEM 7. MANAGEMENT'S DISCUSSION AND ANALYSIS...    2010           2010   \n",
       "1  >Item 7. Management s Discussion and Analysis ...    2010           2010   \n",
       "2  > ITEM 7. MANAGEMENT'S DISCUSSION AND ANALYSIS...    2010           2010   \n",
       "3  >ITEM 7. MANAGEMENT S DISCUSSION AND ANALYSIS ...    2010           2010   \n",
       "4  >Item 7. Management s Discussion and Analysis ...    2010           2010   \n",
       "\n",
       "   perm_id ticker_y  year_y                  company_name  is_dividend_payer  \\\n",
       "0     4332      AIR    2010                      AAR CORP                0.0   \n",
       "1     2883     ACET    2010                    ACETO CORP                1.0   \n",
       "2     2791      BYI    2010        BALLY TECHNOLOGIES INC                0.0   \n",
       "3     2799      APD    2010  AIR PRODUCTS & CHEMICALS INC                1.0   \n",
       "4     1824     ALCO    2010                     ALICO INC                1.0   \n",
       "\n",
       "   dps_change  is_dps_cut  z_environmental  d_environmental       sector  \\\n",
       "0    2.000000         NaN              NaN              NaN  Industrials   \n",
       "1    0.000000         0.0              NaN              NaN  Industrials   \n",
       "2         NaN         NaN              NaN              NaN         Tech   \n",
       "3    0.149398         0.0         0.620576        -1.857054  Commodities   \n",
       "4    0.181818         0.0              NaN              NaN     Consumer   \n",
       "\n",
       "   filing_year_y  \n",
       "0           2010  \n",
       "1           2010  \n",
       "2           2010  \n",
       "3           2010  \n",
       "4           2010  "
      ]
     },
     "execution_count": 3,
     "metadata": {},
     "output_type": "execute_result"
    }
   ],
   "source": [
    "data.head()"
   ]
  },
  {
   "cell_type": "code",
   "execution_count": 7,
   "metadata": {
    "ExecuteTime": {
     "end_time": "2021-03-18T18:59:46.953534Z",
     "start_time": "2021-03-18T18:59:46.948168Z"
    }
   },
   "outputs": [
    {
     "data": {
      "text/plain": [
       "['>Item 1A. Risk factors You should carefully consider the following risk factors and other information included in this Annual Report on Form 10-K. The risks and uncertainties described below are not the only ones we face. Additional risks and uncertainties not currently known to us or that we currently deem immaterial could also impair our business operations. If any of the following risk factors occur, our business, financial condition, operating results and cash flows could be materially adversely affected. If we are unable to compete effectively with our competitors, many of which have greater market presence and resources than us, our business, financial condition, operating results and cash flows could be materially adversely affected. Our financial condition and operating results are directly related to our ability to compete in the intensely competitive global chemical market. We face intense competition from global and regional distributors of chemical products, many of which are large chemical manufacturers as well as distributors. Many of these companies have substantially greater resources than us, including greater financial, marketing and distribution resources. We cannot assure you that we will be able to compete successfully with any of these companies. In addition, increased competition could result in price reductions, reduced margins and loss of market share for our products, all of which could materially adversely affect our business, financial condition, operating results and cash flows. Our distribution operations of APIs concentrate on generic products and therefore are subject to the risks of the generic industry. The ability of our business to provide consistent, sequential quarterly growth is affected, in large part, by our participation in the launch of new products by generic manufacturers and the subsequent advent and extent of competition encountered by these products. This competition can result in significant and rapid declines in pricing with a corresponding decrease in net sales. Our margins can also be materially adversely affected by the risks inherent to the generic industry. Dependence on a limited number of suppliers of APIs and other materials could lead to delays, lost revenue or increased costs. Our future operating results may depend substantially on our suppliers  ability to timely provide APIs and other materials for generic drugs in connection with ANDAs and such persons  ability to supply us with these ingredients or materials in sufficient volumes to meet our production requirements. A number of the ingredients or materials that we use are available from only a single or limited number of qualified suppliers, and may be used across multiple product lines. If there is a significant upswing in demand for an ingredient or other material resulting in an inability to meet demand, if an ingredient or material is otherwise in short supply, or if a supplier has a quality issue, we may experience delays or increased costs in obtaining that ingredient or material. If we are unable to obtain sufficient quantities of ingredients or other necessary materials, we may experience production delays. Each of the following could also interrupt the supply of, or increase the cost of, ingredients or other materials:   an unwillingness of a supplier to supply ingredients or other materials to us;   consolidation of key suppliers;   failure of a key supplier s business process;   a key supplier s inability to access credit necessary to operate its business; or   failure of a key supplier to remain in business, to remain an independent supplier, or to adjust to market conditions. Any interruption in the supply of or increase in the cost of ingredients or other materials provided by single or limited source suppliers could have a material adverse effect on our business, financial condition, operating results and cash flows. 6 Healthcare reform and a reduction in the reimbursement levels by governmental authorities, HMOs, MCOs or other third-party payors could materially adversely affect our business, financial condition, operating results and cash flows. Third party payors increasingly challenge pricing of pharmaceutical products. The trend toward managed healthcare, the growth of organizations such as HMOs and MCOs and legislative proposals to reform healthcare and government insurance programs could significantly influence the purchase of pharmaceutical products, resulting in lower prices and a reduction in product demand. Such cost containment measures and healthcare reform could affect our ability to sell our products and could have a material adverse effect on our business, results of operations, financial condition and cash flows. Our revenue stream and related gross profit is difficult to predict. Our revenue stream is difficult to predict because it is primarily generated as customers place orders and customers can change their requirements or cancel orders. Many of our sales orders are short-term and could be cancelled at any time. As a result, much of our revenue is not recurring from period to period, which contributes to the variability of our results from period to period. In addition, certain of our products carry a higher gross margin than other products, particularly in the Health Sciences segment. Reduced sales of these higher margin products could have a material adverse effect on our operating results. We believe that quarter-to-quarter comparisons of our operating results are not a good indication of our future performance. Changes to the industries and markets that Aceto serves could have a material adverse effect on our business, financial condition, operating results and cash flows. The business environment in which we operate remains challenging. We are subject to the same business cycles as those experienced by automobile, housing, and durable goods manufacturers. Our demand is largely derived from the demand for our customers  products, which subjects us to uncertainties related to downturns in our customers  business and unanticipated customer production shutdowns or curtailments. A material downturn in sales or gross profit due to weak end-user markets and loss of customers could have a material adverse effect on our business, financial condition, operating results and cash flows. Our operating results could fluctuate in future quarters, which could adversely affect the trading price of our common stock. Our operating results could fluctuate on a quarterly basis as a result of a number of factors, including the timing of contracts, orders, the delay or cancellation of a contract, and changes in government regulations. Any one of these factors could have a significant impact on our quarterly results. In some quarters, our revenue and operating results could fall below the expectations of securities analysts and investors, which would likely cause the trading price of our common stock to decline. We have significant inventories on hand. The Company maintains significant inventories. Any significant unanticipated changes in future product demand or market conditions, including the current uncertainty in the global market, could materially adversely affect the value of inventory and our business, financial condition, operating results and cash flows. Failure to obtain products from outside manufacturers could adversely affect our ability to fulfill sales orders to our customers. We rely on outside manufacturers to supply products for resale to our customers. Manufacturing problems, including manufacturing delays caused by plant shutdowns, damage or disruption to raw material supplies due to weather, including any potential effects of climate change, natural disaster or fire, could occur. If such problems occur, we cannot assure that we will be able to deliver our products to our customers profitably or on time. We could incur significant uninsured environmental and other liabilities inherent in the chemical distribution industry that could materially adversely affect our business, financial condition, operating results and cash flows. The business of distributing chemicals is subject to regulation by numerous federal, state, local, and foreign governmental authorities. These regulations impose liability for loss of life, damage to property and equipment, pollution and other environmental damage that could occur in our business. Many of these regulations provide for substantial fines and remediation costs in the event of chemical spills, explosions and pollution. While we believe that we are in substantial compliance with all current laws and regulations, we can give no assurance that we will not incur material liabilities that are not covered by insurance or exceed our insurance coverage or that such insurance will remain available on terms and at rates acceptable to us. Additionally, if existing environmental and other regulations are changed, or additional laws or regulations are passed, the cost of complying with those laws could be substantial, thereby materially adversely affecting our business, financial condition, operating results and cash flows. 7 In fiscal years 2009, 2008 and 2007, the Company received letters from the Pulvair Site Group, a group of potentially responsible parties (PRP Group) who are working with the State of Tennessee (the State) to remediate a contaminated property in Tennessee called the Pulvair site. The PRP Group has alleged that Aceto shipped hazardous substances to the site which were released into the environment. The State had begun administrative proceedings against the members of the PRP Group and Aceto with respect to the cleanup of the Pulvair site and the group has begun to undertake cleanup. The PRP Group is seeking a settlement of approximately $1,700 from the Company for its share to remediate the site contamination. Although the Company acknowledges that it shipped materials to the site for formulation over twenty years ago, the Company believes that the evidence does not show that the hazardous materials sent by Aceto to the site have significantly contributed to the contamination of the environment and thus believes that, at most, it is a de minimus contributor to the site contamination. Accordingly, the Company believes that the settlement offer is unreasonable. The impact of the resolution of this matter on the Company\\'s results of operations in a particular reporting period is not known. Our subsidiary, Arsynco, has environmental remediation obligations in connection with its former manufacturing facility in Carlstadt, New Jersey. Estimates of how much it would cost to remediate environmental contamination at this site have increased since the facility was closed in 1993. If the actual costs are significantly greater than estimated, it could have a material adverse effect on our financial condition, operating results and cash flows. In March 2006, Arsynco received notice from the EPA of its status as a PRP under the Comprehensive Environmental Response, Compensation and Liability Act (CERCLA) for a site described as the Berry s Creek Study Area. Arsynco is one of over 150 PRPs which have potential liability for the required investigation and remediation of the site. The estimate of the potential liability is not quantifiable for a number of reasons, including the difficulty in determining the extent of contamination and the length of time remediation may require. In addition, any estimate of liability must also consider the number of other PRPs and their financial strength. Based on prior practice in similar situations, it is possible that the State may assert a claim for natural resource damages with respect to the Arsynco site itself, and either the federal government or the State (or both) may assert claims against Arsynco for natural resource damages in connection with Berry\\'s Creek; any such claim with respect to Berry\\'s Creek could also be asserted against the approximately 150 PRPs which the EPA has identified in connection with that site. Any claim for natural resource damages with respect to the Arsynco site itself may also be asserted against BASF, the former owners of the Arsynco property. Since an amount of the liability cannot be reasonably estimated at this time, no accrual is recorded for these potential future costs. The impact of the resolution of this matter on the Company s results of operations in a particular reporting period is not known. The distribution and sale of some of our products are subject to prior governmental approvals and thereafter ongoing governmental regulation. Our products are subject to laws administered by federal, state and foreign governments, including the Toxic Substances Control Act and regulations requiring registration and approval of many of our products. More stringent restrictions could make our products less desirable, which would adversely affect our revenues and profitability. Some of our products are subject to the EPA registration and re-registration requirements, and are registered in accordance with FIFRA. Such registration requirements are based, among other things, on data demonstrating that the product will not cause unreasonable adverse effects on human health or the environment when used according to approved label directions. Governmental regulatory authorities have required, and may require in the future, that certain scientific data requirements be performed on our products and this may require us on our behalf or in joint efforts with other registrants to perform additional testing. Responding to such requirements may cause delays in or the cessation of the sales of one or more of our products which would adversely affect our profitability. We can provide no assurance that any testing approvals or registrations will be granted on a timely basis, if at all, or that our resources will be adequate to meet the costs of regulatory compliance or that the economic benefit of complying with the requirement will exceed our cost. 8 Incidents related to hazardous materials could materially adversely affect our business, financial condition, operating results and cash flows. Portions of our operations require the controlled use of hazardous materials. Although we are diligent in designing and implementing safety procedures to comply with the standards prescribed by federal, state, and local regulations, the risk of accidental contamination of property or injury to individuals from these materials cannot be completely eliminated. In the event of such an incident, we could be liable for any damages that result, which could materially adversely affect our business, financial condition, operating results and cash flows. Violations of cGMP and other government regulations could have a material adverse effect on our business, financial condition and results of operations. All facilities and manufacturing techniques used to manufacture pharmaceutical products for clinical use or for commercial sale in the United States must be operated in conformity with current Good Manufacturing Practices (\"cGMP\") regulations as required by the FDA. Our suppliers  facilities are subject to scheduled periodic regulatory and customer inspections to ensure compliance with cGMP and other requirements applicable to such products. A finding that we had materially violated these requirements could result in one or more regulatory sanctions, loss of a customer contract, disqualification of data for client submissions to regulatory authorities and a mandated closing of our suppliers  facilities, which in turn could have a material adverse effect on our business, financial condition, operating results and cash flows. Our business could give rise to product liability claims not covered by insurance or indemnity agreements. The marketing, distribution and use of chemical products involves substantial risk of product liability claims. We could be held liable if any product we or our partners develop causes injury or is found otherwise unsuitable during product testing, manufacturing, marketing or sale. A successful product liability claim that we have not insured against, that exceeds our levels of insurance or that we are not indemnified for may require us to pay a substantial amount of damages. In the event that we are forced to pay such damages, this payment could have a material adverse effect on our business, financial condition, operating results and cash flows. We derive many of our products from China and changes in the political and economic policies of China s government could have a significant impact upon the business we may be able to conduct in China and our financial condition, operating results and cash flows. Our business operations could be materially adversely affected by the current and future political environment in China. China has operated as a socialist state since the mid-1900s and is controlled by the Communist Party of China. The Chinese government exerts substantial influence and control over the manner in which companies, such as ours, must conduct our business activities in China. China has only permitted provincial and local economic autonomy and private economic activities since 1988. The government of China has exercised and continues to exercise substantial control over virtually every sector of the Chinese economy, through regulation and state ownership. Our ability to conduct business in China could be adversely affected by changes in Chinese laws and regulations, including those relating to taxation, import and export tariffs, raw materials, environmental regulations, land use rights, property and other matters. Under its current leadership, the government of China has been pursuing economic reform policies that encourage private economic activity and greater economic decentralization. There is no assurance, however, that the government of China will continue to pursue these policies, or that it will not significantly alter these policies from time to time without notice. China s laws and regulations governing our current business operations in China are sometimes vague and uncertain. Any changes in such laws and regulations could materially adversely affect our business, financial condition, operating results and cash flows. China s legal system is a civil law system based on written statutes, in which system decided legal cases have little value as precedents unlike the common law system prevalent in the United States. There are substantial uncertainties regarding the interpretation and application of China s laws and regulations, including but not limited to the laws and regulations governing the conduct of business in China, or the enforcement and performance of arrangements with customers and suppliers in the event of the imposition of statutory liens, death, bankruptcy and criminal proceedings. The Chinese government has been developing a comprehensive system of commercial laws, and considerable progress has been made in introducing laws and regulations dealing with economic matters such as foreign investment, corporate organization and governance, commerce, taxation and trade. However, because these laws and regulations are relatively new, and because of the limited volume of published cases and judicial interpretation and their lack of force as precedents, interpretation and enforcement of these laws and regulations involve significant uncertainties. New laws and regulations that affect existing and proposed future businesses may also be applied retroactively. We cannot predict what effect the interpretation of existing or new laws or regulations may have on our business in China. If the relevant authorities find that we are in violation of China s laws or regulations, they would have broad discretion in dealing with such a violation, including, without limitation: (i) levying fines and (ii) requiring that we discontinue any portion or all of our business in China. 9 The promulgation of new laws, changes to existing laws and the pre-emption of local regulations by national laws may adversely affect foreign businesses conducting business in China. However, the trend of legislation over the last 20 plus years has significantly enhanced the protection of foreign businesses in China. There can be no assurance that a change in leadership, social or political disruption, or unforeseen circumstances affecting China s political, economic or social life, will not affect China s government s ability to continue to support and pursue these reforms. Such a shift could have a material adverse effect on our business and prospects. Fluctuations in foreign currency exchange rates could materially adversely affect our business, financial condition, operating results and cash flows. A substantial portion of our revenue is denominated in currencies other than the U.S. dollar because certain of our foreign subsidiaries operate in their local currencies. Our business, financial condition, operating results and cash flows therefore could be materially adversely affected by fluctuations in the exchange rate between foreign currencies and the U.S. dollar. Tax legislation and assessments by various tax authorities could be materially different than the amounts we have provided for in our consolidated financial statements. We are regularly audited by federal, state, and foreign tax authorities. From time to time, these audits could result in proposed assessments. While we believe that we have adequately provided for any such assessments, future settlements could be materially different than we have provided for and thereby materially adversely affect our earnings and cash flows. We operate in various tax jurisdictions, and although we believe that we have provided for income and other taxes in accordance with the relevant regulations, if the applicable regulations were ultimately interpreted differently by a taxing authority, we could be exposed to additional tax liabilities. Our effective tax rate is based on our expected geographic mix of earnings, statutory rates, intercompany transfer pricing, and enacted tax rules. Significant judgment is required in determining our effective tax rate and in evaluating our tax positions on a worldwide basis. We believe our tax positions, including intercompany transfer pricing policies, are consistent with the tax laws in the jurisdictions in which we conduct our business. It is possible that these positions may be challenged by jurisdictional tax authorities and could have a significant impact on our effective tax rate. In addition, from time to time, various legislative initiatives could be proposed that could adversely affect our tax positions. There can be no assurance that our effective tax rate will not be adversely affected by these initiatives. Changes in tax rules could adversely affect our future reported financial results or the way we conduct our business. Our future reported financial results could be adversely affected if tax or accounting rules regarding unrepatriated earnings change. The Obama administration announced several proposals to reform United States tax rules, including proposals that could result in a reduction or elimination of the deferral of United States tax on our unrepatriated earnings, potentially requiring those earnings to be taxed at the United States federal income tax rate. Our business is subject to a number of global economic risks. As widely reported, financial markets in the United States, Europe and Asia have been experiencing extreme disruption, including, among other things, extreme volatility in security prices, severely diminished liquidity and credit availability, rating downgrades of certain investments and declining valuations of others. Governments have taken unprecedented actions intending to address extreme market conditions that include severely restricted credit and declines in values of certain assets. An economic downturn in the businesses or geographic areas in which we sell our products could reduce demand for our products and result in a decrease in revenue that could have a negative impact on our results of operations. Continued volatility and disruption of financial markets in the United States, Europe and Asia could limit our customers  ability to obtain adequate financing or credit to purchase our products or to maintain operations, and result in a decrease in revenue that could have a material adverse effect on our business, financial condition, operating results and cash flows. 10 Our acquisition strategy is subject to a number of inherent risks, including the risk that our acquisitions may not be successful. We continually seek to expand our business through acquisitions of other companies that complement our own and through joint ventures, licensing agreements and other arrangements. Any decision regarding strategic alternatives would be subject to inherent risks, and we cannot guarantee that we will be able to identify the appropriate opportunities, successfully negotiate economically beneficial terms, successfully integrate any acquired business, retain key employees, or achieve the anticipated synergies or benefits of the strategic alternative selected. Acquisitions can require significant capital resources and divert our management s attention from our existing business. Additionally, we may issue additional shares in connection with a strategic transaction, thereby diluting the holdings of our existing common shareholders, incur debt or assume liabilities, become subject to litigation, or consume cash, thereby reducing the amount of cash available for other purposes. Any acquisition that we make could result in a substantial charge to our earnings. We have previously incurred charges to our earnings in connection with acquisitions, and may continue to experience charges to our earnings for any acquisitions that we make, including impairment charges. These costs may also include substantial severance and other closure costs associated with eliminating duplicate or discontinued products, employees, operations and facilities. These charges could have a material adverse effect on our results of operations and they could have a material adverse effect on the market price of our common stock. Our potential liability arising from our commitment to indemnify our directors, officers and employees could materially adversely affect our business, financial condition, operating results and cash flows. We have committed in our bylaws to indemnify our directors, officers and employees against the reasonable expenses incurred by these persons in connection with an action brought against him or her in such capacity, except in matters as to which he or she is adjudged to have breached a duty to us. The maximum potential amount of future payments we could be required to make under this provision is unlimited. While we have  directors and officers  insurance policies that covers a portion of this potential exposure, we could be adversely affected if we are required to pay damages or incur legal costs in connection with a claim above our insurance limits. Our business could be materially adversely affected by terrorist activities. Our business depends on the free flow of products and services through the channels of commerce. Instability due to military, terrorist, political and economic actions in other countries could materially disrupt our overseas operations and export sales. In fiscal years 2010 and 2009, approximately 45% and 52%, respectively, of our revenues were attributable to operations conducted abroad and to sales generated from the United States to foreign countries. In addition, in fiscal year 2010, approximately 72% and 18% of our purchases came from Asia and Europe, respectively. In addition, in certain countries where we currently operate or export, intend to operate or export, or intend to expand our operations; we could be subject to other political, military and economic uncertainties, including labor unrest, restrictions on transfers of funds and unexpected changes in regulatory environments. We rely heavily on key executives for our financial performance. Our financial performance is highly dependent upon the efforts and abilities of our key executives. The loss of the services of any of our key executives could therefore have a material adverse effect upon our financial position and operating results. We do not maintain  key-man  insurance on any of our key executives. Litigation could harm our business and our management and financial resources. Substantial, complex or extended litigation could cause us to incur large expenditures and could distract our management. For example, lawsuits by employees, stockholders, collaborators, distributors, customers, or end-users of our products or services could be very costly and substantially disrupt our business. Disputes from time to time with such companies or individuals are not uncommon, and we cannot assure you that we will always be able to resolve such disputes out of court or on favorable terms. 11 The market price of our stock could be volatile. The market price of our common stock has been subject to volatility and may continue to be volatile in the future, due to a variety of factors, including:   quarterly fluctuations in our operating income and earnings per share results   technological innovations or new product introductions by us or our competitors   economic conditions   tariffs, duties and other trade barriers including anti-dumping duties   disputes concerning patents or proprietary rights   changes in earnings estimates and market growth rate projections by market research analysts   sales of common stock by existing security holders   loss of key personnel   securities class actions or other litigation The market price for our common stock may also be affected by our ability to meet analysts\\' expectations. Any failure to meet such expectations, even slightly, could have an adverse effect on the market price of our common stock. In addition, the stock market is subject to extreme price and volume fluctuations. This volatility has had a significant effect on the market prices of securities issued by many companies for reasons unrelated to the operating performance of these companies. There are inherent uncertainties involved in estimates, judgments and assumptions used in preparing financial statements in accordance with U.S. generally accepted accounting principles. Any changes in the estimates, judgments and assumptions we use could have a material adverse effect on our business, financial condition, operating results and cash flows. The consolidated financial statements included in the periodic reports we file with the SEC are prepared in accordance with U.S. generally accepted accounting principles ( GAAP ). Preparing financial statements in accordance with GAAP involves making estimates, judgments and assumptions that affect reported amounts of assets, liabilities, revenues, expenses and income. Estimates, judgments and assumptions are inherently subject to change, and any such changes could result in corresponding changes to the reported amounts. Failure to maintain effective internal controls in accordance with Section 404 of the Sarbanes-Oxley Act could have material adverse effect on our business and stock price. Section 404 of the Sarbanes-Oxley Act requires us to evaluate annually the effectiveness of our internal controls over financial reporting as of the end of each fiscal year and to include a management report assessing the effectiveness of our internal controls over financial reporting in our Annual Report on Form 10-K . Section 404 also requires our independent registered public accounting firm to report on our internal controls over financial reporting. If we fail to maintain the adequacy of our internal controls, we cannot assure you that we will be able to conclude in the future that we have effective internal controls over financial reporting. If we fail to maintain effective internal controls, we might be subject to sanctions or investigation by regulatory authorities, such as the Securities and Exchange Commission or NASDAQ. Any such action could adversely affect our financial results and the market price of our common stock and may also result in delayed filings with the Securities and Exchange Commission. Compliance with changing regulation of corporate governance and public disclosure could result in additional expenses. Complying with changing laws, regulations and standards relating to corporate governance and public disclosure, including the Sarbanes-Oxley Act of 2002 and new SEC regulations will require the Company to expend additional resources. We are committed to maintaining the highest standards of corporate governance and public disclosure. As a result, we may be required to continue to invest necessary resources to comply with evolving laws, regulations and standards, and this investment could result in increased expenses and a diversion of management time and attention from revenue-generating activities. 12 Available information We file annual, quarterly, and current reports, proxy statements, and other information with the U.S. Securities and Exchange Commission. You may read and copy any document we file at the SEC s public reference room at 100 F Street, NE, Washington, D.C. 20549. You may call the SEC at 1-800-SEC-0330 for information on the public reference room. The SEC maintains a website that contains annual, quarterly, and current reports, proxy statements, and other information that issuers (including Aceto) file electronically with the SEC. The SEC s website is www.sec.gov. Our website is www.aceto.com. We make available free of charge through our Internet site, via a link to the SEC s website at www.sec.gov, our annual reports on Form 10-K; quarterly reports on Form 10-Q; current reports on Form 8-K; Forms 3, 4 and 5 filed on behalf of our directors and executive officers; and any amendments to those reports and forms. We make these filings available as soon as reasonably practicable after they are electronically filed with, or furnished to, the SEC. The information on our website is not incorporated by reference into this Annual Report on Form 10-K. ']"
      ]
     },
     "execution_count": 7,
     "metadata": {},
     "output_type": "execute_result"
    }
   ],
   "source": [
    "data.iloc[1,:][\"item1a_risk\"].split(\"\\n\")"
   ]
  },
  {
   "cell_type": "code",
   "execution_count": 8,
   "metadata": {
    "ExecuteTime": {
     "end_time": "2021-03-18T19:00:01.080858Z",
     "start_time": "2021-03-18T19:00:01.074779Z"
    }
   },
   "outputs": [
    {
     "data": {
      "text/plain": [
       "Unnamed: 0                                                           1\n",
       "cik                                                               2034\n",
       "ticker_x                                                          ACET\n",
       "filing_date                                                 2010-09-10\n",
       "item1a_risk          >Item 1A. Risk factors You should carefully co...\n",
       "item7_mda            >Item 7. Management s Discussion and Analysis ...\n",
       "year_x                                                            2010\n",
       "filing_year_x                                                     2010\n",
       "perm_id                                                           2883\n",
       "ticker_y                                                          ACET\n",
       "year_y                                                            2010\n",
       "company_name                                                ACETO CORP\n",
       "is_dividend_payer                                                    1\n",
       "dps_change                                                           0\n",
       "is_dps_cut                                                           0\n",
       "z_environmental                                                    NaN\n",
       "d_environmental                                                    NaN\n",
       "sector                                                     Industrials\n",
       "filing_year_y                                                     2010\n",
       "Name: 1, dtype: object"
      ]
     },
     "execution_count": 8,
     "metadata": {},
     "output_type": "execute_result"
    }
   ],
   "source": [
    "data.iloc[1,:]"
   ]
  },
  {
   "cell_type": "code",
   "execution_count": 36,
   "metadata": {
    "ExecuteTime": {
     "end_time": "2021-03-18T22:51:10.952936Z",
     "start_time": "2021-03-18T22:51:10.944960Z"
    }
   },
   "outputs": [],
   "source": [
    "def split_period(txt, window_size, window_overlap):\n",
    "    sentences = txt.split(\".\")\n",
    "    if sentences[-1] == \"\": # Period at end => empty string as last ele\n",
    "        sentences = sentences[:-1]\n",
    "            \n",
    "            \n",
    "    if window_size == 1: # Regular sentences\n",
    "        return sentences\n",
    "    else:\n",
    "        step_size = window_size - window_overlap\n",
    "        if len(sentences) < window_size:  # Not enough sentences for this window size -> single window\n",
    "            return [\" \".join(sentences)]\n",
    "        else:\n",
    "            startind_incl = 0\n",
    "            docs = []\n",
    "            while startind_incl < len(sentences):\n",
    "                endind_excl = startind_incl + window_size\n",
    "                #print(\"({},{})\".format(startind_incl, endind_excl))\n",
    "                if(endind_excl > len(sentences)): # Not enough space for another window\n",
    "                    #print(\"Here1\")\n",
    "                    docs.append(\" \".join(sentences[startind_incl:]))\n",
    "                    break\n",
    "                else:\n",
    "                    #print(\"Here2\")\n",
    "                    docs.append(\" \".join(sentences[startind_incl:endind_excl]))\n",
    "                startind_incl += step_size\n",
    "            return docs\n"
   ]
  },
  {
   "cell_type": "code",
   "execution_count": 24,
   "metadata": {
    "ExecuteTime": {
     "end_time": "2021-03-18T22:44:41.850523Z",
     "start_time": "2021-03-18T22:44:41.844307Z"
    }
   },
   "outputs": [
    {
     "data": {
      "text/plain": [
       "['0', '1', '2', '3', '4', '5', '6', '7', '8']"
      ]
     },
     "metadata": {},
     "output_type": "display_data"
    }
   ],
   "source": [
    "txt = \"0.1.2.3.4.5.6.7.8.\" #len = 9\n",
    "display(split_period(txt, 1,1))"
   ]
  },
  {
   "cell_type": "code",
   "execution_count": 28,
   "metadata": {
    "ExecuteTime": {
     "end_time": "2021-03-18T22:45:50.727948Z",
     "start_time": "2021-03-18T22:45:50.716252Z"
    }
   },
   "outputs": [
    {
     "name": "stdout",
     "output_type": "stream",
     "text": [
      "(0,5)\n",
      "Here2\n",
      "(3,8)\n",
      "Here2\n",
      "(6,11)\n",
      "Here1\n"
     ]
    },
    {
     "data": {
      "text/plain": [
       "['0 1 2 3 4', '3 4 5 6 7', '6 7 8']"
      ]
     },
     "execution_count": 28,
     "metadata": {},
     "output_type": "execute_result"
    }
   ],
   "source": [
    "split_period(txt, 5,2)"
   ]
  },
  {
   "cell_type": "code",
   "execution_count": 31,
   "metadata": {
    "ExecuteTime": {
     "end_time": "2021-03-18T22:47:44.404795Z",
     "start_time": "2021-03-18T22:47:43.267588Z"
    }
   },
   "outputs": [],
   "source": [
    "import pandas as pd\n",
    "data = pd.read_csv(\"/mnt/c/Users/Harshul/Desktop/Files/joined_data_5percent.csv\")"
   ]
  },
  {
   "cell_type": "code",
   "execution_count": 34,
   "metadata": {
    "ExecuteTime": {
     "end_time": "2021-03-18T22:50:38.561855Z",
     "start_time": "2021-03-18T22:50:38.534817Z"
    }
   },
   "outputs": [
    {
     "data": {
      "text/plain": [
       "1251"
      ]
     },
     "metadata": {},
     "output_type": "display_data"
    },
    {
     "data": {
      "text/html": [
       "<div>\n",
       "<style scoped>\n",
       "    .dataframe tbody tr th:only-of-type {\n",
       "        vertical-align: middle;\n",
       "    }\n",
       "\n",
       "    .dataframe tbody tr th {\n",
       "        vertical-align: top;\n",
       "    }\n",
       "\n",
       "    .dataframe thead th {\n",
       "        text-align: right;\n",
       "    }\n",
       "</style>\n",
       "<table border=\"1\" class=\"dataframe\">\n",
       "  <thead>\n",
       "    <tr style=\"text-align: right;\">\n",
       "      <th></th>\n",
       "      <th>Unnamed: 0</th>\n",
       "      <th>Unnamed: 0.1</th>\n",
       "      <th>cik</th>\n",
       "      <th>ticker_x</th>\n",
       "      <th>filing_date</th>\n",
       "      <th>item1a_risk</th>\n",
       "      <th>item7_mda</th>\n",
       "      <th>year_x</th>\n",
       "      <th>filing_year_x</th>\n",
       "      <th>perm_id</th>\n",
       "      <th>ticker_y</th>\n",
       "      <th>year_y</th>\n",
       "      <th>company_name</th>\n",
       "      <th>is_dividend_payer</th>\n",
       "      <th>dps_change</th>\n",
       "      <th>is_dps_cut</th>\n",
       "      <th>z_environmental</th>\n",
       "      <th>d_environmental</th>\n",
       "      <th>sector</th>\n",
       "      <th>filing_year_y</th>\n",
       "    </tr>\n",
       "  </thead>\n",
       "  <tbody>\n",
       "    <tr>\n",
       "      <th>0</th>\n",
       "      <td>262</td>\n",
       "      <td>262</td>\n",
       "      <td>775158</td>\n",
       "      <td>OSK</td>\n",
       "      <td>2010-11-18</td>\n",
       "      <td>&gt;ITEM 1A. RISK FACTORS The Company s financial...</td>\n",
       "      <td>&gt;ITEM 7. MANAGEMENT S DISCUSSION AND ANALYSIS ...</td>\n",
       "      <td>2010</td>\n",
       "      <td>2010</td>\n",
       "      <td>2824</td>\n",
       "      <td>OSK</td>\n",
       "      <td>2010</td>\n",
       "      <td>OSHKOSH CORP</td>\n",
       "      <td>0.0</td>\n",
       "      <td>NaN</td>\n",
       "      <td>NaN</td>\n",
       "      <td>NaN</td>\n",
       "      <td>NaN</td>\n",
       "      <td>Industrials</td>\n",
       "      <td>2010</td>\n",
       "    </tr>\n",
       "    <tr>\n",
       "      <th>1</th>\n",
       "      <td>9070</td>\n",
       "      <td>9070</td>\n",
       "      <td>780571</td>\n",
       "      <td>ITRI</td>\n",
       "      <td>2014-02-26</td>\n",
       "      <td>&gt;ITEM 1A: RISK FACTORSWe are dependent on the ...</td>\n",
       "      <td>&gt;ITEM 7: MANAGEMENT'S DISCUSSION AND ANALYSIS ...</td>\n",
       "      <td>2014</td>\n",
       "      <td>2014</td>\n",
       "      <td>2576</td>\n",
       "      <td>ITRI</td>\n",
       "      <td>2013</td>\n",
       "      <td>ITRON INC</td>\n",
       "      <td>0.0</td>\n",
       "      <td>NaN</td>\n",
       "      <td>NaN</td>\n",
       "      <td>1.450191</td>\n",
       "      <td>0.271210</td>\n",
       "      <td>Tech</td>\n",
       "      <td>2014</td>\n",
       "    </tr>\n",
       "    <tr>\n",
       "      <th>2</th>\n",
       "      <td>18025</td>\n",
       "      <td>18025</td>\n",
       "      <td>1169561</td>\n",
       "      <td>CVLT</td>\n",
       "      <td>2017-05-05</td>\n",
       "      <td>&gt;Item 1A.Risk FactorsYou should consider each ...</td>\n",
       "      <td>&gt;Item 7.Management s Discussion and Analysis o...</td>\n",
       "      <td>2017</td>\n",
       "      <td>2017</td>\n",
       "      <td>3355</td>\n",
       "      <td>CVLT</td>\n",
       "      <td>2017</td>\n",
       "      <td>COMMVAULT SYSTEMS INC</td>\n",
       "      <td>0.0</td>\n",
       "      <td>NaN</td>\n",
       "      <td>NaN</td>\n",
       "      <td>-0.783233</td>\n",
       "      <td>-0.100064</td>\n",
       "      <td>Tech</td>\n",
       "      <td>2017</td>\n",
       "    </tr>\n",
       "    <tr>\n",
       "      <th>3</th>\n",
       "      <td>7453</td>\n",
       "      <td>7453</td>\n",
       "      <td>1093649</td>\n",
       "      <td>IDIX</td>\n",
       "      <td>2013-02-25</td>\n",
       "      <td>&gt;Item 1A. Risk Factors Our business faces many...</td>\n",
       "      <td>&gt;Item 7. Management s Discussion and Analysis ...</td>\n",
       "      <td>2013</td>\n",
       "      <td>2013</td>\n",
       "      <td>2009</td>\n",
       "      <td>IDIX</td>\n",
       "      <td>2012</td>\n",
       "      <td>IDENIX PHARMACEUTICALS INC</td>\n",
       "      <td>0.0</td>\n",
       "      <td>NaN</td>\n",
       "      <td>NaN</td>\n",
       "      <td>-1.180099</td>\n",
       "      <td>3.860642</td>\n",
       "      <td>Health Care</td>\n",
       "      <td>2013</td>\n",
       "    </tr>\n",
       "    <tr>\n",
       "      <th>4</th>\n",
       "      <td>5361</td>\n",
       "      <td>5361</td>\n",
       "      <td>1332602</td>\n",
       "      <td>CBOU</td>\n",
       "      <td>2012-03-16</td>\n",
       "      <td>&gt;Item 1A. Risk Factors Certain statements we m...</td>\n",
       "      <td>&gt;Item 7. Management s Discussion and Analysis ...</td>\n",
       "      <td>2012</td>\n",
       "      <td>2012</td>\n",
       "      <td>3689</td>\n",
       "      <td>CBOU</td>\n",
       "      <td>2012</td>\n",
       "      <td>CARIBOU COFFEE CO</td>\n",
       "      <td>0.0</td>\n",
       "      <td>NaN</td>\n",
       "      <td>NaN</td>\n",
       "      <td>NaN</td>\n",
       "      <td>NaN</td>\n",
       "      <td>Consumer</td>\n",
       "      <td>2012</td>\n",
       "    </tr>\n",
       "  </tbody>\n",
       "</table>\n",
       "</div>"
      ],
      "text/plain": [
       "   Unnamed: 0  Unnamed: 0.1      cik ticker_x filing_date  \\\n",
       "0         262           262   775158      OSK  2010-11-18   \n",
       "1        9070          9070   780571     ITRI  2014-02-26   \n",
       "2       18025         18025  1169561     CVLT  2017-05-05   \n",
       "3        7453          7453  1093649     IDIX  2013-02-25   \n",
       "4        5361          5361  1332602     CBOU  2012-03-16   \n",
       "\n",
       "                                         item1a_risk  \\\n",
       "0  >ITEM 1A. RISK FACTORS The Company s financial...   \n",
       "1  >ITEM 1A: RISK FACTORSWe are dependent on the ...   \n",
       "2  >Item 1A.Risk FactorsYou should consider each ...   \n",
       "3  >Item 1A. Risk Factors Our business faces many...   \n",
       "4  >Item 1A. Risk Factors Certain statements we m...   \n",
       "\n",
       "                                           item7_mda  year_x  filing_year_x  \\\n",
       "0  >ITEM 7. MANAGEMENT S DISCUSSION AND ANALYSIS ...    2010           2010   \n",
       "1  >ITEM 7: MANAGEMENT'S DISCUSSION AND ANALYSIS ...    2014           2014   \n",
       "2  >Item 7.Management s Discussion and Analysis o...    2017           2017   \n",
       "3  >Item 7. Management s Discussion and Analysis ...    2013           2013   \n",
       "4  >Item 7. Management s Discussion and Analysis ...    2012           2012   \n",
       "\n",
       "   perm_id ticker_y  year_y                company_name  is_dividend_payer  \\\n",
       "0     2824      OSK    2010                OSHKOSH CORP                0.0   \n",
       "1     2576     ITRI    2013                   ITRON INC                0.0   \n",
       "2     3355     CVLT    2017       COMMVAULT SYSTEMS INC                0.0   \n",
       "3     2009     IDIX    2012  IDENIX PHARMACEUTICALS INC                0.0   \n",
       "4     3689     CBOU    2012           CARIBOU COFFEE CO                0.0   \n",
       "\n",
       "   dps_change  is_dps_cut  z_environmental  d_environmental       sector  \\\n",
       "0         NaN         NaN              NaN              NaN  Industrials   \n",
       "1         NaN         NaN         1.450191         0.271210         Tech   \n",
       "2         NaN         NaN        -0.783233        -0.100064         Tech   \n",
       "3         NaN         NaN        -1.180099         3.860642  Health Care   \n",
       "4         NaN         NaN              NaN              NaN     Consumer   \n",
       "\n",
       "   filing_year_y  \n",
       "0           2010  \n",
       "1           2014  \n",
       "2           2017  \n",
       "3           2013  \n",
       "4           2012  "
      ]
     },
     "execution_count": 34,
     "metadata": {},
     "output_type": "execute_result"
    }
   ],
   "source": [
    "display(len(data))\n",
    "data.head()"
   ]
  },
  {
   "cell_type": "code",
   "execution_count": 40,
   "metadata": {
    "ExecuteTime": {
     "end_time": "2021-03-18T22:52:42.041236Z",
     "start_time": "2021-03-18T22:52:41.881981Z"
    }
   },
   "outputs": [],
   "source": [
    "result = data[\"item1a_risk\"].apply(lambda txt: split_period(txt,7,3))"
   ]
  },
  {
   "cell_type": "code",
   "execution_count": null,
   "metadata": {
    "ExecuteTime": {
     "end_time": "2021-03-18T22:50:19.639834Z",
     "start_time": "2021-03-18T22:49:16.058Z"
    }
   },
   "outputs": [],
   "source": [
    "data[\"item1a_risk\"].apply(lambda txt: split_period(txt,7,3)).iloc[0]"
   ]
  },
  {
   "cell_type": "code",
   "execution_count": 45,
   "metadata": {
    "ExecuteTime": {
     "end_time": "2021-03-18T22:56:04.523085Z",
     "start_time": "2021-03-18T22:56:04.515477Z"
    }
   },
   "outputs": [
    {
     "data": {
      "text/plain": [
       "104352"
      ]
     },
     "execution_count": 45,
     "metadata": {},
     "output_type": "execute_result"
    }
   ],
   "source": [
    "sum([len(item) for item in result])"
   ]
  },
  {
   "cell_type": "code",
   "execution_count": 44,
   "metadata": {
    "ExecuteTime": {
     "end_time": "2021-03-18T22:55:37.689404Z",
     "start_time": "2021-03-18T22:55:37.679641Z"
    }
   },
   "outputs": [
    {
     "data": {
      "text/plain": [
       "36689"
      ]
     },
     "execution_count": 44,
     "metadata": {},
     "output_type": "execute_result"
    }
   ],
   "source": [
    "len(data[\"item1a_risk\"][0])"
   ]
  },
  {
   "cell_type": "code",
   "execution_count": null,
   "metadata": {},
   "outputs": [],
   "source": [
    "#"
   ]
  }
 ],
 "metadata": {
  "kernelspec": {
   "display_name": "Python 3",
   "language": "python",
   "name": "python3"
  },
  "language_info": {
   "codemirror_mode": {
    "name": "ipython",
    "version": 3
   },
   "file_extension": ".py",
   "mimetype": "text/x-python",
   "name": "python",
   "nbconvert_exporter": "python",
   "pygments_lexer": "ipython3",
   "version": "3.8.5"
  }
 },
 "nbformat": 4,
 "nbformat_minor": 4
}
