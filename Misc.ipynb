{
 "cells": [
  {
   "cell_type": "code",
   "execution_count": 1,
   "metadata": {
    "ExecuteTime": {
     "end_time": "2021-03-21T18:07:30.179742Z",
     "start_time": "2021-03-21T18:07:29.054691Z"
    }
   },
   "outputs": [],
   "source": [
    "import pandas as pd\n",
    "import ast\n",
    "from gensim.corpora import Dictionary\n",
    "from gensim.models.ldamulticore import LdaMulticore"
   ]
  },
  {
   "cell_type": "code",
   "execution_count": 2,
   "metadata": {
    "ExecuteTime": {
     "end_time": "2021-03-21T18:09:38.861153Z",
     "start_time": "2021-03-21T18:07:30.183202Z"
    }
   },
   "outputs": [],
   "source": [
    "file = \"../Files/preprocessed_5percent_7_3.csv\"\n",
    "data = pd.read_csv(\"../Files/preprocessed_5percent_7_3.csv\", converters={\"item1a_risk\":ast.literal_eval,\n",
    "                                                                  \"item7_mda\":ast.literal_eval})"
   ]
  },
  {
   "cell_type": "code",
   "execution_count": 3,
   "metadata": {
    "ExecuteTime": {
     "end_time": "2021-03-21T18:09:44.845096Z",
     "start_time": "2021-03-21T18:09:38.864685Z"
    }
   },
   "outputs": [],
   "source": [
    "# Forgot to lowercase before bcuz im a dumbass lol\n",
    "for label in ['item1a_risk', 'item7_mda']:\n",
    "    data[label] = data[label].map(lambda doc: [list(map(str.lower, sentence_grp)) for sentence_grp in doc])"
   ]
  },
  {
   "cell_type": "code",
   "execution_count": 4,
   "metadata": {
    "ExecuteTime": {
     "end_time": "2021-03-21T18:10:10.646076Z",
     "start_time": "2021-03-21T18:10:10.094490Z"
    }
   },
   "outputs": [
    {
     "data": {
      "text/html": [
       "<div>\n",
       "<style scoped>\n",
       "    .dataframe tbody tr th:only-of-type {\n",
       "        vertical-align: middle;\n",
       "    }\n",
       "\n",
       "    .dataframe tbody tr th {\n",
       "        vertical-align: top;\n",
       "    }\n",
       "\n",
       "    .dataframe thead th {\n",
       "        text-align: right;\n",
       "    }\n",
       "</style>\n",
       "<table border=\"1\" class=\"dataframe\">\n",
       "  <thead>\n",
       "    <tr style=\"text-align: right;\">\n",
       "      <th></th>\n",
       "      <th>Unnamed: 0</th>\n",
       "      <th>Unnamed: 0.1</th>\n",
       "      <th>Unnamed: 0.1.1</th>\n",
       "      <th>cik</th>\n",
       "      <th>ticker_x</th>\n",
       "      <th>filing_date</th>\n",
       "      <th>item1a_risk</th>\n",
       "      <th>item7_mda</th>\n",
       "      <th>year_x</th>\n",
       "      <th>filing_year_x</th>\n",
       "      <th>...</th>\n",
       "      <th>ticker_y</th>\n",
       "      <th>year_y</th>\n",
       "      <th>company_name</th>\n",
       "      <th>is_dividend_payer</th>\n",
       "      <th>dps_change</th>\n",
       "      <th>is_dps_cut</th>\n",
       "      <th>z_environmental</th>\n",
       "      <th>d_environmental</th>\n",
       "      <th>sector</th>\n",
       "      <th>filing_year_y</th>\n",
       "    </tr>\n",
       "  </thead>\n",
       "  <tbody>\n",
       "    <tr>\n",
       "      <th>0</th>\n",
       "      <td>0</td>\n",
       "      <td>262</td>\n",
       "      <td>262</td>\n",
       "      <td>775158</td>\n",
       "      <td>OSK</td>\n",
       "      <td>2010-11-18</td>\n",
       "      <td>[[item, risk, factors, the, company, financial...</td>\n",
       "      <td>[[item, management, discussion, and, analysis,...</td>\n",
       "      <td>2010</td>\n",
       "      <td>2010</td>\n",
       "      <td>...</td>\n",
       "      <td>OSK</td>\n",
       "      <td>2010</td>\n",
       "      <td>OSHKOSH CORP</td>\n",
       "      <td>0.0</td>\n",
       "      <td>NaN</td>\n",
       "      <td>NaN</td>\n",
       "      <td>NaN</td>\n",
       "      <td>NaN</td>\n",
       "      <td>Industrials</td>\n",
       "      <td>2010</td>\n",
       "    </tr>\n",
       "    <tr>\n",
       "      <th>1</th>\n",
       "      <td>1</td>\n",
       "      <td>9070</td>\n",
       "      <td>9070</td>\n",
       "      <td>780571</td>\n",
       "      <td>ITRI</td>\n",
       "      <td>2014-02-26</td>\n",
       "      <td>[[item, risk, factorswe, dependent, utility, i...</td>\n",
       "      <td>[[item, managements, discussion, and, analysis...</td>\n",
       "      <td>2014</td>\n",
       "      <td>2014</td>\n",
       "      <td>...</td>\n",
       "      <td>ITRI</td>\n",
       "      <td>2013</td>\n",
       "      <td>ITRON INC</td>\n",
       "      <td>0.0</td>\n",
       "      <td>NaN</td>\n",
       "      <td>NaN</td>\n",
       "      <td>1.450191</td>\n",
       "      <td>0.271210</td>\n",
       "      <td>Tech</td>\n",
       "      <td>2014</td>\n",
       "    </tr>\n",
       "    <tr>\n",
       "      <th>2</th>\n",
       "      <td>2</td>\n",
       "      <td>18025</td>\n",
       "      <td>18025</td>\n",
       "      <td>1169561</td>\n",
       "      <td>CVLT</td>\n",
       "      <td>2017-05-05</td>\n",
       "      <td>[[item, risk, factorsyou, consider, following,...</td>\n",
       "      <td>[[item, management, discussion, analysis, fina...</td>\n",
       "      <td>2017</td>\n",
       "      <td>2017</td>\n",
       "      <td>...</td>\n",
       "      <td>CVLT</td>\n",
       "      <td>2017</td>\n",
       "      <td>COMMVAULT SYSTEMS INC</td>\n",
       "      <td>0.0</td>\n",
       "      <td>NaN</td>\n",
       "      <td>NaN</td>\n",
       "      <td>-0.783233</td>\n",
       "      <td>-0.100064</td>\n",
       "      <td>Tech</td>\n",
       "      <td>2017</td>\n",
       "    </tr>\n",
       "    <tr>\n",
       "      <th>3</th>\n",
       "      <td>3</td>\n",
       "      <td>7453</td>\n",
       "      <td>7453</td>\n",
       "      <td>1093649</td>\n",
       "      <td>IDIX</td>\n",
       "      <td>2013-02-25</td>\n",
       "      <td>[[item, risk, factors, our, business, face, ri...</td>\n",
       "      <td>[[item, management, discussion, analysis, fina...</td>\n",
       "      <td>2013</td>\n",
       "      <td>2013</td>\n",
       "      <td>...</td>\n",
       "      <td>IDIX</td>\n",
       "      <td>2012</td>\n",
       "      <td>IDENIX PHARMACEUTICALS INC</td>\n",
       "      <td>0.0</td>\n",
       "      <td>NaN</td>\n",
       "      <td>NaN</td>\n",
       "      <td>-1.180099</td>\n",
       "      <td>3.860642</td>\n",
       "      <td>Health Care</td>\n",
       "      <td>2013</td>\n",
       "    </tr>\n",
       "    <tr>\n",
       "      <th>4</th>\n",
       "      <td>4</td>\n",
       "      <td>5361</td>\n",
       "      <td>5361</td>\n",
       "      <td>1332602</td>\n",
       "      <td>CBOU</td>\n",
       "      <td>2012-03-16</td>\n",
       "      <td>[[item, risk, factors, certain, statement, fil...</td>\n",
       "      <td>[[item, management, discussion, analysis, fina...</td>\n",
       "      <td>2012</td>\n",
       "      <td>2012</td>\n",
       "      <td>...</td>\n",
       "      <td>CBOU</td>\n",
       "      <td>2012</td>\n",
       "      <td>CARIBOU COFFEE CO</td>\n",
       "      <td>0.0</td>\n",
       "      <td>NaN</td>\n",
       "      <td>NaN</td>\n",
       "      <td>NaN</td>\n",
       "      <td>NaN</td>\n",
       "      <td>Consumer</td>\n",
       "      <td>2012</td>\n",
       "    </tr>\n",
       "  </tbody>\n",
       "</table>\n",
       "<p>5 rows × 21 columns</p>\n",
       "</div>"
      ],
      "text/plain": [
       "   Unnamed: 0  Unnamed: 0.1  Unnamed: 0.1.1      cik ticker_x filing_date  \\\n",
       "0           0           262             262   775158      OSK  2010-11-18   \n",
       "1           1          9070            9070   780571     ITRI  2014-02-26   \n",
       "2           2         18025           18025  1169561     CVLT  2017-05-05   \n",
       "3           3          7453            7453  1093649     IDIX  2013-02-25   \n",
       "4           4          5361            5361  1332602     CBOU  2012-03-16   \n",
       "\n",
       "                                         item1a_risk  \\\n",
       "0  [[item, risk, factors, the, company, financial...   \n",
       "1  [[item, risk, factorswe, dependent, utility, i...   \n",
       "2  [[item, risk, factorsyou, consider, following,...   \n",
       "3  [[item, risk, factors, our, business, face, ri...   \n",
       "4  [[item, risk, factors, certain, statement, fil...   \n",
       "\n",
       "                                           item7_mda  year_x  filing_year_x  \\\n",
       "0  [[item, management, discussion, and, analysis,...    2010           2010   \n",
       "1  [[item, managements, discussion, and, analysis...    2014           2014   \n",
       "2  [[item, management, discussion, analysis, fina...    2017           2017   \n",
       "3  [[item, management, discussion, analysis, fina...    2013           2013   \n",
       "4  [[item, management, discussion, analysis, fina...    2012           2012   \n",
       "\n",
       "   ...  ticker_y year_y                company_name is_dividend_payer  \\\n",
       "0  ...       OSK   2010                OSHKOSH CORP               0.0   \n",
       "1  ...      ITRI   2013                   ITRON INC               0.0   \n",
       "2  ...      CVLT   2017       COMMVAULT SYSTEMS INC               0.0   \n",
       "3  ...      IDIX   2012  IDENIX PHARMACEUTICALS INC               0.0   \n",
       "4  ...      CBOU   2012           CARIBOU COFFEE CO               0.0   \n",
       "\n",
       "   dps_change  is_dps_cut  z_environmental  d_environmental       sector  \\\n",
       "0         NaN         NaN              NaN              NaN  Industrials   \n",
       "1         NaN         NaN         1.450191         0.271210         Tech   \n",
       "2         NaN         NaN        -0.783233        -0.100064         Tech   \n",
       "3         NaN         NaN        -1.180099         3.860642  Health Care   \n",
       "4         NaN         NaN              NaN              NaN     Consumer   \n",
       "\n",
       "  filing_year_y  \n",
       "0          2010  \n",
       "1          2014  \n",
       "2          2017  \n",
       "3          2013  \n",
       "4          2012  \n",
       "\n",
       "[5 rows x 21 columns]"
      ]
     },
     "execution_count": 4,
     "metadata": {},
     "output_type": "execute_result"
    }
   ],
   "source": [
    "data.head()"
   ]
  },
  {
   "cell_type": "code",
   "execution_count": 5,
   "metadata": {
    "ExecuteTime": {
     "end_time": "2021-03-21T18:10:14.832753Z",
     "start_time": "2021-03-21T18:10:14.826744Z"
    }
   },
   "outputs": [],
   "source": [
    "params = {\n",
    "    'num_topics': 30,\n",
    "    'chunksize': 2000,\n",
    "    'passes': 20,\n",
    "    'iterations': 400,\n",
    "    'eval_every': None,\n",
    "    'alpha': 'asymmetric',\n",
    "    'eta': 'auto'\n",
    "}"
   ]
  },
  {
   "cell_type": "code",
   "execution_count": 27,
   "metadata": {
    "ExecuteTime": {
     "end_time": "2021-03-21T21:34:50.281025Z",
     "start_time": "2021-03-21T21:34:50.272374Z"
    }
   },
   "outputs": [
    {
     "data": {
      "text/plain": [
       "['item',\n",
       " 'risk',\n",
       " 'factors',\n",
       " 'the',\n",
       " 'company',\n",
       " 'financial',\n",
       " 'position',\n",
       " 'result',\n",
       " 'operation',\n",
       " 'cash',\n",
       " 'flow',\n",
       " 'subject',\n",
       " 'risk',\n",
       " 'exclusively',\n",
       " 'company',\n",
       " 'control',\n",
       " 'cause',\n",
       " 'actual',\n",
       " 'performance',\n",
       " 'differ',\n",
       " 'materially',\n",
       " 'historical',\n",
       " 'projected',\n",
       " 'future',\n",
       " 'performance',\n",
       " 'investors',\n",
       " 'consider',\n",
       " 'carefully',\n",
       " 'information',\n",
       " 'form',\n",
       " '10k',\n",
       " 'light',\n",
       " 'risk',\n",
       " 'factor',\n",
       " 'described',\n",
       " 'information',\n",
       " 'set',\n",
       " 'forth',\n",
       " 'caption',\n",
       " 'management',\n",
       " 'discussion',\n",
       " 'analysis',\n",
       " 'financial',\n",
       " 'condition',\n",
       " 'results',\n",
       " 'operations',\n",
       " 'certain',\n",
       " 'assumptions',\n",
       " 'certain',\n",
       " 'market',\n",
       " 'highly',\n",
       " 'cyclical',\n",
       " 'current',\n",
       " 'decline',\n",
       " 'market',\n",
       " 'material',\n",
       " 'adverse',\n",
       " 'effect',\n",
       " 'operating',\n",
       " 'performance',\n",
       " 'the',\n",
       " 'high',\n",
       " 'level',\n",
       " 'sale',\n",
       " 'defense',\n",
       " 'business',\n",
       " 'recent',\n",
       " 'year',\n",
       " 'significant',\n",
       " 'demand',\n",
       " 'defense',\n",
       " 'truck',\n",
       " 'replacement',\n",
       " 'part',\n",
       " 'service',\n",
       " 'including',\n",
       " 'armoring',\n",
       " 'truck',\n",
       " 'remanufacturing',\n",
       " 'arising',\n",
       " 'conflict',\n",
       " 'iraq',\n",
       " 'afghanistan',\n",
       " 'events',\n",
       " 'unplanned',\n",
       " 'predict',\n",
       " 'long',\n",
       " 'conflict',\n",
       " 'demand',\n",
       " 'product',\n",
       " 'arise',\n",
       " 'event',\n",
       " 'accordingly',\n",
       " 'provide',\n",
       " 'assurance',\n",
       " 'increased',\n",
       " 'defense',\n",
       " 'business',\n",
       " 'result',\n",
       " 'conflict',\n",
       " 'continue']"
      ]
     },
     "execution_count": 27,
     "metadata": {},
     "output_type": "execute_result"
    }
   ],
   "source": [
    "data[\"item1a_risk\"][0][0]"
   ]
  },
  {
   "cell_type": "code",
   "execution_count": 6,
   "metadata": {
    "ExecuteTime": {
     "end_time": "2021-03-21T18:10:17.604096Z",
     "start_time": "2021-03-21T18:10:16.249814Z"
    }
   },
   "outputs": [],
   "source": [
    "original_slice = data[(data.year_x >= 2009) & (data.year_x <= 2011)]\n",
    "\n",
    "# for label in ['item1a_risk', 'item7_mda']:\n",
    "documents = [sentence_grp for doc in original_slice[\"item1a_risk\"].to_list() for sentence_grp in doc]\n",
    "\n",
    "dictionary = Dictionary(documents)\n",
    "corpus = [dictionary.doc2bow(doc) for doc in documents]\n",
    "_temp = dictionary[0] # Initialize id2token mappings\n",
    "id2word = dictionary.id2token"
   ]
  },
  {
   "cell_type": "code",
   "execution_count": null,
   "metadata": {},
   "outputs": [],
   "source": []
  },
  {
   "cell_type": "code",
   "execution_count": 7,
   "metadata": {
    "ExecuteTime": {
     "end_time": "2021-03-21T18:16:19.439809Z",
     "start_time": "2021-03-21T18:10:20.283800Z"
    }
   },
   "outputs": [],
   "source": [
    "lda = LdaMulticore(\n",
    "        corpus=corpus,\n",
    "        id2word=id2word,\n",
    "        workers=8,\n",
    "        **params\n",
    "    )"
   ]
  },
  {
   "cell_type": "code",
   "execution_count": 14,
   "metadata": {
    "ExecuteTime": {
     "end_time": "2021-03-21T18:52:26.170942Z",
     "start_time": "2021-03-21T18:52:26.167266Z"
    }
   },
   "outputs": [],
   "source": [
    "import copy"
   ]
  },
  {
   "cell_type": "code",
   "execution_count": 15,
   "metadata": {
    "ExecuteTime": {
     "end_time": "2021-03-21T18:52:46.961238Z",
     "start_time": "2021-03-21T18:52:46.903353Z"
    }
   },
   "outputs": [],
   "source": [
    "orig = copy.deepcopy(lda)"
   ]
  },
  {
   "cell_type": "code",
   "execution_count": 11,
   "metadata": {
    "ExecuteTime": {
     "end_time": "2021-03-21T18:50:42.399106Z",
     "start_time": "2021-03-21T18:50:42.357222Z"
    }
   },
   "outputs": [],
   "source": [
    "new_slice = data[data.year_x == 2012]"
   ]
  },
  {
   "cell_type": "code",
   "execution_count": 12,
   "metadata": {
    "ExecuteTime": {
     "end_time": "2021-03-21T18:50:43.271068Z",
     "start_time": "2021-03-21T18:50:43.259610Z"
    }
   },
   "outputs": [
    {
     "data": {
      "text/plain": [
       "122"
      ]
     },
     "metadata": {},
     "output_type": "display_data"
    }
   ],
   "source": [
    "display(len(new_slice))"
   ]
  },
  {
   "cell_type": "code",
   "execution_count": null,
   "metadata": {},
   "outputs": [],
   "source": [
    "orig."
   ]
  },
  {
   "cell_type": "code",
   "execution_count": 22,
   "metadata": {
    "ExecuteTime": {
     "end_time": "2021-03-21T19:04:37.708510Z",
     "start_time": "2021-03-21T19:04:37.685535Z"
    }
   },
   "outputs": [
    {
     "data": {
      "text/plain": [
       "(0,\n",
       " '0.035*\"loan\" + 0.023*\"investment\" + 0.014*\"mortgage\" + 0.014*\"loss\" + 0.014*\"risk\" + 0.014*\"rate\" + 0.013*\"security\" + 0.013*\"asset\" + 0.012*\"market\" + 0.011*\"property\"')"
      ]
     },
     "execution_count": 22,
     "metadata": {},
     "output_type": "execute_result"
    }
   ],
   "source": [
    "orig.show_topics()[-1]"
   ]
  },
  {
   "cell_type": "code",
   "execution_count": 23,
   "metadata": {
    "ExecuteTime": {
     "end_time": "2021-03-21T19:04:42.298171Z",
     "start_time": "2021-03-21T19:04:42.281990Z"
    }
   },
   "outputs": [
    {
     "data": {
      "text/plain": [
       "(0,\n",
       " '0.031*\"loan\" + 0.028*\"investment\" + 0.024*\"rate\" + 0.023*\"property\" + 0.015*\"risk\" + 0.014*\"loss\" + 0.014*\"real\" + 0.013*\"security\" + 0.013*\"asset\" + 0.012*\"estate\"')"
      ]
     },
     "execution_count": 23,
     "metadata": {},
     "output_type": "execute_result"
    }
   ],
   "source": [
    "lda.show_topics()[-1]"
   ]
  },
  {
   "cell_type": "code",
   "execution_count": 13,
   "metadata": {
    "ExecuteTime": {
     "end_time": "2021-03-21T18:50:47.672960Z",
     "start_time": "2021-03-21T18:50:45.583615Z"
    }
   },
   "outputs": [],
   "source": [
    "new_documents = [sentence_grp for doc in new_slice[\"item1a_risk\"].to_list() for sentence_grp in doc]\n",
    "\n",
    "new_dictionary = Dictionary(new_documents)\n",
    "corpus = [dictionary.doc2bow(doc) for doc in new_documents]\n",
    "_temp = new_dictionary[0] # Initialize id2token mappings\n",
    "id2word = new_dictionary.id2token"
   ]
  },
  {
   "cell_type": "code",
   "execution_count": 16,
   "metadata": {
    "ExecuteTime": {
     "end_time": "2021-03-21T19:02:14.028014Z",
     "start_time": "2021-03-21T18:59:40.051571Z"
    }
   },
   "outputs": [],
   "source": [
    "lda.update(corpus)"
   ]
  },
  {
   "cell_type": "code",
   "execution_count": 16,
   "metadata": {
    "ExecuteTime": {
     "end_time": "2021-03-21T17:13:14.012150Z",
     "start_time": "2021-03-21T17:13:14.004718Z"
    }
   },
   "outputs": [],
   "source": [
    "a = data[\"item1a_risk\"].to_list()"
   ]
  },
  {
   "cell_type": "code",
   "execution_count": 22,
   "metadata": {
    "ExecuteTime": {
     "end_time": "2021-03-21T17:18:37.720801Z",
     "start_time": "2021-03-21T17:18:37.708397Z"
    }
   },
   "outputs": [],
   "source": [
    "#b = [group for group in doc for doc in data[\"item1a_risk\"].to_list()]\n",
    "b = [sentence_grp for doc in data[\"item1a_risk\"].to_list() for sentence_grp in doc]"
   ]
  },
  {
   "cell_type": "code",
   "execution_count": null,
   "metadata": {},
   "outputs": [],
   "source": [
    "start = 2009\n",
    "end = 2012\n",
    "for label in ['item1a_risk', 'item7_mda']:\n",
    "    "
   ]
  },
  {
   "cell_type": "code",
   "execution_count": 35,
   "metadata": {
    "ExecuteTime": {
     "end_time": "2021-03-21T17:33:41.050826Z",
     "start_time": "2021-03-21T17:33:41.039486Z"
    }
   },
   "outputs": [],
   "source": [
    "documents = [sentence_grp for doc in data[\"item1a_risk\"].to_list() for sentence_grp in doc]"
   ]
  },
  {
   "cell_type": "code",
   "execution_count": 37,
   "metadata": {
    "ExecuteTime": {
     "end_time": "2021-03-21T17:34:44.751667Z",
     "start_time": "2021-03-21T17:34:22.146737Z"
    }
   },
   "outputs": [],
   "source": [
    "dictionary = Dictionary(documents)\n",
    "corpus = [dictionary.doc2bow(doc) for doc in documents]"
   ]
  },
  {
   "cell_type": "code",
   "execution_count": 38,
   "metadata": {
    "ExecuteTime": {
     "end_time": "2021-03-21T17:35:51.500707Z",
     "start_time": "2021-03-21T17:35:51.484404Z"
    }
   },
   "outputs": [],
   "source": [
    "_temp = dictionary[0] # Initialize id2token mappings\n",
    "id2word = dictionary.id2token"
   ]
  },
  {
   "cell_type": "code",
   "execution_count": null,
   "metadata": {},
   "outputs": [],
   "source": [
    "lda = LdaMulticore()"
   ]
  }
 ],
 "metadata": {
  "kernelspec": {
   "display_name": "Python 3",
   "language": "python",
   "name": "python3"
  },
  "language_info": {
   "codemirror_mode": {
    "name": "ipython",
    "version": 3
   },
   "file_extension": ".py",
   "mimetype": "text/x-python",
   "name": "python",
   "nbconvert_exporter": "python",
   "pygments_lexer": "ipython3",
   "version": "3.8.5"
  }
 },
 "nbformat": 4,
 "nbformat_minor": 4
}
