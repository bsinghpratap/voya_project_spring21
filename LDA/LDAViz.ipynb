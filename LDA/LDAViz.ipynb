{
 "cells": [
  {
   "cell_type": "code",
   "execution_count": 2,
   "metadata": {},
   "outputs": [
    {
     "data": {
      "text/plain": [
       "' Risk and MDA for window=1,5,7 for a total of 6 viz '"
      ]
     },
     "execution_count": 2,
     "metadata": {},
     "output_type": "execute_result"
    }
   ],
   "source": [
    "import warnings\n",
    "warnings.filterwarnings(\"ignore\", category=DeprecationWarning)\n",
    "from gensim.models.ldamodel import LdaModel\n",
    "from gensim.corpora.dictionary import Dictionary\n",
    "import pandas as pd\n",
    "import pyLDAvis\n",
    "import pyLDAvis.gensim\n",
    "import pickle\n",
    "from pyLDAvis.gensim import prepare\n",
    "from pathlib import Path\n",
    "from gensim.models import CoherenceModel\n",
    "import numpy as np\n",
    "import matplotlib.pyplot as plt\n",
    "\n",
    "path_base = \"/mnt/nfs/scratch1/hshukla/sentence_results/\"\n",
    "path_base_alt = \"/mnt/nfs/work1696ds-s21/hshukla/\n",
    "model_base = \"sen_lda_{}_{}.model\"\n",
    "data_base = \"df_sen_{}_{}_tmp.pkl\"\n",
    "risk_label = \"item1a_risk\"\n",
    "mda_label = \"item7_mda\"\n",
    "start_year = 2012\n",
    "end_year = 2015\n",
    "warnings.filterwarnings(\"ignore\", category=DeprecationWarning)\n",
    "\n",
    "\"\"\" Risk and MDA for window=1,5,7 for a total of 6 viz \"\"\""
   ]
  },
  {
   "cell_type": "code",
   "execution_count": 22,
   "metadata": {},
   "outputs": [],
   "source": [
    "# def create_viz(lda_path, data, label, is_filter_extreme):\n",
    "#     lda_model = LdaModel.load(lda_path)\n",
    "#     data_slice = data[(data.year_x >= start_year) & (data.year_x <= end_year)]\n",
    "#     corpus, dictionary,_ = get_corpus_id2word(data_slice[label].to_list(), is_filter_extreme)\n",
    "#     viz = prepare(lda_model, corpus, dictionary)\n",
    "#     del corpus, dictionary\n",
    "#     return viz\n",
    "\n",
    "# def get_corpus_id2word(document_list, is_filter_extreme, ws):\n",
    "#     documents = [sentence_grp for doc in document_list for sentence_grp in doc]\n",
    "#     dictionary = Dictionary(documents)\n",
    "#     if is_filter_extreme:\n",
    "#         dictionary.filter_extremes(no_below=10)\n",
    "#     corpus = [dictionary.doc2bow(doc) for doc in documents]\n",
    "#     _temp = dictionary[0] # Initialize id2token mappings\n",
    "#     id2word = dictionary.id2token\n",
    "#     return (corpus,dictionary, documents)\n",
    "\n",
    "\n",
    "def get_viz(lda_path, data, label, is_filter_extreme, ws):\n",
    "    lda_model = LdaModel.load(lda_path)\n",
    "    \n",
    "    # Load documents\n",
    "    docs_path = Path(path_base + \"{}_{}_{}_{}_{}.pkl\".format(\"documents\",start_year,end_year,label,ws))    \n",
    "    if docs_path.exists():\n",
    "        display(\"Loading Documents\")\n",
    "        with open(docs_path, \"rb\") as file:\n",
    "            documents = pickle.load(file)        \n",
    "    else:\n",
    "        display(\"Parsing Documents\")\n",
    "        data_slice = data[(data.year_x >= start_year) & (data.year_x <= end_year)]\n",
    "        documents = [sentence_grp for doc in data_slice[label].to_list() for sentence_grp in doc]\n",
    "        with open(docs_path, \"wb\") as file:\n",
    "            pickle.dump(documents, file)\n",
    "    \n",
    "    # Load dictionary\n",
    "    dict_path = Path(path_base + \"{}_{}_{}_{}_{}.pkl\".format(\"dictionary\",start_year,end_year,label,ws))\n",
    "    if dict_path.exists():\n",
    "        display(\"Loading Dict\")\n",
    "        with open(dict_path, \"rb\") as file:\n",
    "            dictionary = pickle.load(file)\n",
    "    else:\n",
    "        display(\"Parsing Dict\")\n",
    "        dictionary = Dictionary(documents)\n",
    "        if is_filter_extreme:\n",
    "            dictionary.filter_extremes(no_below=10)\n",
    "        with open(dict_path, \"wb\") as file:\n",
    "            pickle.dump(dictionary, file)\n",
    "    \n",
    "    \n",
    "    # Load corpus\n",
    "    corpus_path = Path(path_base + \"{}_{}_{}_{}_{}.pkl\".format(\"corpus\",start_year,end_year,label,ws))\n",
    "    if corpus_path.exists():\n",
    "        display(\"Loading Corpus\")\n",
    "        with open(corpus_path, \"rb\") as file:\n",
    "            corpus = pickle.load(file)\n",
    "    else:\n",
    "        display(\"Parsing Corpus\")\n",
    "        corpus = [dictionary.doc2bow(doc) for doc in documents]\n",
    "        _temp = dictionary[0] # Initialize id2token mappings\n",
    "        id2word = dictionary.id2token\n",
    "        with open(corpus_path, \"wb\") as file:\n",
    "            pickle.dump(corpus, file)\n",
    "            \n",
    "    viz_model = prepare(lda_model, corpus, dictionary=dictionary)\n",
    "    pyLDAvis.save_html(viz_model, \"{}_{}_{}_{}_{}.html\".format(\"ldaviz\",start_year,end_year,label,ws))\n",
    "    return viz_model\n",
    "    \n",
    "    \n",
    "    \n",
    "def get_coh(lda_path, data, label, is_filter_extreme, ws):\n",
    "    lda_model = LdaModel.load(lda_path)\n",
    "    \n",
    "    # Load documents\n",
    "    docs_path = Path(path_base + \"{}_{}_{}_{}_{}.pkl\".format(\"documents\",start_year,end_year,label,ws))    \n",
    "    if docs_path.exists():\n",
    "        with open(docs_path, \"rb\") as file:\n",
    "            documents = pickle.load(file)        \n",
    "    else:\n",
    "        data_slice = data[(data.year_x >= start_year) & (data.year_x <= end_year)]\n",
    "        documents = [sentence_grp for doc in data_slice[label].to_list() for sentence_grp in doc]\n",
    "        with open(docs_path, \"wb\") as file:\n",
    "            pickle.dump(documents, file)\n",
    "    \n",
    "    # Load dictionary\n",
    "    dict_path = Path(path_base + \"{}_{}_{}_{}_{}.pkl\".format(\"dictionary\",start_year,end_year,label,ws))\n",
    "    if dict_path.exists():\n",
    "        with open(dict_path, \"rb\") as file:\n",
    "            dictionary = pickle.load(file)\n",
    "    else:\n",
    "        dictionary = Dictionary(documents)\n",
    "        if is_filter_extreme:\n",
    "            dictionary.filter_extremes(no_below=10)\n",
    "        with open(dict_path, \"wb\") as file:\n",
    "            pickle.dump(dictionary, file)\n",
    "    \n",
    "    \n",
    "    # Load corpus\n",
    "    corpus_path = Path(path_base + \"{}_{}_{}_{}_{}.pkl\".format(\"corpus\",start_year,end_year,label,ws))\n",
    "    if corpus_path.exists():\n",
    "        with open(corpus_path, \"rb\") as file:\n",
    "            corpus = pickle.load(file)\n",
    "    else:\n",
    "        corpus = [dictionary.doc2bow(doc) for doc in documents]\n",
    "        _temp = dictionary[0] # Initialize id2token mappings\n",
    "        id2word = dictionary.id2token\n",
    "        with open(corpus_path, \"wb\") as file:\n",
    "            pickle.dump(corpus, file)\n",
    "    \n",
    "    cm_mass = CoherenceModel(model=lda_model, corpus=corpus, dictionary=dictionary, coherence='u_mass')\n",
    "    cm_cv = CoherenceModel(model=lda_model, texts=documents, dictionary=dictionary, coherence='c_v')\n",
    "    cm_cuci = CoherenceModel(model=lda_model, texts=documents, dictionary=dictionary, coherence='c_uci')\n",
    "    cm_npmi = CoherenceModel(model=lda_model, texts=documents, dictionary=dictionary, coherence='c_npmi')\n",
    "    \n",
    "    display(\"Umass: {:+.4f}\".format(cm_mass.get_coherence()))\n",
    "    display(\"CV: {:+.4f}\".format(cm_cv.get_coherence()))\n",
    "    display(\"CUCI: {:+.4f}\".format(cm_cuci.get_coherence()))\n",
    "    display(\"NPMI: {:+.4f}\".format(cm_npmi.get_coherence()))"
   ]
  },
  {
   "cell_type": "markdown",
   "metadata": {},
   "source": [
    "# WindowSize = 1, WindowOverlap = 1"
   ]
  },
  {
   "cell_type": "code",
   "execution_count": 3,
   "metadata": {},
   "outputs": [],
   "source": [
    "one_data = pd.read_pickle(path_base + data_base.format(1,1))"
   ]
  },
  {
   "cell_type": "markdown",
   "metadata": {},
   "source": [
    "#### Risk"
   ]
  },
  {
   "cell_type": "code",
   "execution_count": 7,
   "metadata": {},
   "outputs": [],
   "source": [
    "one_model_base = \"window1_rerunsen_lda_{}_{}.model\"\n",
    "one_risk_lda_path = path_base + one_model_base.format(risk_label,1)"
   ]
  },
  {
   "cell_type": "code",
   "execution_count": 8,
   "metadata": {},
   "outputs": [
    {
     "data": {
      "text/plain": [
       "'Umass: -4.0796'"
      ]
     },
     "metadata": {},
     "output_type": "display_data"
    },
    {
     "data": {
      "text/plain": [
       "'CV: +0.5407'"
      ]
     },
     "metadata": {},
     "output_type": "display_data"
    },
    {
     "data": {
      "text/plain": [
       "'CUCI: -0.0644'"
      ]
     },
     "metadata": {},
     "output_type": "display_data"
    },
    {
     "data": {
      "text/plain": [
       "'NPMI: +0.0179'"
      ]
     },
     "metadata": {},
     "output_type": "display_data"
    }
   ],
   "source": [
    "get_coh(one_risk_lda_path, one_data, risk_label, True, 1)"
   ]
  },
  {
   "cell_type": "markdown",
   "metadata": {},
   "source": [
    "#### MD"
   ]
  },
  {
   "cell_type": "code",
   "execution_count": 10,
   "metadata": {},
   "outputs": [],
   "source": [
    "one_mda_lda_path = path_base + one_model_base.format(mda_label,1)"
   ]
  },
  {
   "cell_type": "code",
   "execution_count": 11,
   "metadata": {},
   "outputs": [
    {
     "data": {
      "text/plain": [
       "'Umass: -5.2741'"
      ]
     },
     "metadata": {},
     "output_type": "display_data"
    },
    {
     "data": {
      "text/plain": [
       "'CV: +0.4854'"
      ]
     },
     "metadata": {},
     "output_type": "display_data"
    },
    {
     "data": {
      "text/plain": [
       "'CUCI: -0.4582'"
      ]
     },
     "metadata": {},
     "output_type": "display_data"
    },
    {
     "data": {
      "text/plain": [
       "'NPMI: -0.0056'"
      ]
     },
     "metadata": {},
     "output_type": "display_data"
    }
   ],
   "source": [
    "get_coh(one_mda_lda_path, one_data, mda_label, True, 1)"
   ]
  },
  {
   "cell_type": "markdown",
   "metadata": {},
   "source": [
    "# WindowSize = 5, WindowOverlap = 2"
   ]
  },
  {
   "cell_type": "code",
   "execution_count": 4,
   "metadata": {},
   "outputs": [],
   "source": [
    "five_data = pd.read_pickle(path_base + data_base.format(5,2))"
   ]
  },
  {
   "cell_type": "markdown",
   "metadata": {},
   "source": [
    "#### Risk"
   ]
  },
  {
   "cell_type": "code",
   "execution_count": 7,
   "metadata": {},
   "outputs": [],
   "source": [
    "five_risk_lda_path = path_base + model_base.format(risk_label,5)"
   ]
  },
  {
   "cell_type": "code",
   "execution_count": 23,
   "metadata": {},
   "outputs": [
    {
     "data": {
      "text/plain": [
       "'Loading Documents'"
      ]
     },
     "metadata": {},
     "output_type": "display_data"
    },
    {
     "data": {
      "text/plain": [
       "'Loading Dict'"
      ]
     },
     "metadata": {},
     "output_type": "display_data"
    },
    {
     "data": {
      "text/plain": [
       "'Loading Corpus'"
      ]
     },
     "metadata": {},
     "output_type": "display_data"
    },
    {
     "ename": "KeyboardInterrupt",
     "evalue": "",
     "output_type": "error",
     "traceback": [
      "\u001b[0;31m---------------------------------------------------------------------------\u001b[0m",
      "\u001b[0;31mKeyboardInterrupt\u001b[0m                         Traceback (most recent call last)",
      "\u001b[0;32m<ipython-input-23-d0a702cee9a0>\u001b[0m in \u001b[0;36m<module>\u001b[0;34m\u001b[0m\n\u001b[0;32m----> 1\u001b[0;31m \u001b[0mviz\u001b[0m \u001b[0;34m=\u001b[0m \u001b[0mget_viz\u001b[0m\u001b[0;34m(\u001b[0m\u001b[0mfive_risk_lda_path\u001b[0m\u001b[0;34m,\u001b[0m \u001b[0mfive_data\u001b[0m\u001b[0;34m,\u001b[0m \u001b[0mrisk_label\u001b[0m\u001b[0;34m,\u001b[0m \u001b[0;32mTrue\u001b[0m\u001b[0;34m,\u001b[0m \u001b[0;36m5\u001b[0m\u001b[0;34m)\u001b[0m\u001b[0;34m\u001b[0m\u001b[0;34m\u001b[0m\u001b[0m\n\u001b[0m",
      "\u001b[0;32m<ipython-input-22-f29446a35ade>\u001b[0m in \u001b[0;36mget_viz\u001b[0;34m(lda_path, data, label, is_filter_extreme, ws)\u001b[0m\n\u001b[1;32m     63\u001b[0m             \u001b[0mpickle\u001b[0m\u001b[0;34m.\u001b[0m\u001b[0mdump\u001b[0m\u001b[0;34m(\u001b[0m\u001b[0mcorpus\u001b[0m\u001b[0;34m,\u001b[0m \u001b[0mfile\u001b[0m\u001b[0;34m)\u001b[0m\u001b[0;34m\u001b[0m\u001b[0;34m\u001b[0m\u001b[0m\n\u001b[1;32m     64\u001b[0m \u001b[0;34m\u001b[0m\u001b[0m\n\u001b[0;32m---> 65\u001b[0;31m     \u001b[0mviz_model\u001b[0m \u001b[0;34m=\u001b[0m \u001b[0mprepare\u001b[0m\u001b[0;34m(\u001b[0m\u001b[0mlda_model\u001b[0m\u001b[0;34m,\u001b[0m \u001b[0mcorpus\u001b[0m\u001b[0;34m,\u001b[0m \u001b[0mdictionary\u001b[0m\u001b[0;34m=\u001b[0m\u001b[0mdictionary\u001b[0m\u001b[0;34m)\u001b[0m\u001b[0;34m\u001b[0m\u001b[0;34m\u001b[0m\u001b[0m\n\u001b[0m\u001b[1;32m     66\u001b[0m     \u001b[0mpyLDAvis\u001b[0m\u001b[0;34m.\u001b[0m\u001b[0msave_html\u001b[0m\u001b[0;34m(\u001b[0m\u001b[0mviz_model\u001b[0m\u001b[0;34m,\u001b[0m \u001b[0;34m\"{}_{}_{}_{}_{}.html\"\u001b[0m\u001b[0;34m.\u001b[0m\u001b[0mformat\u001b[0m\u001b[0;34m(\u001b[0m\u001b[0;34m\"ldaviz\"\u001b[0m\u001b[0;34m,\u001b[0m\u001b[0mstart_year\u001b[0m\u001b[0;34m,\u001b[0m\u001b[0mend_year\u001b[0m\u001b[0;34m,\u001b[0m\u001b[0mlabel\u001b[0m\u001b[0;34m,\u001b[0m\u001b[0mws\u001b[0m\u001b[0;34m)\u001b[0m\u001b[0;34m)\u001b[0m\u001b[0;34m\u001b[0m\u001b[0;34m\u001b[0m\u001b[0m\n\u001b[1;32m     67\u001b[0m     \u001b[0;32mreturn\u001b[0m \u001b[0mviz_model\u001b[0m\u001b[0;34m\u001b[0m\u001b[0;34m\u001b[0m\u001b[0m\n",
      "\u001b[0;32m~/anaconda3/envs/harshulEnv/lib/python3.6/site-packages/pyLDAvis/gensim.py\u001b[0m in \u001b[0;36mprepare\u001b[0;34m(topic_model, corpus, dictionary, doc_topic_dist, **kwargs)\u001b[0m\n\u001b[1;32m    121\u001b[0m     \u001b[0mSee\u001b[0m\u001b[0;31m \u001b[0m\u001b[0;31m`\u001b[0m\u001b[0mpyLDAvis\u001b[0m\u001b[0;34m.\u001b[0m\u001b[0mprepare\u001b[0m\u001b[0;31m`\u001b[0m \u001b[0;32mfor\u001b[0m \u001b[0;34m**\u001b[0m\u001b[0mkwargs\u001b[0m\u001b[0;34m.\u001b[0m\u001b[0;34m\u001b[0m\u001b[0;34m\u001b[0m\u001b[0m\n\u001b[1;32m    122\u001b[0m     \"\"\"\n\u001b[0;32m--> 123\u001b[0;31m     \u001b[0mopts\u001b[0m \u001b[0;34m=\u001b[0m \u001b[0mfp\u001b[0m\u001b[0;34m.\u001b[0m\u001b[0mmerge\u001b[0m\u001b[0;34m(\u001b[0m\u001b[0m_extract_data\u001b[0m\u001b[0;34m(\u001b[0m\u001b[0mtopic_model\u001b[0m\u001b[0;34m,\u001b[0m \u001b[0mcorpus\u001b[0m\u001b[0;34m,\u001b[0m \u001b[0mdictionary\u001b[0m\u001b[0;34m,\u001b[0m \u001b[0mdoc_topic_dist\u001b[0m\u001b[0;34m)\u001b[0m\u001b[0;34m,\u001b[0m \u001b[0mkwargs\u001b[0m\u001b[0;34m)\u001b[0m\u001b[0;34m\u001b[0m\u001b[0;34m\u001b[0m\u001b[0m\n\u001b[0m\u001b[1;32m    124\u001b[0m     \u001b[0;32mreturn\u001b[0m \u001b[0mvis_prepare\u001b[0m\u001b[0;34m(\u001b[0m\u001b[0;34m**\u001b[0m\u001b[0mopts\u001b[0m\u001b[0;34m)\u001b[0m\u001b[0;34m\u001b[0m\u001b[0;34m\u001b[0m\u001b[0m\n",
      "\u001b[0;32m~/anaconda3/envs/harshulEnv/lib/python3.6/site-packages/pyLDAvis/gensim.py\u001b[0m in \u001b[0;36m_extract_data\u001b[0;34m(topic_model, corpus, dictionary, doc_topic_dists)\u001b[0m\n\u001b[1;32m     48\u001b[0m             \u001b[0mgamma\u001b[0m \u001b[0;34m=\u001b[0m \u001b[0mtopic_model\u001b[0m\u001b[0;34m.\u001b[0m\u001b[0minference\u001b[0m\u001b[0;34m(\u001b[0m\u001b[0mcorpus\u001b[0m\u001b[0;34m)\u001b[0m\u001b[0;34m\u001b[0m\u001b[0;34m\u001b[0m\u001b[0m\n\u001b[1;32m     49\u001b[0m         \u001b[0;32melse\u001b[0m\u001b[0;34m:\u001b[0m\u001b[0;34m\u001b[0m\u001b[0;34m\u001b[0m\u001b[0m\n\u001b[0;32m---> 50\u001b[0;31m             \u001b[0mgamma\u001b[0m\u001b[0;34m,\u001b[0m \u001b[0m_\u001b[0m \u001b[0;34m=\u001b[0m \u001b[0mtopic_model\u001b[0m\u001b[0;34m.\u001b[0m\u001b[0minference\u001b[0m\u001b[0;34m(\u001b[0m\u001b[0mcorpus\u001b[0m\u001b[0;34m)\u001b[0m\u001b[0;34m\u001b[0m\u001b[0;34m\u001b[0m\u001b[0m\n\u001b[0m\u001b[1;32m     51\u001b[0m         \u001b[0mdoc_topic_dists\u001b[0m \u001b[0;34m=\u001b[0m \u001b[0mgamma\u001b[0m \u001b[0;34m/\u001b[0m \u001b[0mgamma\u001b[0m\u001b[0;34m.\u001b[0m\u001b[0msum\u001b[0m\u001b[0;34m(\u001b[0m\u001b[0maxis\u001b[0m\u001b[0;34m=\u001b[0m\u001b[0;36m1\u001b[0m\u001b[0;34m)\u001b[0m\u001b[0;34m[\u001b[0m\u001b[0;34m:\u001b[0m\u001b[0;34m,\u001b[0m \u001b[0;32mNone\u001b[0m\u001b[0;34m]\u001b[0m\u001b[0;34m\u001b[0m\u001b[0;34m\u001b[0m\u001b[0m\n\u001b[1;32m     52\u001b[0m     \u001b[0;32melse\u001b[0m\u001b[0;34m:\u001b[0m\u001b[0;34m\u001b[0m\u001b[0;34m\u001b[0m\u001b[0m\n",
      "\u001b[0;32m~/anaconda3/envs/harshulEnv/lib/python3.6/site-packages/gensim/models/ldamodel.py\u001b[0m in \u001b[0;36minference\u001b[0;34m(self, chunk, collect_sstats)\u001b[0m\n\u001b[1;32m    691\u001b[0m                 \u001b[0;31m# Substituting the value of the optimal phi back into\u001b[0m\u001b[0;34m\u001b[0m\u001b[0;34m\u001b[0m\u001b[0;34m\u001b[0m\u001b[0m\n\u001b[1;32m    692\u001b[0m                 \u001b[0;31m# the update for gamma gives this update. Cf. Lee&Seung 2001.\u001b[0m\u001b[0;34m\u001b[0m\u001b[0;34m\u001b[0m\u001b[0;34m\u001b[0m\u001b[0m\n\u001b[0;32m--> 693\u001b[0;31m                 \u001b[0mgammad\u001b[0m \u001b[0;34m=\u001b[0m \u001b[0mself\u001b[0m\u001b[0;34m.\u001b[0m\u001b[0malpha\u001b[0m \u001b[0;34m+\u001b[0m \u001b[0mexpElogthetad\u001b[0m \u001b[0;34m*\u001b[0m \u001b[0mnp\u001b[0m\u001b[0;34m.\u001b[0m\u001b[0mdot\u001b[0m\u001b[0;34m(\u001b[0m\u001b[0mcts\u001b[0m \u001b[0;34m/\u001b[0m \u001b[0mphinorm\u001b[0m\u001b[0;34m,\u001b[0m \u001b[0mexpElogbetad\u001b[0m\u001b[0;34m.\u001b[0m\u001b[0mT\u001b[0m\u001b[0;34m)\u001b[0m\u001b[0;34m\u001b[0m\u001b[0;34m\u001b[0m\u001b[0m\n\u001b[0m\u001b[1;32m    694\u001b[0m                 \u001b[0mElogthetad\u001b[0m \u001b[0;34m=\u001b[0m \u001b[0mdirichlet_expectation\u001b[0m\u001b[0;34m(\u001b[0m\u001b[0mgammad\u001b[0m\u001b[0;34m)\u001b[0m\u001b[0;34m\u001b[0m\u001b[0;34m\u001b[0m\u001b[0m\n\u001b[1;32m    695\u001b[0m                 \u001b[0mexpElogthetad\u001b[0m \u001b[0;34m=\u001b[0m \u001b[0mnp\u001b[0m\u001b[0;34m.\u001b[0m\u001b[0mexp\u001b[0m\u001b[0;34m(\u001b[0m\u001b[0mElogthetad\u001b[0m\u001b[0;34m)\u001b[0m\u001b[0;34m\u001b[0m\u001b[0;34m\u001b[0m\u001b[0m\n",
      "\u001b[0;32m<__array_function__ internals>\u001b[0m in \u001b[0;36mdot\u001b[0;34m(*args, **kwargs)\u001b[0m\n",
      "\u001b[0;31mKeyboardInterrupt\u001b[0m: "
     ]
    }
   ],
   "source": [
    "viz = get_viz(five_risk_lda_path, five_data, risk_label, True, 5)"
   ]
  },
  {
   "cell_type": "code",
   "execution_count": 28,
   "metadata": {},
   "outputs": [
    {
     "data": {
      "text/plain": [
       "'Umass: -2.4353'"
      ]
     },
     "metadata": {},
     "output_type": "display_data"
    },
    {
     "data": {
      "text/plain": [
       "'CV: +0.5097'"
      ]
     },
     "metadata": {},
     "output_type": "display_data"
    },
    {
     "data": {
      "text/plain": [
       "'CUCI: +0.3011'"
      ]
     },
     "metadata": {},
     "output_type": "display_data"
    },
    {
     "data": {
      "text/plain": [
       "'NPMI: +0.0625'"
      ]
     },
     "metadata": {},
     "output_type": "display_data"
    }
   ],
   "source": [
    "get_coh(five_risk_lda_path, five_data, risk_label, True, 5)"
   ]
  },
  {
   "cell_type": "markdown",
   "metadata": {},
   "source": [
    "#### MD&A"
   ]
  },
  {
   "cell_type": "code",
   "execution_count": 24,
   "metadata": {},
   "outputs": [],
   "source": [
    "five_mda_lda_path = path_base + model_base.format(mda_label,5)"
   ]
  },
  {
   "cell_type": "code",
   "execution_count": 25,
   "metadata": {},
   "outputs": [
    {
     "data": {
      "text/plain": [
       "'Loading Documents'"
      ]
     },
     "metadata": {},
     "output_type": "display_data"
    },
    {
     "data": {
      "text/plain": [
       "'Loading Dict'"
      ]
     },
     "metadata": {},
     "output_type": "display_data"
    },
    {
     "data": {
      "text/plain": [
       "'Loading Corpus'"
      ]
     },
     "metadata": {},
     "output_type": "display_data"
    }
   ],
   "source": [
    "viz = get_viz(five_mda_lda_path, five_data, mda_label, True, 5)"
   ]
  },
  {
   "cell_type": "code",
   "execution_count": 30,
   "metadata": {},
   "outputs": [
    {
     "data": {
      "text/plain": [
       "'Umass: -2.5182'"
      ]
     },
     "metadata": {},
     "output_type": "display_data"
    },
    {
     "data": {
      "text/plain": [
       "'CV: +0.5924'"
      ]
     },
     "metadata": {},
     "output_type": "display_data"
    },
    {
     "data": {
      "text/plain": [
       "'CUCI: +0.4884'"
      ]
     },
     "metadata": {},
     "output_type": "display_data"
    },
    {
     "data": {
      "text/plain": [
       "'NPMI: +0.0751'"
      ]
     },
     "metadata": {},
     "output_type": "display_data"
    }
   ],
   "source": [
    "get_coh(five_mda_lda_path, five_data, mda_label, True, 5)"
   ]
  },
  {
   "cell_type": "markdown",
   "metadata": {},
   "source": [
    "## WindowSize = 7, WindowOverlap = 3"
   ]
  },
  {
   "cell_type": "code",
   "execution_count": 26,
   "metadata": {},
   "outputs": [],
   "source": [
    "del five_data\n",
    "seven_data = pd.read_pickle(path_base + data_base.format(7,3))"
   ]
  },
  {
   "cell_type": "markdown",
   "metadata": {},
   "source": [
    "#### Risk"
   ]
  },
  {
   "cell_type": "code",
   "execution_count": 27,
   "metadata": {},
   "outputs": [],
   "source": [
    "seven_risk_lda_path = path_base + model_base.format(risk_label,7)"
   ]
  },
  {
   "cell_type": "code",
   "execution_count": 29,
   "metadata": {},
   "outputs": [
    {
     "data": {
      "text/plain": [
       "'Loading Documents'"
      ]
     },
     "metadata": {},
     "output_type": "display_data"
    },
    {
     "data": {
      "text/plain": [
       "'Loading Dict'"
      ]
     },
     "metadata": {},
     "output_type": "display_data"
    },
    {
     "data": {
      "text/plain": [
       "'Loading Corpus'"
      ]
     },
     "metadata": {},
     "output_type": "display_data"
    }
   ],
   "source": [
    "viz = get_viz(seven_risk_lda_path, seven_data, risk_label, True, 7)"
   ]
  },
  {
   "cell_type": "code",
   "execution_count": 33,
   "metadata": {},
   "outputs": [
    {
     "data": {
      "text/plain": [
       "'Umass: -2.0128'"
      ]
     },
     "metadata": {},
     "output_type": "display_data"
    },
    {
     "data": {
      "text/plain": [
       "'CV: +0.5316'"
      ]
     },
     "metadata": {},
     "output_type": "display_data"
    },
    {
     "data": {
      "text/plain": [
       "'CUCI: +0.4571'"
      ]
     },
     "metadata": {},
     "output_type": "display_data"
    },
    {
     "data": {
      "text/plain": [
       "'NPMI: +0.0696'"
      ]
     },
     "metadata": {},
     "output_type": "display_data"
    }
   ],
   "source": [
    "get_coh(seven_risk_lda_path, seven_data, risk_label, True, 7)"
   ]
  },
  {
   "cell_type": "markdown",
   "metadata": {},
   "source": [
    "#### MD&A"
   ]
  },
  {
   "cell_type": "code",
   "execution_count": 30,
   "metadata": {},
   "outputs": [],
   "source": [
    "seven_mda_lda_path = path_base + model_base.format(mda_label,7)"
   ]
  },
  {
   "cell_type": "code",
   "execution_count": 31,
   "metadata": {},
   "outputs": [
    {
     "data": {
      "text/plain": [
       "'Loading Documents'"
      ]
     },
     "metadata": {},
     "output_type": "display_data"
    },
    {
     "data": {
      "text/plain": [
       "'Loading Dict'"
      ]
     },
     "metadata": {},
     "output_type": "display_data"
    },
    {
     "data": {
      "text/plain": [
       "'Loading Corpus'"
      ]
     },
     "metadata": {},
     "output_type": "display_data"
    }
   ],
   "source": [
    "viz = get_viz(seven_mda_lda_path, seven_data, mda_label, True, 7)"
   ]
  },
  {
   "cell_type": "code",
   "execution_count": 35,
   "metadata": {},
   "outputs": [
    {
     "data": {
      "text/plain": [
       "'Umass: -2.4623'"
      ]
     },
     "metadata": {},
     "output_type": "display_data"
    },
    {
     "data": {
      "text/plain": [
       "'CV: +0.5446'"
      ]
     },
     "metadata": {},
     "output_type": "display_data"
    },
    {
     "data": {
      "text/plain": [
       "'CUCI: +0.3916'"
      ]
     },
     "metadata": {},
     "output_type": "display_data"
    },
    {
     "data": {
      "text/plain": [
       "'NPMI: +0.0639'"
      ]
     },
     "metadata": {},
     "output_type": "display_data"
    }
   ],
   "source": [
    "get_coh(seven_mda_lda_path, seven_data, mda_label, True, 7)"
   ]
  },
  {
   "cell_type": "code",
   "execution_count": 21,
   "metadata": {},
   "outputs": [
    {
     "data": {
      "image/png": "[encoded data removed]",
      "text/plain": [
       "<Figure size 432x288 with 1 Axes>"
      ]
     },
     "metadata": {
      "needs_background": "light"
     },
     "output_type": "display_data"
    }
   ],
   "source": [
    "item1a = [-4.0796, -2.4353, -2.0128]\n",
    "item7 = [-5.2741, 0.5924, -2.4623]\n",
    "\n",
    "x = []\n",
    "labels = [\"1\", \"5\", \"7\"]\n",
    "x = np.arange(len(labels))\n",
    "title=\"Sentence Coherence - Umass\"\n",
    "width = 0.35  # the width of the bars\n",
    "fig, ax = plt.subplots()\n",
    "rects1 = ax.bar(x - width / 2, item1a, width, label='Item1a')\n",
    "rects2 = ax.bar(x + width / 2, item7, width, label='Item7')\n",
    "# Add some text for labels, title and custom x-axis tick labels, etc.\n",
    "ax.set_ylabel('Coherence Score')\n",
    "ax.set_xlabel('Window Size')\n",
    "ax.set_title(title)\n",
    "ax.set_xticks(x)\n",
    "ax.set_xticklabels(labels)\n",
    "ax.legend()\n",
    "# fig.tight_layout()\n",
    "plt.show()"
   ]
  },
  {
   "cell_type": "code",
   "execution_count": 22,
   "metadata": {},
   "outputs": [
    {
     "data": {
      "image/png": "[encoded data removed]",
      "text/plain": [
       "<Figure size 432x288 with 1 Axes>"
      ]
     },
     "metadata": {
      "needs_background": "light"
     },
     "output_type": "display_data"
    }
   ],
   "source": [
    "item1a = [0.5407, 0.5097, 0.5316]\n",
    "item7 = [0.4854, 0.5924, 0.5446]\n",
    "\n",
    "x = []\n",
    "labels = [\"1\", \"5\", \"7\"]\n",
    "x = np.arange(len(labels))\n",
    "title=\"Sentence Coherence - C_v\"\n",
    "width = 0.35  # the width of the bars\n",
    "fig, ax = plt.subplots()\n",
    "rects1 = ax.bar(x - width / 2, item1a, width, label='Item1a')\n",
    "rects2 = ax.bar(x + width / 2, item7, width, label='Item7')\n",
    "# Add some text for labels, title and custom x-axis tick labels, etc.\n",
    "ax.set_ylabel('Coherence Score')\n",
    "ax.set_xlabel('Window Size')\n",
    "ax.set_title(title)\n",
    "ax.set_xticks(x)\n",
    "ax.set_xticklabels(labels)\n",
    "ax.legend()\n",
    "# fig.tight_layout()\n",
    "plt.show()"
   ]
  },
  {
   "cell_type": "code",
   "execution_count": null,
   "metadata": {},
   "outputs": [],
   "source": []
  }
 ],
 "metadata": {
  "kernelspec": {
   "display_name": "Python 3",
   "language": "python",
   "name": "python3"
  },
  "language_info": {
   "codemirror_mode": {
    "name": "ipython",
    "version": 3
   },
   "file_extension": ".py",
   "mimetype": "text/x-python",
   "name": "python",
   "nbconvert_exporter": "python",
   "pygments_lexer": "ipython3",
   "version": "3.6.13"
  }
 },
 "nbformat": 4,
 "nbformat_minor": 4
}
