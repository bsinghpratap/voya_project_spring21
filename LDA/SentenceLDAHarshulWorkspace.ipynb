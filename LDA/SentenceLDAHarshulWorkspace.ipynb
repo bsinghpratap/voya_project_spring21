{
 "cells": [
  {
   "cell_type": "code",
   "execution_count": 1,
   "metadata": {
    "ExecuteTime": {
     "end_time": "2021-03-15T16:37:23.676561Z",
     "start_time": "2021-03-15T16:37:23.658068Z"
    }
   },
   "outputs": [
    {
     "data": {
      "text/plain": [
       "'\\n3 ways to do SentenceLDA:\\n-> Do Vanilla-LDA: Find weighting for documents. Find word->topic, average over sentences\\n-> Do Vanilla-LDA where document = sentence, average across sentence for the document\\n-> ??\\n'"
      ]
     },
     "execution_count": 1,
     "metadata": {},
     "output_type": "execute_result"
    }
   ],
   "source": [
    "\"\"\"\n",
    "3 ways to do SentenceLDA:\n",
    "-> Do Vanilla-LDA: Find weighting for documents. Find word->topic, average over sentences\n",
    "-> Do Vanilla-LDA where document = sentence, average across sentence for the document\n",
    "-> ??\n",
    "\"\"\""
   ]
  },
  {
   "cell_type": "code",
   "execution_count": 1,
   "metadata": {
    "ExecuteTime": {
     "end_time": "2021-03-15T18:53:09.723875Z",
     "start_time": "2021-03-15T18:53:07.256700Z"
    }
   },
   "outputs": [],
   "source": [
    "import pickle\n",
    "import pandas as pd\n",
    "import re\n",
    "from nltk.tokenize import RegexpTokenizer\n",
    "\n",
    "import pandas as pd\n",
    "import numpy as np\n",
    "from nltk.tokenize import RegexpTokenizer\n",
    "from nltk.stem.wordnet import WordNetLemmatizer\n",
    "from gensim.models.ldamulticore import LdaMulticore\n",
    "from gensim.models.ldamodel import LdaModel\n",
    "\n",
    "from gensim.models import Phrases\n",
    "from gensim.parsing.preprocessing import preprocess_string, remove_stopwords, strip_numeric, strip_punctuation, strip_short, stem_text\n",
    "import matplotlib.pyplot as plt\n",
    "\n",
    "from gensim import corpora\n",
    "from gensim.utils import simple_preprocess\n",
    "from gensim.corpora import Dictionary"
   ]
  },
  {
   "cell_type": "code",
   "execution_count": 2,
   "metadata": {
    "ExecuteTime": {
     "end_time": "2021-03-15T18:53:29.987279Z",
     "start_time": "2021-03-15T18:53:09.727004Z"
    }
   },
   "outputs": [],
   "source": [
    "path = \"/mnt/nfs/scratch1/hshukla/\"\n",
    "file = \"processed_data_withpunc.csv\"\n",
    "data = pd.read_csv(path + file)"
   ]
  },
  {
   "cell_type": "code",
   "execution_count": 3,
   "metadata": {
    "ExecuteTime": {
     "end_time": "2021-03-15T18:53:30.017121Z",
     "start_time": "2021-03-15T18:53:29.989943Z"
    }
   },
   "outputs": [
    {
     "data": {
      "text/html": [
       "<div>\n",
       "<style scoped>\n",
       "    .dataframe tbody tr th:only-of-type {\n",
       "        vertical-align: middle;\n",
       "    }\n",
       "\n",
       "    .dataframe tbody tr th {\n",
       "        vertical-align: top;\n",
       "    }\n",
       "\n",
       "    .dataframe thead th {\n",
       "        text-align: right;\n",
       "    }\n",
       "</style>\n",
       "<table border=\"1\" class=\"dataframe\">\n",
       "  <thead>\n",
       "    <tr style=\"text-align: right;\">\n",
       "      <th></th>\n",
       "      <th>Unnamed: 0</th>\n",
       "      <th>cik</th>\n",
       "      <th>ticker_x</th>\n",
       "      <th>filing_date</th>\n",
       "      <th>item1a_risk</th>\n",
       "      <th>item7_mda</th>\n",
       "      <th>year_x</th>\n",
       "      <th>filing_year_x</th>\n",
       "      <th>perm_id</th>\n",
       "      <th>ticker_y</th>\n",
       "      <th>year_y</th>\n",
       "      <th>company_name</th>\n",
       "      <th>is_dividend_payer</th>\n",
       "      <th>dps_change</th>\n",
       "      <th>is_dps_cut</th>\n",
       "      <th>z_environmental</th>\n",
       "      <th>d_environmental</th>\n",
       "      <th>sector</th>\n",
       "      <th>filing_year_y</th>\n",
       "    </tr>\n",
       "  </thead>\n",
       "  <tbody>\n",
       "    <tr>\n",
       "      <th>0</th>\n",
       "      <td>0</td>\n",
       "      <td>1750</td>\n",
       "      <td>AIR</td>\n",
       "      <td>2010-07-16</td>\n",
       "      <td>item risk factor the follow descript princip r...</td>\n",
       "      <td>item management' discuss and analysi financi c...</td>\n",
       "      <td>2010</td>\n",
       "      <td>2010</td>\n",
       "      <td>4332</td>\n",
       "      <td>AIR</td>\n",
       "      <td>2010</td>\n",
       "      <td>AAR CORP</td>\n",
       "      <td>0.0</td>\n",
       "      <td>2.000000</td>\n",
       "      <td>NaN</td>\n",
       "      <td>NaN</td>\n",
       "      <td>NaN</td>\n",
       "      <td>Industrials</td>\n",
       "      <td>2010</td>\n",
       "    </tr>\n",
       "    <tr>\n",
       "      <th>1</th>\n",
       "      <td>1</td>\n",
       "      <td>2034</td>\n",
       "      <td>ACET</td>\n",
       "      <td>2010-09-10</td>\n",
       "      <td>&gt;item risk factor you carefulli consid follow ...</td>\n",
       "      <td>&gt;item manag discuss analysi financi condit res...</td>\n",
       "      <td>2010</td>\n",
       "      <td>2010</td>\n",
       "      <td>2883</td>\n",
       "      <td>ACET</td>\n",
       "      <td>2010</td>\n",
       "      <td>ACETO CORP</td>\n",
       "      <td>1.0</td>\n",
       "      <td>0.000000</td>\n",
       "      <td>0.0</td>\n",
       "      <td>NaN</td>\n",
       "      <td>NaN</td>\n",
       "      <td>Industrials</td>\n",
       "      <td>2010</td>\n",
       "    </tr>\n",
       "    <tr>\n",
       "      <th>2</th>\n",
       "      <td>2</td>\n",
       "      <td>2491</td>\n",
       "      <td>BYI</td>\n",
       "      <td>2010-08-26</td>\n",
       "      <td>item risk factor our busi invest common stock ...</td>\n",
       "      <td>item management' discuss and analysi financi c...</td>\n",
       "      <td>2010</td>\n",
       "      <td>2010</td>\n",
       "      <td>2791</td>\n",
       "      <td>BYI</td>\n",
       "      <td>2010</td>\n",
       "      <td>BALLY TECHNOLOGIES INC</td>\n",
       "      <td>0.0</td>\n",
       "      <td>NaN</td>\n",
       "      <td>NaN</td>\n",
       "      <td>NaN</td>\n",
       "      <td>NaN</td>\n",
       "      <td>Tech</td>\n",
       "      <td>2010</td>\n",
       "    </tr>\n",
       "    <tr>\n",
       "      <th>3</th>\n",
       "      <td>3</td>\n",
       "      <td>2969</td>\n",
       "      <td>APD</td>\n",
       "      <td>2010-11-23</td>\n",
       "      <td>&gt;item risk factor you read follow risk factor ...</td>\n",
       "      <td>&gt;item manag discuss and analysi financi condit...</td>\n",
       "      <td>2010</td>\n",
       "      <td>2010</td>\n",
       "      <td>2799</td>\n",
       "      <td>APD</td>\n",
       "      <td>2010</td>\n",
       "      <td>AIR PRODUCTS &amp; CHEMICALS INC</td>\n",
       "      <td>1.0</td>\n",
       "      <td>0.149398</td>\n",
       "      <td>0.0</td>\n",
       "      <td>0.620576</td>\n",
       "      <td>-1.857054</td>\n",
       "      <td>Commodities</td>\n",
       "      <td>2010</td>\n",
       "    </tr>\n",
       "    <tr>\n",
       "      <th>4</th>\n",
       "      <td>4</td>\n",
       "      <td>3545</td>\n",
       "      <td>ALCO</td>\n",
       "      <td>2010-12-14</td>\n",
       "      <td>&gt;item risk factors. alico oper involv vari deg...</td>\n",
       "      <td>&gt;item manag discuss analysi financi condit res...</td>\n",
       "      <td>2010</td>\n",
       "      <td>2010</td>\n",
       "      <td>1824</td>\n",
       "      <td>ALCO</td>\n",
       "      <td>2010</td>\n",
       "      <td>ALICO INC</td>\n",
       "      <td>1.0</td>\n",
       "      <td>0.181818</td>\n",
       "      <td>0.0</td>\n",
       "      <td>NaN</td>\n",
       "      <td>NaN</td>\n",
       "      <td>Consumer</td>\n",
       "      <td>2010</td>\n",
       "    </tr>\n",
       "  </tbody>\n",
       "</table>\n",
       "</div>"
      ],
      "text/plain": [
       "   Unnamed: 0   cik ticker_x filing_date  \\\n",
       "0           0  1750      AIR  2010-07-16   \n",
       "1           1  2034     ACET  2010-09-10   \n",
       "2           2  2491      BYI  2010-08-26   \n",
       "3           3  2969      APD  2010-11-23   \n",
       "4           4  3545     ALCO  2010-12-14   \n",
       "\n",
       "                                         item1a_risk  \\\n",
       "0  item risk factor the follow descript princip r...   \n",
       "1  >item risk factor you carefulli consid follow ...   \n",
       "2  item risk factor our busi invest common stock ...   \n",
       "3  >item risk factor you read follow risk factor ...   \n",
       "4  >item risk factors. alico oper involv vari deg...   \n",
       "\n",
       "                                           item7_mda  year_x  filing_year_x  \\\n",
       "0  item management' discuss and analysi financi c...    2010           2010   \n",
       "1  >item manag discuss analysi financi condit res...    2010           2010   \n",
       "2  item management' discuss and analysi financi c...    2010           2010   \n",
       "3  >item manag discuss and analysi financi condit...    2010           2010   \n",
       "4  >item manag discuss analysi financi condit res...    2010           2010   \n",
       "\n",
       "   perm_id ticker_y  year_y                  company_name  is_dividend_payer  \\\n",
       "0     4332      AIR    2010                      AAR CORP                0.0   \n",
       "1     2883     ACET    2010                    ACETO CORP                1.0   \n",
       "2     2791      BYI    2010        BALLY TECHNOLOGIES INC                0.0   \n",
       "3     2799      APD    2010  AIR PRODUCTS & CHEMICALS INC                1.0   \n",
       "4     1824     ALCO    2010                     ALICO INC                1.0   \n",
       "\n",
       "   dps_change  is_dps_cut  z_environmental  d_environmental       sector  \\\n",
       "0    2.000000         NaN              NaN              NaN  Industrials   \n",
       "1    0.000000         0.0              NaN              NaN  Industrials   \n",
       "2         NaN         NaN              NaN              NaN         Tech   \n",
       "3    0.149398         0.0         0.620576        -1.857054  Commodities   \n",
       "4    0.181818         0.0              NaN              NaN     Consumer   \n",
       "\n",
       "   filing_year_y  \n",
       "0           2010  \n",
       "1           2010  \n",
       "2           2010  \n",
       "3           2010  \n",
       "4           2010  "
      ]
     },
     "execution_count": 3,
     "metadata": {},
     "output_type": "execute_result"
    }
   ],
   "source": [
    "data.head()"
   ]
  },
  {
   "cell_type": "code",
   "execution_count": 4,
   "metadata": {
    "ExecuteTime": {
     "end_time": "2021-03-15T18:53:33.905713Z",
     "start_time": "2021-03-15T18:53:33.892439Z"
    }
   },
   "outputs": [
    {
     "data": {
      "text/plain": [
       "{2012}"
      ]
     },
     "metadata": {},
     "output_type": "display_data"
    }
   ],
   "source": [
    "SELECTED_YEARS = set(list(range(2012,2013)))\n",
    "display(SELECTED_YEARS)\n",
    "filtered_by_year = data[data.year_x.isin(SELECTED_YEARS)]\n",
    "items = {\n",
    "    'item1a': filtered_by_year['item1a_risk'],\n",
    "    'item7': filtered_by_year['item7_mda']\n",
    "}\n",
    "\n",
    "item_sentences = {}"
   ]
  },
  {
   "cell_type": "code",
   "execution_count": 5,
   "metadata": {
    "ExecuteTime": {
     "end_time": "2021-03-15T18:54:08.523121Z",
     "start_time": "2021-03-15T18:53:39.606808Z"
    }
   },
   "outputs": [
    {
     "name": "stderr",
     "output_type": "stream",
     "text": [
      "/home/hshukla/anaconda3/lib/python3.8/site-packages/pandas/core/indexing.py:670: SettingWithCopyWarning: \n",
      "A value is trying to be set on a copy of a slice from a DataFrame\n",
      "\n",
      "See the caveats in the documentation: https://pandas.pydata.org/pandas-docs/stable/user_guide/indexing.html#returning-a-view-versus-a-copy\n",
      "  iloc._setitem_with_indexer(indexer, value)\n",
      "/home/hshukla/anaconda3/lib/python3.8/site-packages/pandas/core/internals/blocks.py:849: VisibleDeprecationWarning: Creating an ndarray from ragged nested sequences (which is a list-or-tuple of lists-or-tuples-or ndarrays with different lengths or shapes) is deprecated. If you meant to do this, you must specify 'dtype=object' when creating the ndarray\n",
      "  arr_value = np.array(value)\n",
      "<ipython-input-5-03804822a0b6>:9: SettingWithCopyWarning: \n",
      "A value is trying to be set on a copy of a slice from a DataFrame\n",
      "\n",
      "See the caveats in the documentation: https://pandas.pydata.org/pandas-docs/stable/user_guide/indexing.html#returning-a-view-versus-a-copy\n",
      "  items[item_key].iloc[idx] = these_sentences\n"
     ]
    }
   ],
   "source": [
    "# No bigrams, or lemmanzizing\n",
    "tokenizer = RegexpTokenizer(r'\\w+')\n",
    "for item_key in items.keys():\n",
    "    sentences = []\n",
    "    for idx in range(len(items[item_key])):\n",
    "        full_string = re.sub(\"[\\(;,\\)]\", \"\", items[item_key].iloc[idx].lower())\n",
    "        these_sentences = full_string.split(\".\")\n",
    "        these_sentences = [[word for word in tokenizer.tokenize(sent) if (len(word) > 2 and not word.isnumeric())] for sent in these_sentences]\n",
    "        items[item_key].iloc[idx] = these_sentences\n",
    "        \n",
    "        sentences.extend(these_sentences)\n",
    "    \n",
    "    item_sentences[item_key] = sentences"
   ]
  },
  {
   "cell_type": "code",
   "execution_count": 6,
   "metadata": {
    "ExecuteTime": {
     "end_time": "2021-03-15T18:54:47.675229Z",
     "start_time": "2021-03-15T18:54:47.669209Z"
    }
   },
   "outputs": [
    {
     "data": {
      "text/plain": [
       "681041"
      ]
     },
     "metadata": {},
     "output_type": "display_data"
    },
    {
     "data": {
      "text/plain": [
       "['item',\n",
       " 'risk',\n",
       " 'factor',\n",
       " 'the',\n",
       " 'follow',\n",
       " 'descript',\n",
       " 'princip',\n",
       " 'risk',\n",
       " 'inher',\n",
       " 'business']"
      ]
     },
     "metadata": {},
     "output_type": "display_data"
    },
    {
     "data": {
      "text/plain": [
       "7"
      ]
     },
     "metadata": {},
     "output_type": "display_data"
    }
   ],
   "source": [
    "display(len(item_sentences[\"item1a\"]))\n",
    "display(item_sentences[\"item1a\"][0])\n",
    "display(len(item_sentences[\"item1a\"][1]))"
   ]
  },
  {
   "cell_type": "code",
   "execution_count": 7,
   "metadata": {
    "ExecuteTime": {
     "end_time": "2021-03-15T18:55:36.092403Z",
     "start_time": "2021-03-15T18:54:53.863022Z"
    }
   },
   "outputs": [],
   "source": [
    "dictionaries = {}\n",
    "for item in item_sentences:\n",
    "    dictionaries[item] = Dictionary(item_sentences[item])"
   ]
  },
  {
   "cell_type": "code",
   "execution_count": 8,
   "metadata": {
    "ExecuteTime": {
     "end_time": "2021-03-15T18:56:05.106413Z",
     "start_time": "2021-03-15T18:55:36.095086Z"
    }
   },
   "outputs": [],
   "source": [
    "corpus = {}\n",
    "for item in item_sentences:\n",
    "    corpus[item] = [dictionaries[item].doc2bow(doc) for doc in item_sentences[item]]"
   ]
  },
  {
   "cell_type": "code",
   "execution_count": 9,
   "metadata": {
    "ExecuteTime": {
     "end_time": "2021-03-15T18:56:05.121980Z",
     "start_time": "2021-03-15T18:56:05.110903Z"
    }
   },
   "outputs": [
    {
     "name": "stdout",
     "output_type": "stream",
     "text": [
      "item1a:\n",
      "\tNumber of unique tokens: 41186\n",
      "\tNumber of documents: 681041\n",
      "item7:\n",
      "\tNumber of unique tokens: 59444\n",
      "\tNumber of documents: 997904\n"
     ]
    }
   ],
   "source": [
    "for item in item_sentences:\n",
    "    print(item + ':')\n",
    "    print('\\tNumber of unique tokens: %d' % len(dictionaries[item]))\n",
    "    print('\\tNumber of documents: %d' % len(corpus[item]))"
   ]
  },
  {
   "cell_type": "code",
   "execution_count": 10,
   "metadata": {
    "ExecuteTime": {
     "end_time": "2021-03-15T18:56:05.184000Z",
     "start_time": "2021-03-15T18:56:05.126352Z"
    }
   },
   "outputs": [],
   "source": [
    "id2word = {}\n",
    "for item in items:\n",
    "    temp = dictionaries[item][0] # Initialize id2token mappings\n",
    "    id2word[item] = dictionaries[item].id2token"
   ]
  },
  {
   "cell_type": "code",
   "execution_count": 11,
   "metadata": {
    "ExecuteTime": {
     "end_time": "2021-03-15T18:57:11.352704Z",
     "start_time": "2021-03-15T18:57:02.870337Z"
    }
   },
   "outputs": [
    {
     "data": {
      "text/plain": [
       "'item1a_corpus'"
      ]
     },
     "metadata": {},
     "output_type": "display_data"
    },
    {
     "data": {
      "text/plain": [
       "'item1a_id2word'"
      ]
     },
     "metadata": {},
     "output_type": "display_data"
    },
    {
     "data": {
      "text/plain": [
       "'item7_corpus'"
      ]
     },
     "metadata": {},
     "output_type": "display_data"
    },
    {
     "data": {
      "text/plain": [
       "'item7_id2word'"
      ]
     },
     "metadata": {},
     "output_type": "display_data"
    }
   ],
   "source": [
    "import pickle\n",
    "\n",
    "base_name = \"{}_{}\".format(min(list(SELECTED_YEARS)), max(list(SELECTED_YEARS))) + \"_{}_{}.pkl\"\n",
    "str_mapping = {\n",
    "    'corpus': corpus,\n",
    "    'id2word': id2word\n",
    "}\n",
    "\n",
    "for item in items:\n",
    "    for obj in str_mapping:\n",
    "        display(item + \"_\" + obj)\n",
    "        with open(path+base_name.format(item, obj), 'wb') as file:\n",
    "            pickle.dump(str_mapping[obj][item], file)"
   ]
  },
  {
   "cell_type": "code",
   "execution_count": 14,
   "metadata": {
    "ExecuteTime": {
     "end_time": "2021-03-15T18:24:42.072083Z",
     "start_time": "2021-03-15T18:24:42.063916Z"
    }
   },
   "outputs": [],
   "source": [
    "params = {\n",
    "    'num_topics': 30,\n",
    "    'chunksize': 2000,\n",
    "    'passes': 20,\n",
    "    'iterations': 400,\n",
    "    'eval_every': None,\n",
    "    'alpha': 'asymmetric',\n",
    "    'eta': 'auto'\n",
    "}"
   ]
  },
  {
   "cell_type": "code",
   "execution_count": 15,
   "metadata": {
    "ExecuteTime": {
     "end_time": "2021-03-15T18:25:08.282651Z",
     "start_time": "2021-03-15T18:25:06.540781Z"
    }
   },
   "outputs": [
    {
     "data": {
      "text/plain": [
       "'item1a'"
      ]
     },
     "metadata": {},
     "output_type": "display_data"
    },
    {
     "name": "stderr",
     "output_type": "stream",
     "text": [
      "Exception in thread Thread-4:\n",
      "Traceback (most recent call last):\n",
      "  File \"/home/hshukla/anaconda3/lib/python3.8/threading.py\", line 932, in _bootstrap_inner\n",
      "    self.run()\n",
      "  File \"/home/hshukla/anaconda3/lib/python3.8/threading.py\", line 870, in run\n",
      "    self._target(*self._args, **self._kwargs)\n",
      "  File \"/home/hshukla/anaconda3/lib/python3.8/multiprocessing/pool.py\", line 513, in _handle_workers\n",
      "    cls._maintain_pool(ctx, Process, processes, pool, inqueue,\n",
      "  File \"/home/hshukla/anaconda3/lib/python3.8/multiprocessing/pool.py\", line 337, in _maintain_pool\n",
      "    Pool._repopulate_pool_static(ctx, Process, processes, pool,\n",
      "  File \"/home/hshukla/anaconda3/lib/python3.8/multiprocessing/pool.py\", line 326, in _repopulate_pool_static\n",
      "    w.start()\n",
      "  File \"/home/hshukla/anaconda3/lib/python3.8/multiprocessing/process.py\", line 121, in start\n",
      "    self._popen = self._Popen(self)\n",
      "  File \"/home/hshukla/anaconda3/lib/python3.8/multiprocessing/context.py\", line 277, in _Popen\n",
      "    return Popen(process_obj)\n",
      "  File \"/home/hshukla/anaconda3/lib/python3.8/multiprocessing/popen_fork.py\", line 19, in __init__\n",
      "    self._launch(process_obj)\n",
      "  File \"/home/hshukla/anaconda3/lib/python3.8/multiprocessing/popen_fork.py\", line 70, in _launch\n",
      "    self.pid = os.fork()\n",
      "OSError: [Errno 12] Cannot allocate memory\n",
      "Process ForkPoolWorker-26:\n",
      "Process ForkPoolWorker-24:\n",
      "Process ForkPoolWorker-13:\n",
      "Process ForkPoolWorker-30:\n",
      "Process ForkPoolWorker-27:\n",
      "Process ForkPoolWorker-28:\n",
      "Process ForkPoolWorker-31:\n",
      "Process ForkPoolWorker-18:\n",
      "Process ForkPoolWorker-2:\n",
      "Process ForkPoolWorker-22:\n",
      "Process ForkPoolWorker-9:\n",
      "Process ForkPoolWorker-25:\n",
      "Process ForkPoolWorker-14:\n",
      "Process ForkPoolWorker-8:\n",
      "Process ForkPoolWorker-5:\n",
      "Process ForkPoolWorker-19:\n",
      "Process ForkPoolWorker-23:\n",
      "Process ForkPoolWorker-6:\n",
      "Traceback (most recent call last):\n",
      "Traceback (most recent call last):\n",
      "Traceback (most recent call last):\n",
      "Traceback (most recent call last):\n",
      "Traceback (most recent call last):\n",
      "Traceback (most recent call last):\n"
     ]
    }
   ],
   "source": [
    "models = {}\n",
    "for item in items:\n",
    "    display(item)\n",
    "    models[item] = LdaMulticore(\n",
    "        corpus=corpus[item],\n",
    "        id2word=id2word[item],\n",
    "        workers=32,\n",
    "        **params\n",
    "    )"
   ]
  },
  {
   "cell_type": "code",
   "execution_count": 13,
   "metadata": {
    "ExecuteTime": {
     "end_time": "2021-03-15T18:19:58.520143Z",
     "start_time": "2021-03-15T18:19:46.479482Z"
    }
   },
   "outputs": [],
   "source": [
    "with open(path+\"items\", 'wb') as file:\n",
    "    pickle.dump(items, file)"
   ]
  },
  {
   "cell_type": "code",
   "execution_count": null,
   "metadata": {},
   "outputs": [],
   "source": [
    "display(\"\")"
   ]
  },
  {
   "cell_type": "markdown",
   "metadata": {},
   "source": [
    "# Sen LDA Explor"
   ]
  },
  {
   "cell_type": "code",
   "execution_count": 2,
   "metadata": {},
   "outputs": [],
   "source": [
    "path = \"/mnt/nfs/scratch1/hshukla/\"\n",
    "start_year = 2012\n",
    "end_year = 2016\n",
    "item = \"item1full\"\n",
    "\n",
    "base_name = \"{}_{}_{}\".format(start_year, end_year, item) "
   ]
  },
  {
   "cell_type": "code",
   "execution_count": 3,
   "metadata": {},
   "outputs": [],
   "source": [
    "itemLDA = LdaModel.load(path + base_name)"
   ]
  },
  {
   "cell_type": "code",
   "execution_count": 4,
   "metadata": {},
   "outputs": [
    {
     "data": {
      "text/plain": [
       "[(0,\n",
       "  '0.020*\"servic\" + 0.018*\"busi\" + 0.017*\"new\" + 0.013*\"abil\" + 0.013*\"manag\" + 0.012*\"product\" + 0.012*\"custom\" + 0.012*\"our\" + 0.012*\"market\" + 0.010*\"provid\"'),\n",
       " (1,\n",
       "  '0.026*\"regul\" + 0.024*\"law\" + 0.022*\"state\" + 0.019*\"subject\" + 0.015*\"requir\" + 0.015*\"unit\" + 0.015*\"govern\" + 0.014*\"foreign\" + 0.014*\"regulatori\" + 0.013*\"chang\"'),\n",
       " (2,\n",
       "  '0.027*\"invest\" + 0.027*\"tax\" + 0.018*\"asset\" + 0.018*\"valu\" + 0.017*\"incom\" + 0.014*\"acquisit\" + 0.011*\"rate\" + 0.010*\"futur\" + 0.010*\"result\" + 0.010*\"loss\"'),\n",
       " (3,\n",
       "  '0.064*\"product\" + 0.022*\"develop\" + 0.019*\"manufactur\" + 0.018*\"approv\" + 0.018*\"clinic\" + 0.017*\"commerci\" + 0.013*\"obtain\" + 0.013*\"requir\" + 0.013*\"regulatori\" + 0.012*\"market\"'),\n",
       " (4,\n",
       "  '0.021*\"properti\" + 0.020*\"patent\" + 0.019*\"claim\" + 0.014*\"intellectu\" + 0.014*\"protect\" + 0.013*\"secur\" + 0.013*\"parti\" + 0.013*\"liabil\" + 0.012*\"right\" + 0.012*\"insur\"'),\n",
       " (5,\n",
       "  '0.089*\"advers\" + 0.077*\"result\" + 0.064*\"financi\" + 0.056*\"affect\" + 0.052*\"materi\" + 0.046*\"oper\" + 0.039*\"business\" + 0.036*\"operations\" + 0.036*\"effect\" + 0.029*\"condit\"'),\n",
       " (6,\n",
       "  '0.031*\"increas\" + 0.026*\"price\" + 0.024*\"market\" + 0.018*\"cost\" + 0.017*\"revenu\" + 0.017*\"result\" + 0.015*\"econom\" + 0.015*\"reduc\" + 0.014*\"sale\" + 0.014*\"demand\"'),\n",
       " (7,\n",
       "  '0.031*\"report\" + 0.023*\"million\" + 0.022*\"financi\" + 0.022*\"loan\" + 0.019*\"decemb\" + 0.019*\"risk\" + 0.018*\"year\" + 0.015*\"account\" + 0.013*\"real\" + 0.013*\"control\"'),\n",
       " (8,\n",
       "  '0.065*\"stock\" + 0.045*\"common\" + 0.033*\"share\" + 0.025*\"price\" + 0.018*\"stockhold\" + 0.016*\"director\" + 0.016*\"board\" + 0.015*\"market\" + 0.011*\"control\" + 0.010*\"class\"'),\n",
       " (9,\n",
       "  '0.026*\"credit\" + 0.024*\"term\" + 0.024*\"capit\" + 0.023*\"debt\" + 0.022*\"agreement\" + 0.018*\"abil\" + 0.017*\"fund\" + 0.015*\"payment\" + 0.015*\"requir\" + 0.014*\"cash\"')]"
      ]
     },
     "execution_count": 4,
     "metadata": {},
     "output_type": "execute_result"
    }
   ],
   "source": [
    "itemLDA.show_topics()"
   ]
  },
  {
   "cell_type": "code",
   "execution_count": 18,
   "metadata": {},
   "outputs": [],
   "source": [
    "import re"
   ]
  },
  {
   "cell_type": "code",
   "execution_count": 23,
   "metadata": {},
   "outputs": [],
   "source": [
    "topic_nums = []\n",
    "word_labels = []\n",
    "word_weights = []\n",
    "\n",
    "for item in itemLDA.print_topics():\n",
    "    topic_nums.append(item[0])\n",
    "    labels = []\n",
    "    values = []\n",
    "    for word_value in item[1].split(\"+\"):\n",
    "        word_value_arr = word_value.strip().split(\"*\")\n",
    "        values.append(float(word_value_arr[0].strip()))\n",
    "        labels.append(re.sub(\"\\\"\", \"\", word_value_arr[1].strip()))\n",
    "    word_labels.append(labels)\n",
    "    word_weights.append(values)\n",
    "    "
   ]
  },
  {
   "cell_type": "code",
   "execution_count": 24,
   "metadata": {},
   "outputs": [
    {
     "data": {
      "text/plain": [
       "[0, 1, 2, 3, 4, 5, 6, 7, 8, 9]"
      ]
     },
     "execution_count": 24,
     "metadata": {},
     "output_type": "execute_result"
    }
   ],
   "source": [
    "topic_nums"
   ]
  },
  {
   "cell_type": "code",
   "execution_count": null,
   "metadata": {},
   "outputs": [],
   "source": [
    "import matplotlib.plt as plt"
   ]
  },
  {
   "cell_type": "code",
   "execution_count": 26,
   "metadata": {},
   "outputs": [
    {
     "ename": "AttributeError",
     "evalue": "'Figure' object has no attribute 'set_title'",
     "output_type": "error",
     "traceback": [
      "\u001b[0;31m---------------------------------------------------------------------------\u001b[0m",
      "\u001b[0;31mAttributeError\u001b[0m                            Traceback (most recent call last)",
      "\u001b[0;32m<ipython-input-26-6cf00a6ccd48>\u001b[0m in \u001b[0;36m<module>\u001b[0;34m\u001b[0m\n\u001b[1;32m      4\u001b[0m \u001b[0;34m\u001b[0m\u001b[0m\n\u001b[1;32m      5\u001b[0m \u001b[0mfig\u001b[0m \u001b[0;34m=\u001b[0m \u001b[0mplt\u001b[0m\u001b[0;34m.\u001b[0m\u001b[0mfigure\u001b[0m\u001b[0;34m(\u001b[0m\u001b[0;34m)\u001b[0m\u001b[0;34m\u001b[0m\u001b[0;34m\u001b[0m\u001b[0m\n\u001b[0;32m----> 6\u001b[0;31m \u001b[0mfig\u001b[0m\u001b[0;34m.\u001b[0m\u001b[0mset_title\u001b[0m\u001b[0;34m(\u001b[0m\u001b[0mtopics\u001b[0m\u001b[0;34m)\u001b[0m\u001b[0;34m\u001b[0m\u001b[0;34m\u001b[0m\u001b[0m\n\u001b[0m\u001b[1;32m      7\u001b[0m \u001b[0mfig\u001b[0m\u001b[0;34m.\u001b[0m\u001b[0mset_xlabel\u001b[0m\u001b[0;34m(\u001b[0m\u001b[0;34m\"Word\"\u001b[0m\u001b[0;34m)\u001b[0m\u001b[0;34m\u001b[0m\u001b[0;34m\u001b[0m\u001b[0m\n\u001b[1;32m      8\u001b[0m \u001b[0mfig\u001b[0m\u001b[0;34m.\u001b[0m\u001b[0mset_xticklabels\u001b[0m\u001b[0;34m(\u001b[0m\u001b[0mlabels\u001b[0m\u001b[0;34m)\u001b[0m\u001b[0;34m\u001b[0m\u001b[0;34m\u001b[0m\u001b[0m\n",
      "\u001b[0;31mAttributeError\u001b[0m: 'Figure' object has no attribute 'set_title'"
     ]
    },
    {
     "data": {
      "text/plain": [
       "<Figure size 432x288 with 0 Axes>"
      ]
     },
     "metadata": {},
     "output_type": "display_data"
    }
   ],
   "source": [
    "topic = topic_nums[0]\n",
    "labels = word_labels[0]\n",
    "weights = word_weights[0]\n",
    "\n",
    "fig = plt.figure()\n",
    "ax = sns.barplot(x=\"Words\", y=\"Importance\", data=tips)\n",
    "ax.set_title(topics)\n",
    "#ax.set_xlabel(\"Word\")\n",
    "ax.set_xticklabels(labels)\n",
    "#ax.set_ylabel(\"Importance\")"
   ]
  },
  {
   "cell_type": "code",
   "execution_count": null,
   "metadata": {},
   "outputs": [],
   "source": [
    "for topic,labels,weights in zip(topic_nums, word_labels, word_weights):\n",
    "    fig = plt.figure()\n",
    "    \n",
    "    fig.set_title(\"Topic {}\".format(topic))\n",
    "    fig.set_xlabel(\"Word\")\n",
    "    fig.set_xticklabels(labels)\n",
    "    fig.set_ylabel(\"CIK Index (Sorted)\")\n",
    "    "
   ]
  },
  {
   "cell_type": "code",
   "execution_count": null,
   "metadata": {},
   "outputs": [],
   "source": [
    "fig, axs = plt.subplots(2,2, figsize=(15,20))"
   ]
  },
  {
   "cell_type": "code",
   "execution_count": 25,
   "metadata": {},
   "outputs": [
    {
     "data": {
      "text/plain": [
       "[[0.02, 0.018, 0.017, 0.013, 0.013, 0.012, 0.012, 0.012, 0.012, 0.01],\n",
       " [0.026, 0.024, 0.022, 0.019, 0.015, 0.015, 0.015, 0.014, 0.014, 0.013],\n",
       " [0.027, 0.027, 0.018, 0.018, 0.017, 0.014, 0.011, 0.01, 0.01, 0.01],\n",
       " [0.064, 0.022, 0.019, 0.018, 0.018, 0.017, 0.013, 0.013, 0.013, 0.012],\n",
       " [0.021, 0.02, 0.019, 0.014, 0.014, 0.013, 0.013, 0.013, 0.012, 0.012],\n",
       " [0.089, 0.077, 0.064, 0.056, 0.052, 0.046, 0.039, 0.036, 0.036, 0.029],\n",
       " [0.031, 0.026, 0.024, 0.018, 0.017, 0.017, 0.015, 0.015, 0.014, 0.014],\n",
       " [0.031, 0.023, 0.022, 0.022, 0.019, 0.019, 0.018, 0.015, 0.013, 0.013],\n",
       " [0.065, 0.045, 0.033, 0.025, 0.018, 0.016, 0.016, 0.015, 0.011, 0.01],\n",
       " [0.026, 0.024, 0.024, 0.023, 0.022, 0.018, 0.017, 0.015, 0.015, 0.014]]"
      ]
     },
     "execution_count": 25,
     "metadata": {},
     "output_type": "execute_result"
    }
   ],
   "source": [
    "word_weights"
   ]
  },
  {
   "cell_type": "code",
   "execution_count": 21,
   "metadata": {},
   "outputs": [
    {
     "data": {
      "text/plain": [
       "[['servic',\n",
       "  'busi',\n",
       "  'new',\n",
       "  'abil',\n",
       "  'manag',\n",
       "  'product',\n",
       "  'custom',\n",
       "  'our',\n",
       "  'market',\n",
       "  'provid'],\n",
       " ['regul',\n",
       "  'law',\n",
       "  'state',\n",
       "  'subject',\n",
       "  'requir',\n",
       "  'unit',\n",
       "  'govern',\n",
       "  'foreign',\n",
       "  'regulatori',\n",
       "  'chang'],\n",
       " ['invest',\n",
       "  'tax',\n",
       "  'asset',\n",
       "  'valu',\n",
       "  'incom',\n",
       "  'acquisit',\n",
       "  'rate',\n",
       "  'futur',\n",
       "  'result',\n",
       "  'loss'],\n",
       " ['product',\n",
       "  'develop',\n",
       "  'manufactur',\n",
       "  'approv',\n",
       "  'clinic',\n",
       "  'commerci',\n",
       "  'obtain',\n",
       "  'requir',\n",
       "  'regulatori',\n",
       "  'market'],\n",
       " ['properti',\n",
       "  'patent',\n",
       "  'claim',\n",
       "  'intellectu',\n",
       "  'protect',\n",
       "  'secur',\n",
       "  'parti',\n",
       "  'liabil',\n",
       "  'right',\n",
       "  'insur'],\n",
       " ['advers',\n",
       "  'result',\n",
       "  'financi',\n",
       "  'affect',\n",
       "  'materi',\n",
       "  'oper',\n",
       "  'business',\n",
       "  'operations',\n",
       "  'effect',\n",
       "  'condit'],\n",
       " ['increas',\n",
       "  'price',\n",
       "  'market',\n",
       "  'cost',\n",
       "  'revenu',\n",
       "  'result',\n",
       "  'econom',\n",
       "  'reduc',\n",
       "  'sale',\n",
       "  'demand'],\n",
       " ['report',\n",
       "  'million',\n",
       "  'financi',\n",
       "  'loan',\n",
       "  'decemb',\n",
       "  'risk',\n",
       "  'year',\n",
       "  'account',\n",
       "  'real',\n",
       "  'control'],\n",
       " ['stock',\n",
       "  'common',\n",
       "  'share',\n",
       "  'price',\n",
       "  'stockhold',\n",
       "  'director',\n",
       "  'board',\n",
       "  'market',\n",
       "  'control',\n",
       "  'class'],\n",
       " ['credit',\n",
       "  'term',\n",
       "  'capit',\n",
       "  'debt',\n",
       "  'agreement',\n",
       "  'abil',\n",
       "  'fund',\n",
       "  'payment',\n",
       "  'requir',\n",
       "  'cash']]"
      ]
     },
     "execution_count": 21,
     "metadata": {},
     "output_type": "execute_result"
    }
   ],
   "source": [
    "word_labels"
   ]
  },
  {
   "cell_type": "code",
   "execution_count": null,
   "metadata": {},
   "outputs": [],
   "source": []
  },
  {
   "cell_type": "code",
   "execution_count": 7,
   "metadata": {},
   "outputs": [],
   "source": [
    "smallLDA = LdaModel.load(path + \"2012_2012_item1a\")"
   ]
  },
  {
   "cell_type": "code",
   "execution_count": 8,
   "metadata": {},
   "outputs": [
    {
     "data": {
      "text/plain": [
       "[(0,\n",
       "  '0.086*\"result\" + 0.071*\"advers\" + 0.046*\"financi\" + 0.046*\"affect\" + 0.044*\"oper\" + 0.038*\"materi\" + 0.032*\"business\" + 0.031*\"effect\" + 0.026*\"operations\" + 0.022*\"impact\"'),\n",
       " (1,\n",
       "  '0.035*\"market\" + 0.029*\"risk\" + 0.019*\"econom\" + 0.015*\"chang\" + 0.014*\"the\" + 0.013*\"price\" + 0.013*\"factor\" + 0.012*\"rate\" + 0.012*\"industri\" + 0.010*\"oper\"'),\n",
       " (2,\n",
       "  '0.050*\"product\" + 0.021*\"develop\" + 0.018*\"market\" + 0.014*\"new\" + 0.013*\"servic\" + 0.013*\"technolog\" + 0.011*\"patent\" + 0.011*\"products\" + 0.010*\"commerci\" + 0.010*\"properti\"'),\n",
       " (3,\n",
       "  '0.024*\"tax\" + 0.019*\"incom\" + 0.017*\"asset\" + 0.016*\"year\" + 0.016*\"million\" + 0.015*\"valu\" + 0.015*\"net\" + 0.013*\"revenu\" + 0.012*\"decemb\" + 0.010*\"period\"'),\n",
       " (4,\n",
       "  '0.033*\"manag\" + 0.031*\"busi\" + 0.018*\"abil\" + 0.017*\"oper\" + 0.015*\"our\" + 0.014*\"acquir\" + 0.014*\"acquisit\" + 0.014*\"continu\" + 0.013*\"personnel\" + 0.013*\"depend\"'),\n",
       " (5,\n",
       "  '0.030*\"regul\" + 0.027*\"law\" + 0.025*\"state\" + 0.020*\"subject\" + 0.017*\"requir\" + 0.017*\"regulatori\" + 0.017*\"govern\" + 0.015*\"unit\" + 0.013*\"feder\" + 0.012*\"act\"'),\n",
       " (6,\n",
       "  '0.023*\"capit\" + 0.021*\"credit\" + 0.021*\"debt\" + 0.019*\"loan\" + 0.017*\"term\" + 0.017*\"fund\" + 0.015*\"agreement\" + 0.014*\"abil\" + 0.014*\"invest\" + 0.013*\"secur\"'),\n",
       " (7,\n",
       "  '0.028*\"insur\" + 0.019*\"inform\" + 0.017*\"claim\" + 0.015*\"data\" + 0.015*\"liabil\" + 0.013*\"control\" + 0.013*\"secur\" + 0.013*\"system\" + 0.011*\"provid\" + 0.011*\"report\"'),\n",
       " (8,\n",
       "  '0.030*\"product\" + 0.024*\"cost\" + 0.020*\"custom\" + 0.019*\"increas\" + 0.016*\"manufactur\" + 0.015*\"price\" + 0.014*\"natur\" + 0.013*\"demand\" + 0.012*\"contract\" + 0.012*\"oil\"'),\n",
       " (9,\n",
       "  '0.064*\"stock\" + 0.044*\"common\" + 0.033*\"share\" + 0.023*\"price\" + 0.018*\"stockhold\" + 0.016*\"director\" + 0.015*\"board\" + 0.012*\"control\" + 0.011*\"market\" + 0.011*\"prefer\"')]"
      ]
     },
     "execution_count": 8,
     "metadata": {},
     "output_type": "execute_result"
    }
   ],
   "source": [
    "smallLDA.print_topics()"
   ]
  },
  {
   "cell_type": "code",
   "execution_count": null,
   "metadata": {},
   "outputs": [],
   "source": []
  }
 ],
 "metadata": {
  "kernelspec": {
   "display_name": "Python 3",
   "language": "python",
   "name": "python3"
  },
  "language_info": {
   "codemirror_mode": {
    "name": "ipython",
    "version": 3
   },
   "file_extension": ".py",
   "mimetype": "text/x-python",
   "name": "python",
   "nbconvert_exporter": "python",
   "pygments_lexer": "ipython3",
   "version": "3.8.5"
  }
 },
 "nbformat": 4,
 "nbformat_minor": 4
}
