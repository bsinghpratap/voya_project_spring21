{
 "cells": [
  {
   "cell_type": "code",
   "execution_count": 1,
   "metadata": {},
   "outputs": [],
   "source": [
    "import pandas as pd\n",
    "import numpy as np\n",
    "from nltk.tokenize import RegexpTokenizer\n",
    "from nltk.stem.wordnet import WordNetLemmatizer\n",
    "from gensim.models.ldamulticore import LdaMulticore\n",
    "\n",
    "from gensim.models import Phrases\n",
    "from gensim.parsing.preprocessing import preprocess_string, remove_stopwords, strip_numeric, strip_punctuation, strip_short, stem_text\n",
    "from gensim.test.utils import common_corpus\n",
    "import matplotlib.pyplot as plt"
   ]
  },
  {
   "cell_type": "code",
   "execution_count": 3,
   "metadata": {},
   "outputs": [],
   "source": [
    "import sys\n",
    "sys.path.append('../')\n",
    "from util import load_data, load_gensim_data"
   ]
  },
  {
   "cell_type": "code",
   "execution_count": 4,
   "metadata": {},
   "outputs": [],
   "source": [
    "data, X, y = load_data(path='../../Files/')"
   ]
  },
  {
   "cell_type": "code",
   "execution_count": 8,
   "metadata": {},
   "outputs": [],
   "source": [
    "corpus = {\n",
    "    '1a': unpickle('2013-2016_item1a_corpus.pkl', '../../Files/gensim/'),\n",
    "    '7': unpickle('2013-2016_item7_corpus.pkl', '../../Files/gensim/')\n",
    "}\n",
    "\n",
    "id2word = {\n",
    "    '1a': unpickle('2013-2016_item1a_id2word.pkl', '../../Files/gensim/'),\n",
    "    '7': unpickle('2013-2016_item7_id2word.pkl', '../../Files/gensim/')\n",
    "}"
   ]
  },
  {
   "cell_type": "code",
   "execution_count": null,
   "metadata": {},
   "outputs": [],
   "source": [
    "corpus, id2word = load_gensim_data([2014, 2017], path='../Files/gensim')"
   ]
  },
  {
   "cell_type": "code",
   "execution_count": 11,
   "metadata": {},
   "outputs": [],
   "source": [
    "params = {\n",
    "    'num_topics': 30,\n",
    "    'chunksize': 2000,\n",
    "    'passes': 20,\n",
    "    'iterations': 400,\n",
    "    'eval_every': None,\n",
    "    'alpha': 'symmetric',\n",
    "    'eta': 'auto'\n",
    "}"
   ]
  },
  {
   "cell_type": "code",
   "execution_count": 12,
   "metadata": {},
   "outputs": [],
   "source": [
    "models = {}\n",
    "for item in corpus:\n",
    "    models[item] = LdaMulticore(\n",
    "        corpus=corpus[item],\n",
    "        id2word=id2word[item],\n",
    "        workers=32,\n",
    "        **params\n",
    "    )"
   ]
  },
  {
   "cell_type": "code",
   "execution_count": 14,
   "metadata": {},
   "outputs": [
    {
     "name": "stdout",
     "output_type": "stream",
     "text": [
      "[(17, '0.078*\"loan\" + 0.060*\"bank\" + 0.021*\"deposit\" + 0.016*\"real\" + 0.015*\"estat\"'), (10, '0.030*\"wireless\" + 0.020*\"spectrum\" + 0.020*\"fcc\" + 0.020*\"carrier\" + 0.013*\"telecommun\"'), (29, '0.048*\"candid\" + 0.044*\"clinic\" + 0.035*\"trial\" + 0.033*\"patent\" + 0.026*\"clinic_trial\"'), (22, '0.037*\"care\" + 0.028*\"healthcar\" + 0.026*\"medicar\" + 0.017*\"patient\" + 0.016*\"health_care\"'), (19, '0.050*\"game\" + 0.037*\"aircraft\" + 0.022*\"airlin\" + 0.018*\"china\" + 0.014*\"travel\"')]\n"
     ]
    }
   ],
   "source": [
    "# models['item1a'].print_topics(num_topics=5, num_words=5)\n",
    "# models['item7'].print_topics(num_topics=5, num_words=5)\n",
    "print(models['1a'].show_topics(num_topics=5, num_words=5, formatted=True))\n",
    "\n",
    "# Look at things your throwing out in filtering\n",
    "# Look at strange occurences \"duke\"\n",
    "# Look at total perecent of words that are made up\n",
    "# Split by sector"
   ]
  },
  {
   "cell_type": "code",
   "execution_count": 96,
   "metadata": {},
   "outputs": [],
   "source": [
    "results = []\n",
    "for doc_idx in range(item1a.shape[0]):\n",
    "    result_doc = {}\n",
    "    for item in items:\n",
    "        lda_model = models[item]\n",
    "        scores = []\n",
    "        topics = []\n",
    "        for index, score in sorted(lda_model[corpus[item][doc_idx]], key=lambda tup: -1*tup[1]):\n",
    "#             print (\"Score: {}\\t Topic ID: {} Topic: {}\".format(score, index, lda_model.print_topic(index, 10)))\n",
    "            topics.append(dictionaries[item][index])\n",
    "            scores.append(score)\n",
    "        result_doc[item] = (topics, scores)\n",
    "    results.append(result_doc)"
   ]
  },
  {
   "cell_type": "code",
   "execution_count": 150,
   "metadata": {},
   "outputs": [
    {
     "name": "stdout",
     "output_type": "stream",
     "text": [
      "item1a:\n",
      "[0.03333334 0.03333334 0.03333334 0.03333334 0.03333334 0.03333334\n",
      " 0.03333334 0.03333334 0.03333334 0.03333334 0.03333334 0.03333334\n",
      " 0.03333334 0.03333334 0.03333334 0.03333334 0.03333334 0.03333334\n",
      " 0.03333334 0.03333334 0.03333334 0.03333334 0.03333334 0.03333334\n",
      " 0.03333334 0.03333334 0.03333334 0.03333334 0.03333334 0.03333334]\n",
      "[0.07455198 0.47855908 0.11533958 ... 0.04148679 0.0340654  0.03422894]\n",
      "item7:\n",
      "[0.03333334 0.03333334 0.03333334 0.03333334 0.03333334 0.03333334\n",
      " 0.03333334 0.03333334 0.03333334 0.03333334 0.03333334 0.03333334\n",
      " 0.03333334 0.03333334 0.03333334 0.03333334 0.03333334 0.03333334\n",
      " 0.03333334 0.03333334 0.03333334 0.03333334 0.03333334 0.03333334\n",
      " 0.03333334 0.03333334 0.03333334 0.03333334 0.03333334 0.03333334]\n",
      "[0.18083873 0.05202858 0.6822381  ... 0.08863842 0.05057403 0.06306964]\n"
     ]
    }
   ],
   "source": [
    "for item in items:\n",
    "    lda_model = models[item]\n",
    "    print(f'{item}:')\n",
    "    print(lda_model.alpha)\n",
    "    print(lda_model.eta)"
   ]
  },
  {
   "cell_type": "code",
   "execution_count": 108,
   "metadata": {},
   "outputs": [
    {
     "data": {
      "text/plain": [
       "array([0.02, 0.02, 0.02, ..., 0.02, 0.02, 0.02], dtype=float32)"
      ]
     },
     "execution_count": 108,
     "metadata": {},
     "output_type": "execute_result"
    }
   ],
   "source": [
    "lda_model.eta"
   ]
  }
 ],
 "metadata": {
  "kernelspec": {
   "display_name": "venv",
   "language": "python",
   "name": "venv"
  },
  "language_info": {
   "codemirror_mode": {
    "name": "ipython",
    "version": 3
   },
   "file_extension": ".py",
   "mimetype": "text/x-python",
   "name": "python",
   "nbconvert_exporter": "python",
   "pygments_lexer": "ipython3",
   "version": "3.8.3"
  }
 },
 "nbformat": 4,
 "nbformat_minor": 4
}
