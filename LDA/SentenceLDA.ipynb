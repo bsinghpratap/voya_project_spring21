{
 "cells": [
  {
   "cell_type": "code",
   "execution_count": 1,
   "metadata": {
    "ExecuteTime": {
     "end_time": "2021-03-15T18:58:40.766088Z",
     "start_time": "2021-03-15T18:58:39.472846Z"
    }
   },
   "outputs": [],
   "source": [
    "import pickle\n",
    "from gensim.models.ldamulticore import LdaMulticore\n",
    "\n",
    "path = \"../../Files/\"\n",
    "year_start = 2009\n",
    "year_end = 2011"
   ]
  },
  {
   "cell_type": "code",
   "execution_count": 2,
   "metadata": {
    "ExecuteTime": {
     "end_time": "2021-03-15T18:58:52.394430Z",
     "start_time": "2021-03-15T18:58:41.494750Z"
    }
   },
   "outputs": [],
   "source": [
    "base = path + str(year_start) + \"-\" + str(year_end) + \"_\"\n",
    "with open(base + \"item1a_corpus.pkl\", 'rb') as pickle_file:\n",
    "    one_corpus = pickle.load(pickle_file)\n",
    "with open(base + \"item1a_id2word.pkl\", 'rb') as pickle_file:\n",
    "    one_id2word = pickle.load(pickle_file)\n",
    "with open(base + \"item7_corpus.pkl\", 'rb') as pickle_file:\n",
    "    seven_corpus = pickle.load(pickle_file)\n",
    "with open(base + \"item7_id2word.pkl\", 'rb') as pickle_file:\n",
    "    seven_id2word = pickle.load(pickle_file)"
   ]
  },
  {
   "cell_type": "code",
   "execution_count": 6,
   "metadata": {
    "ExecuteTime": {
     "end_time": "2021-03-15T19:07:17.021481Z",
     "start_time": "2021-03-15T19:07:17.007721Z"
    }
   },
   "outputs": [],
   "source": [
    "models = {}\n",
    "\n",
    "params = {\n",
    "    'num_topics': 30,\n",
    "    'chunksize': 2000,\n",
    "    'passes': 20,\n",
    "    'iterations': 400,\n",
    "    'eval_every': None,\n",
    "    'alpha': 'asymmetric',\n",
    "    'eta': 'auto'\n",
    "}"
   ]
  },
  {
   "cell_type": "code",
   "execution_count": null,
   "metadata": {
    "ExecuteTime": {
     "start_time": "2021-03-15T19:07:19.274Z"
    }
   },
   "outputs": [],
   "source": [
    "models[\"item1a\"] = LdaMulticore(\n",
    "        corpus=one_corpus,\n",
    "        id2word=one_id2word,\n",
    "        workers=32,\n",
    "        **params\n",
    "    )"
   ]
  },
  {
   "cell_type": "code",
   "execution_count": null,
   "metadata": {},
   "outputs": [],
   "source": [
    "models[\"item7\"] = LdaMulticore(\n",
    "        corpus=seven_corpus,\n",
    "        id2word=seven_id2word,\n",
    "        workers=32,\n",
    "        **params\n",
    "    )"
   ]
  }
 ],
 "metadata": {
  "kernelspec": {
   "display_name": "Python 3",
   "language": "python",
   "name": "python3"
  },
  "language_info": {
   "codemirror_mode": {
    "name": "ipython",
    "version": 3
   },
   "file_extension": ".py",
   "mimetype": "text/x-python",
   "name": "python",
   "nbconvert_exporter": "python",
   "pygments_lexer": "ipython3",
   "version": "3.8.5"
  }
 },
 "nbformat": 4,
 "nbformat_minor": 4
}
