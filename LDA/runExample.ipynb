{
 "cells": [
  {
   "cell_type": "code",
   "execution_count": 1,
   "metadata": {},
   "outputs": [],
   "source": [
    "import pickle\n",
    "from gensim.models.ldamulticore import LdaMulticore"
   ]
  },
  {
   "cell_type": "code",
   "execution_count": 2,
   "metadata": {},
   "outputs": [],
   "source": [
    "path = \"/mnt/nfs/scratch1/hshukla/\"\n",
    "year_start = 2012\n",
    "year_end = 2016\n",
    "\n",
    "params = {\n",
    "    'num_topics': 10,\n",
    "    'chunksize': 2000,\n",
    "    'passes': 20,\n",
    "    'iterations': 400,\n",
    "    'eval_every': None,\n",
    "    'alpha': 'asymmetric',\n",
    "    'eta': 'auto'\n",
    "}"
   ]
  },
  {
   "cell_type": "code",
   "execution_count": 3,
   "metadata": {},
   "outputs": [],
   "source": [
    "base = path + str(year_start) + \"_\" + str(year_end) + \"_\"\n",
    "with open(base + \"item1a_corpus.pkl\", 'rb') as pickle_file:\n",
    "    one_corpus = pickle.load(pickle_file)\n",
    "with open(base + \"item1a_id2word.pkl\", 'rb') as pickle_file:\n",
    "    one_id2word = pickle.load(pickle_file)\n",
    "# with open(base + \"item7_corpus.pkl\", 'rb') as pickle_file:\n",
    "#     seven_corpus = pickle.load(pickle_file)\n",
    "# with open(base + \"item7_id2word.pkl\", 'rb') as pickle_file:\n",
    "#     seven_id2word = pickle.load(pickle_file)"
   ]
  },
  {
   "cell_type": "code",
   "execution_count": 4,
   "metadata": {},
   "outputs": [],
   "source": [
    "lda = LdaMulticore(\n",
    "        corpus=one_corpus,\n",
    "        id2word=one_id2word,\n",
    "        workers=8,\n",
    "        **params)"
   ]
  },
  {
   "cell_type": "code",
   "execution_count": 5,
   "metadata": {},
   "outputs": [],
   "source": [
    "lda.save(base + \"item1full\")"
   ]
  },
  {
   "cell_type": "code",
   "execution_count": 12,
   "metadata": {},
   "outputs": [],
   "source": []
  }
 ],
 "metadata": {
  "kernelspec": {
   "display_name": "Python 3",
   "language": "python",
   "name": "python3"
  },
  "language_info": {
   "codemirror_mode": {
    "name": "ipython",
    "version": 3
   },
   "file_extension": ".py",
   "mimetype": "text/x-python",
   "name": "python",
   "nbconvert_exporter": "python",
   "pygments_lexer": "ipython3",
   "version": "3.8.5"
  }
 },
 "nbformat": 4,
 "nbformat_minor": 4
}
