{
 "cells": [
  {
   "cell_type": "code",
   "execution_count": 3,
   "metadata": {},
   "outputs": [],
   "source": [
    "import gensim\n",
    "from gensim import corpora\n",
    "from gensim.utils import simple_preprocess\n",
    "import pandas as pd\n",
    "\n",
    "def load_data(path='../../Files/', bow=False):\n",
    "    # Load processed data\n",
    "    filename = 'processed_data.csv' if not bow else 'processed_data_bow.csv'\n",
    "    proc_df = pd.read_csv(path+filename)\n",
    "    \n",
    "    # Load predictions\n",
    "    relevant_cols = [\"PERMID\", \"CIK\", \"Ticker\", \"year\", \"FilingDate\", \"company_name\", \"Dividend Payer\", \"DPS growth\", \"DPS cut\", \"zEnvironmental\", \"dEnvironmental\", \"sector\"]\n",
    "    pred_df = pd.read_excel(path + \"predictions.xlsx\", sheet_name=\"data\", skiprows=32, usecols=relevant_cols)\n",
    "    pred_df.columns = [\"perm_id\", \"cik\", \"ticker\", \"year\", \"filing_date\", \"company_name\", \"is_dividend_payer\", \"dps_change\", \"is_dps_cut\", \"z_environmental\", \"d_environmental\", \"sector\"]\n",
    "    pred_df['perm_id'] = pred_df['perm_id'].str.replace(r\"[^0-9]\",'')\n",
    "    pred_df[\"filing_date\"] = pd.to_datetime(pred_df[\"filing_date\"])\n",
    "    pred_df[\"filing_year\"] = pd.DatetimeIndex(pred_df[\"filing_date\"]).year\n",
    "    \n",
    "    return proc_df, pred_df\n",
    "\n",
    "def preprocess_for_gensim(data):\n",
    "    for section in ('item1a_risk', 'item7_mda'):\n",
    "        doc_list = data[section]\n",
    "        doc_tokenized = [simple_preprocess(doc) for doc in doc_list]\n",
    "        dictionary = corpora.Dictionary()\n",
    "        bow_corpus = [dictionary.doc2bow(doc, allow_update=True) for doc in doc_tokenized]\n",
    "        data[section+'_bow'] = bow_corpus\n",
    "    \n",
    "    return data"
   ]
  }
 ],
 "metadata": {
  "kernelspec": {
   "display_name": "Python 3",
   "language": "python",
   "name": "python3"
  },
  "language_info": {
   "codemirror_mode": {
    "name": "ipython",
    "version": 3
   },
   "file_extension": ".py",
   "mimetype": "text/x-python",
   "name": "python",
   "nbconvert_exporter": "python",
   "pygments_lexer": "ipython3",
   "version": "3.8.5"
  }
 },
 "nbformat": 4,
 "nbformat_minor": 4
}
